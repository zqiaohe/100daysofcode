{
  "nbformat": 4,
  "nbformat_minor": 0,
  "metadata": {
    "colab": {
      "name": "NLTKdataset.ipynb",
      "version": "0.3.2",
      "provenance": [],
      "toc_visible": true,
      "include_colab_link": true
    },
    "kernelspec": {
      "name": "python3",
      "display_name": "Python 3"
    }
  },
  "cells": [
    {
      "cell_type": "markdown",
      "metadata": {
        "id": "view-in-github",
        "colab_type": "text"
      },
      "source": [
        "<a href=\"https://colab.research.google.com/github/zqiaohe/100daysofcode/blob/master/NLTKdataset.ipynb\" target=\"_parent\"><img src=\"https://colab.research.google.com/assets/colab-badge.svg\" alt=\"Open In Colab\"/></a>"
      ]
    },
    {
      "metadata": {
        "id": "zDBvmHkY8UpA",
        "colab_type": "text"
      },
      "cell_type": "markdown",
      "source": [
        "#Загрузка датасета"
      ]
    },
    {
      "metadata": {
        "id": "wH5c2JKOy00O",
        "colab_type": "code",
        "colab": {
          "base_uri": "https://localhost:8080/",
          "height": 208
        },
        "outputId": "e58b770e-6f03-405b-9fed-d381ce323238"
      },
      "cell_type": "code",
      "source": [
        "!pip3 install kaggle"
      ],
      "execution_count": 1,
      "outputs": [
        {
          "output_type": "stream",
          "text": [
            "Requirement already satisfied: kaggle in /usr/local/lib/python3.6/dist-packages (1.5.3)\n",
            "Requirement already satisfied: urllib3<1.25,>=1.21.1 in /usr/local/lib/python3.6/dist-packages (from kaggle) (1.22)\n",
            "Requirement already satisfied: six>=1.10 in /usr/local/lib/python3.6/dist-packages (from kaggle) (1.11.0)\n",
            "Requirement already satisfied: certifi in /usr/local/lib/python3.6/dist-packages (from kaggle) (2019.3.9)\n",
            "Requirement already satisfied: python-dateutil in /usr/local/lib/python3.6/dist-packages (from kaggle) (2.5.3)\n",
            "Requirement already satisfied: requests in /usr/local/lib/python3.6/dist-packages (from kaggle) (2.18.4)\n",
            "Requirement already satisfied: tqdm in /usr/local/lib/python3.6/dist-packages (from kaggle) (4.28.1)\n",
            "Requirement already satisfied: python-slugify in /usr/local/lib/python3.6/dist-packages (from kaggle) (3.0.0)\n",
            "Requirement already satisfied: chardet<3.1.0,>=3.0.2 in /usr/local/lib/python3.6/dist-packages (from requests->kaggle) (3.0.4)\n",
            "Requirement already satisfied: idna<2.7,>=2.5 in /usr/local/lib/python3.6/dist-packages (from requests->kaggle) (2.6)\n",
            "Requirement already satisfied: text-unidecode==1.2 in /usr/local/lib/python3.6/dist-packages (from python-slugify->kaggle) (1.2)\n"
          ],
          "name": "stdout"
        }
      ]
    },
    {
      "metadata": {
        "id": "m1NMHrI37dZj",
        "colab_type": "code",
        "colab": {}
      },
      "cell_type": "code",
      "source": [
        "import os\n",
        "import pandas as pd"
      ],
      "execution_count": 0,
      "outputs": []
    },
    {
      "metadata": {
        "id": "be5QYRyB7Yfz",
        "colab_type": "code",
        "colab": {}
      },
      "cell_type": "code",
      "source": [
        "user = 'qiaohe'\n",
        "key = '6992d820d95bfc00100fdab824b8ccbb'\n",
        " \n",
        "if '.kaggle' not in os.listdir('/root'):\n",
        "    !mkdir ~/.kaggle\n",
        "!touch /root/.kaggle/kaggle.json\n",
        "!chmod 666 /root/.kaggle/kaggle.json\n",
        "with open('/root/.kaggle/kaggle.json', 'w') as f:\n",
        "    f.write('{\"username\":\"%s\",\"key\":\"%s\"}' % (user, key))\n",
        "!chmod 600 /root/.kaggle/kaggle.json"
      ],
      "execution_count": 0,
      "outputs": []
    },
    {
      "metadata": {
        "id": "69D8ao4u7gir",
        "colab_type": "code",
        "colab": {
          "base_uri": "https://localhost:8080/",
          "height": 173
        },
        "outputId": "5c471949-f15b-4660-b416-c74c2c3f7927"
      },
      "cell_type": "code",
      "source": [
        "!kaggle competitions download -c changellenge-cupit-2019-posneg"
      ],
      "execution_count": 5,
      "outputs": [
        {
          "output_type": "stream",
          "text": [
            "Downloading test_data.csv.zip to /content\n",
            "\r  0% 0.00/1.23M [00:00<?, ?B/s]\n",
            "100% 1.23M/1.23M [00:00<00:00, 81.0MB/s]\n",
            "Downloading train_data.csv.zip to /content\n",
            "100% 4.23M/4.23M [00:00<00:00, 25.0MB/s]\n",
            "\n",
            "Downloading sample_submission.csv to /content\n",
            "  0% 0.00/51.3k [00:00<?, ?B/s]\n",
            "100% 51.3k/51.3k [00:00<00:00, 49.3MB/s]\n"
          ],
          "name": "stdout"
        }
      ]
    },
    {
      "metadata": {
        "id": "sk0WOL4m7nss",
        "colab_type": "code",
        "colab": {
          "base_uri": "https://localhost:8080/",
          "height": 52
        },
        "outputId": "b361513b-a0e9-42ec-f643-45031cba07bb"
      },
      "cell_type": "code",
      "source": [
        "!unzip train_data.csv.zip -d train"
      ],
      "execution_count": 6,
      "outputs": [
        {
          "output_type": "stream",
          "text": [
            "Archive:  train_data.csv.zip\n",
            "  inflating: train/train_data.csv    \n"
          ],
          "name": "stdout"
        }
      ]
    },
    {
      "metadata": {
        "id": "94bKhPlf7qB8",
        "colab_type": "code",
        "colab": {
          "base_uri": "https://localhost:8080/",
          "height": 52
        },
        "outputId": "dcadf596-5e70-4be1-9c2b-06919e3deaac"
      },
      "cell_type": "code",
      "source": [
        "\n",
        "!unzip test_data.csv.zip -d test"
      ],
      "execution_count": 7,
      "outputs": [
        {
          "output_type": "stream",
          "text": [
            "Archive:  test_data.csv.zip\n",
            "  inflating: test/test_data.csv      \n"
          ],
          "name": "stdout"
        }
      ]
    },
    {
      "metadata": {
        "id": "KHvemC357tdT",
        "colab_type": "code",
        "colab": {}
      },
      "cell_type": "code",
      "source": [
        "train = pd.read_csv('train/train_data.csv', encoding='utf', engine='python', index_col=0)\n",
        "test = pd.read_csv('test/test_data.csv', encoding='utf', engine='python', index_col=0)"
      ],
      "execution_count": 0,
      "outputs": []
    },
    {
      "metadata": {
        "id": "77vouz-072sb",
        "colab_type": "code",
        "colab": {
          "base_uri": "https://localhost:8080/",
          "height": 202
        },
        "outputId": "91994b57-d807-4d86-c838-f802a7583af2"
      },
      "cell_type": "code",
      "source": [
        "train.head()"
      ],
      "execution_count": 12,
      "outputs": [
        {
          "output_type": "execute_result",
          "data": {
            "text/html": [
              "<div>\n",
              "<style scoped>\n",
              "    .dataframe tbody tr th:only-of-type {\n",
              "        vertical-align: middle;\n",
              "    }\n",
              "\n",
              "    .dataframe tbody tr th {\n",
              "        vertical-align: top;\n",
              "    }\n",
              "\n",
              "    .dataframe thead th {\n",
              "        text-align: right;\n",
              "    }\n",
              "</style>\n",
              "<table border=\"1\" class=\"dataframe\">\n",
              "  <thead>\n",
              "    <tr style=\"text-align: right;\">\n",
              "      <th></th>\n",
              "      <th>title</th>\n",
              "      <th>text</th>\n",
              "      <th>score</th>\n",
              "    </tr>\n",
              "  </thead>\n",
              "  <tbody>\n",
              "    <tr>\n",
              "      <th>0</th>\n",
              "      <td>Просьба об отмене штрафа КАСКО</td>\n",
              "      <td>Здравствуйте! 10.06.2016г. мною был заключен д...</td>\n",
              "      <td>Позитивный</td>\n",
              "    </tr>\n",
              "    <tr>\n",
              "      <th>1</th>\n",
              "      <td>В целом хорошо, работали по ипотеке.</td>\n",
              "      <td>Брала  ипотеку в юникоре, порадовали квалифика...</td>\n",
              "      <td>Негативный</td>\n",
              "    </tr>\n",
              "    <tr>\n",
              "      <th>2</th>\n",
              "      <td>Нас всегда выручает банк Уралсиб!</td>\n",
              "      <td>Знакомство с банком началось с ипотеки в 2009 ...</td>\n",
              "      <td>Позитивный</td>\n",
              "    </tr>\n",
              "    <tr>\n",
              "      <th>3</th>\n",
              "      <td>Абсолютно неприемлемая ситуация и ее решение</td>\n",
              "      <td>Клиент Совкомбанка с 2017 года. В феврале 2018...</td>\n",
              "      <td>Позитивный</td>\n",
              "    </tr>\n",
              "    <tr>\n",
              "      <th>4</th>\n",
              "      <td>Внёс не туда</td>\n",
              "      <td>Пришёл оплачивать кредит и ошибочно внёс деньг...</td>\n",
              "      <td>Позитивный</td>\n",
              "    </tr>\n",
              "  </tbody>\n",
              "</table>\n",
              "</div>"
            ],
            "text/plain": [
              "                                          title  \\\n",
              "0                Просьба об отмене штрафа КАСКО   \n",
              "1          В целом хорошо, работали по ипотеке.   \n",
              "2             Нас всегда выручает банк Уралсиб!   \n",
              "3  Абсолютно неприемлемая ситуация и ее решение   \n",
              "4                                  Внёс не туда   \n",
              "\n",
              "                                                text       score  \n",
              "0  Здравствуйте! 10.06.2016г. мною был заключен д...  Позитивный  \n",
              "1  Брала  ипотеку в юникоре, порадовали квалифика...  Негативный  \n",
              "2  Знакомство с банком началось с ипотеки в 2009 ...  Позитивный  \n",
              "3  Клиент Совкомбанка с 2017 года. В феврале 2018...  Позитивный  \n",
              "4  Пришёл оплачивать кредит и ошибочно внёс деньг...  Позитивный  "
            ]
          },
          "metadata": {
            "tags": []
          },
          "execution_count": 12
        }
      ]
    },
    {
      "metadata": {
        "id": "q6AJ_2z-74MM",
        "colab_type": "code",
        "colab": {
          "base_uri": "https://localhost:8080/",
          "height": 202
        },
        "outputId": "b4f8cb78-5bd7-47f9-f1d1-383e0bce7cdd"
      },
      "cell_type": "code",
      "source": [
        "test.head()"
      ],
      "execution_count": 14,
      "outputs": [
        {
          "output_type": "execute_result",
          "data": {
            "text/html": [
              "<div>\n",
              "<style scoped>\n",
              "    .dataframe tbody tr th:only-of-type {\n",
              "        vertical-align: middle;\n",
              "    }\n",
              "\n",
              "    .dataframe tbody tr th {\n",
              "        vertical-align: top;\n",
              "    }\n",
              "\n",
              "    .dataframe thead th {\n",
              "        text-align: right;\n",
              "    }\n",
              "</style>\n",
              "<table border=\"1\" class=\"dataframe\">\n",
              "  <thead>\n",
              "    <tr style=\"text-align: right;\">\n",
              "      <th></th>\n",
              "      <th>title</th>\n",
              "      <th>text</th>\n",
              "    </tr>\n",
              "  </thead>\n",
              "  <tbody>\n",
              "    <tr>\n",
              "      <th>0</th>\n",
              "      <td>Благодарность менеджеру по продажам</td>\n",
              "      <td>Хотелось бы выразить огромную благодарность ме...</td>\n",
              "    </tr>\n",
              "    <tr>\n",
              "      <th>1</th>\n",
              "      <td>Брал рассрочку в магазине Самсунг</td>\n",
              "      <td>Здравствуйте Брал рассрочку в магазине Самсунг...</td>\n",
              "    </tr>\n",
              "    <tr>\n",
              "      <th>2</th>\n",
              "      <td>Тинькофф оказался лучшим</td>\n",
              "      <td>Работаем с ними уже более 2х лет. Основное что...</td>\n",
              "    </tr>\n",
              "    <tr>\n",
              "      <th>3</th>\n",
              "      <td>Недавно открыла расчетный счет в Тинькофф Банке</td>\n",
              "      <td>Здравствуйте!Не так давно по рекомендации знак...</td>\n",
              "    </tr>\n",
              "    <tr>\n",
              "      <th>4</th>\n",
              "      <td>Волею судеб у меня появилась кредитная карта С...</td>\n",
              "      <td>Сам работаю в крупном банке и знаю, как сложно...</td>\n",
              "    </tr>\n",
              "  </tbody>\n",
              "</table>\n",
              "</div>"
            ],
            "text/plain": [
              "                                               title  \\\n",
              "0                Благодарность менеджеру по продажам   \n",
              "1                  Брал рассрочку в магазине Самсунг   \n",
              "2                           Тинькофф оказался лучшим   \n",
              "3    Недавно открыла расчетный счет в Тинькофф Банке   \n",
              "4  Волею судеб у меня появилась кредитная карта С...   \n",
              "\n",
              "                                                text  \n",
              "0  Хотелось бы выразить огромную благодарность ме...  \n",
              "1  Здравствуйте Брал рассрочку в магазине Самсунг...  \n",
              "2  Работаем с ними уже более 2х лет. Основное что...  \n",
              "3  Здравствуйте!Не так давно по рекомендации знак...  \n",
              "4  Сам работаю в крупном банке и знаю, как сложно...  "
            ]
          },
          "metadata": {
            "tags": []
          },
          "execution_count": 14
        }
      ]
    },
    {
      "metadata": {
        "id": "8WwSCGDi8MAE",
        "colab_type": "text"
      },
      "cell_type": "markdown",
      "source": [
        "#Стемминг данных"
      ]
    },
    {
      "metadata": {
        "id": "No4Qf9yh8Z7g",
        "colab_type": "code",
        "colab": {
          "base_uri": "https://localhost:8080/",
          "height": 832
        },
        "outputId": "aef1d18a-8473-43bc-820e-8f5b62f9219b"
      },
      "cell_type": "code",
      "source": [
        "import nltk\n",
        "nltk.download(\"popular\")"
      ],
      "execution_count": 15,
      "outputs": [
        {
          "output_type": "stream",
          "text": [
            "[nltk_data] Downloading collection 'popular'\n",
            "[nltk_data]    | \n",
            "[nltk_data]    | Downloading package cmudict to /root/nltk_data...\n",
            "[nltk_data]    |   Unzipping corpora/cmudict.zip.\n",
            "[nltk_data]    | Downloading package gazetteers to /root/nltk_data...\n",
            "[nltk_data]    |   Unzipping corpora/gazetteers.zip.\n",
            "[nltk_data]    | Downloading package genesis to /root/nltk_data...\n",
            "[nltk_data]    |   Unzipping corpora/genesis.zip.\n",
            "[nltk_data]    | Downloading package gutenberg to /root/nltk_data...\n",
            "[nltk_data]    |   Unzipping corpora/gutenberg.zip.\n",
            "[nltk_data]    | Downloading package inaugural to /root/nltk_data...\n",
            "[nltk_data]    |   Unzipping corpora/inaugural.zip.\n",
            "[nltk_data]    | Downloading package movie_reviews to\n",
            "[nltk_data]    |     /root/nltk_data...\n",
            "[nltk_data]    |   Unzipping corpora/movie_reviews.zip.\n",
            "[nltk_data]    | Downloading package names to /root/nltk_data...\n",
            "[nltk_data]    |   Unzipping corpora/names.zip.\n",
            "[nltk_data]    | Downloading package shakespeare to /root/nltk_data...\n",
            "[nltk_data]    |   Unzipping corpora/shakespeare.zip.\n",
            "[nltk_data]    | Downloading package stopwords to /root/nltk_data...\n",
            "[nltk_data]    |   Unzipping corpora/stopwords.zip.\n",
            "[nltk_data]    | Downloading package treebank to /root/nltk_data...\n",
            "[nltk_data]    |   Unzipping corpora/treebank.zip.\n",
            "[nltk_data]    | Downloading package twitter_samples to\n",
            "[nltk_data]    |     /root/nltk_data...\n",
            "[nltk_data]    |   Unzipping corpora/twitter_samples.zip.\n",
            "[nltk_data]    | Downloading package omw to /root/nltk_data...\n",
            "[nltk_data]    |   Unzipping corpora/omw.zip.\n",
            "[nltk_data]    | Downloading package wordnet to /root/nltk_data...\n",
            "[nltk_data]    |   Unzipping corpora/wordnet.zip.\n",
            "[nltk_data]    | Downloading package wordnet_ic to /root/nltk_data...\n",
            "[nltk_data]    |   Unzipping corpora/wordnet_ic.zip.\n",
            "[nltk_data]    | Downloading package words to /root/nltk_data...\n",
            "[nltk_data]    |   Unzipping corpora/words.zip.\n",
            "[nltk_data]    | Downloading package maxent_ne_chunker to\n",
            "[nltk_data]    |     /root/nltk_data...\n",
            "[nltk_data]    |   Unzipping chunkers/maxent_ne_chunker.zip.\n",
            "[nltk_data]    | Downloading package punkt to /root/nltk_data...\n",
            "[nltk_data]    |   Unzipping tokenizers/punkt.zip.\n",
            "[nltk_data]    | Downloading package snowball_data to\n",
            "[nltk_data]    |     /root/nltk_data...\n",
            "[nltk_data]    | Downloading package averaged_perceptron_tagger to\n",
            "[nltk_data]    |     /root/nltk_data...\n",
            "[nltk_data]    |   Unzipping taggers/averaged_perceptron_tagger.zip.\n",
            "[nltk_data]    | \n",
            "[nltk_data]  Done downloading collection popular\n"
          ],
          "name": "stdout"
        },
        {
          "output_type": "execute_result",
          "data": {
            "text/plain": [
              "True"
            ]
          },
          "metadata": {
            "tags": []
          },
          "execution_count": 15
        }
      ]
    },
    {
      "metadata": {
        "id": "H_t-PWJt9WSL",
        "colab_type": "code",
        "colab": {}
      },
      "cell_type": "code",
      "source": [
        "import re\n",
        "from string import punctuation\n",
        "from nltk.stem.snowball import RussianStemmer"
      ],
      "execution_count": 0,
      "outputs": []
    },
    {
      "metadata": {
        "id": "qVOgUkDw9bSp",
        "colab_type": "code",
        "colab": {}
      },
      "cell_type": "code",
      "source": [
        "stop_words=nltk.corpus.stopwords.words('russian')"
      ],
      "execution_count": 0,
      "outputs": []
    },
    {
      "metadata": {
        "id": "KEaGTzIj902A",
        "colab_type": "code",
        "colab": {}
      },
      "cell_type": "code",
      "source": [
        "stemmer = RussianStemmer(False)"
      ],
      "execution_count": 0,
      "outputs": []
    },
    {
      "metadata": {
        "id": "7KWu6WK_8746",
        "colab_type": "code",
        "colab": {}
      },
      "cell_type": "code",
      "source": [
        "def preprocess_text(text):\n",
        "    delimiters = ['\\n', ' ', ',', '.', '?', '!', ':', '  ']\n",
        "    tokens = re.split('[' + '|'.join(delimiters) +']', text.lower())\n",
        "    tokens = [stemmer.stem(token) for token in tokens if token not in stop_words\\\n",
        "              and token != \" \" \\\n",
        "              and token.strip() not in punctuation]\n",
        "    text = \" \".join(tokens)\n",
        "    return text"
      ],
      "execution_count": 0,
      "outputs": []
    },
    {
      "metadata": {
        "id": "uxaPy6DN9A4S",
        "colab_type": "code",
        "colab": {}
      },
      "cell_type": "code",
      "source": [
        "train['title'] = [preprocess_text(v) for v in train['title']]\n",
        "test['title'] = [preprocess_text(v) for v in test['title']]"
      ],
      "execution_count": 0,
      "outputs": []
    },
    {
      "metadata": {
        "id": "WzfgzsKX9Mj7",
        "colab_type": "code",
        "colab": {}
      },
      "cell_type": "code",
      "source": [
        "train['text'] = [preprocess_text(v) for v in train['text']]\n",
        "test['text'] = [preprocess_text(v) for v in test['text']]"
      ],
      "execution_count": 0,
      "outputs": []
    },
    {
      "metadata": {
        "id": "skjYVBfa-ACw",
        "colab_type": "code",
        "colab": {
          "base_uri": "https://localhost:8080/",
          "height": 202
        },
        "outputId": "8c084b82-e5ea-4edb-b194-99756f3cecfb"
      },
      "cell_type": "code",
      "source": [
        "train.head()"
      ],
      "execution_count": 34,
      "outputs": [
        {
          "output_type": "execute_result",
          "data": {
            "text/html": [
              "<div>\n",
              "<style scoped>\n",
              "    .dataframe tbody tr th:only-of-type {\n",
              "        vertical-align: middle;\n",
              "    }\n",
              "\n",
              "    .dataframe tbody tr th {\n",
              "        vertical-align: top;\n",
              "    }\n",
              "\n",
              "    .dataframe thead th {\n",
              "        text-align: right;\n",
              "    }\n",
              "</style>\n",
              "<table border=\"1\" class=\"dataframe\">\n",
              "  <thead>\n",
              "    <tr style=\"text-align: right;\">\n",
              "      <th></th>\n",
              "      <th>title</th>\n",
              "      <th>text</th>\n",
              "      <th>score</th>\n",
              "    </tr>\n",
              "  </thead>\n",
              "  <tbody>\n",
              "    <tr>\n",
              "      <th>0</th>\n",
              "      <td>просьб отмен штраф каск</td>\n",
              "      <td>здравств 10 06 2016г мно заключ договор №с0410...</td>\n",
              "      <td>Позитивный</td>\n",
              "    </tr>\n",
              "    <tr>\n",
              "      <th>1</th>\n",
              "      <td>цел работа ипотек</td>\n",
              "      <td>брал ипотек юникор порадова квалификац внимате...</td>\n",
              "      <td>Негативный</td>\n",
              "    </tr>\n",
              "    <tr>\n",
              "      <th>2</th>\n",
              "      <td>выруча банк уралсиб</td>\n",
              "      <td>знакомств банк нача ипотек 2009 год взял авток...</td>\n",
              "      <td>Позитивный</td>\n",
              "    </tr>\n",
              "    <tr>\n",
              "      <th>3</th>\n",
              "      <td>абсолютн неприемлем ситуац решен</td>\n",
              "      <td>клиент совкомбанк 2017 год  в феврал 2018 год ...</td>\n",
              "      <td>Позитивный</td>\n",
              "    </tr>\n",
              "    <tr>\n",
              "      <th>4</th>\n",
              "      <td>внес туд</td>\n",
              "      <td>пришел оплачива кред ошибочн внес деньг кредит...</td>\n",
              "      <td>Позитивный</td>\n",
              "    </tr>\n",
              "  </tbody>\n",
              "</table>\n",
              "</div>"
            ],
            "text/plain": [
              "                              title  \\\n",
              "0           просьб отмен штраф каск   \n",
              "1                 цел работа ипотек   \n",
              "2               выруча банк уралсиб   \n",
              "3  абсолютн неприемлем ситуац решен   \n",
              "4                          внес туд   \n",
              "\n",
              "                                                text       score  \n",
              "0  здравств 10 06 2016г мно заключ договор №с0410...  Позитивный  \n",
              "1  брал ипотек юникор порадова квалификац внимате...  Негативный  \n",
              "2  знакомств банк нача ипотек 2009 год взял авток...  Позитивный  \n",
              "3  клиент совкомбанк 2017 год  в феврал 2018 год ...  Позитивный  \n",
              "4  пришел оплачива кред ошибочн внес деньг кредит...  Позитивный  "
            ]
          },
          "metadata": {
            "tags": []
          },
          "execution_count": 34
        }
      ]
    },
    {
      "metadata": {
        "id": "cJoDjZ5u95oo",
        "colab_type": "code",
        "colab": {
          "base_uri": "https://localhost:8080/",
          "height": 202
        },
        "outputId": "e0e8c939-2c64-4dcd-d93f-ebdc72bc7202"
      },
      "cell_type": "code",
      "source": [
        "test.head()"
      ],
      "execution_count": 35,
      "outputs": [
        {
          "output_type": "execute_result",
          "data": {
            "text/html": [
              "<div>\n",
              "<style scoped>\n",
              "    .dataframe tbody tr th:only-of-type {\n",
              "        vertical-align: middle;\n",
              "    }\n",
              "\n",
              "    .dataframe tbody tr th {\n",
              "        vertical-align: top;\n",
              "    }\n",
              "\n",
              "    .dataframe thead th {\n",
              "        text-align: right;\n",
              "    }\n",
              "</style>\n",
              "<table border=\"1\" class=\"dataframe\">\n",
              "  <thead>\n",
              "    <tr style=\"text-align: right;\">\n",
              "      <th></th>\n",
              "      <th>title</th>\n",
              "      <th>text</th>\n",
              "    </tr>\n",
              "  </thead>\n",
              "  <tbody>\n",
              "    <tr>\n",
              "      <th>0</th>\n",
              "      <td>благодарн менеджер продаж</td>\n",
              "      <td>хотел выраз огромн благодарн менеджер продаж ф...</td>\n",
              "    </tr>\n",
              "    <tr>\n",
              "      <th>1</th>\n",
              "      <td>брал рассрочк магазин самсунг</td>\n",
              "      <td>здравствуйте бра рассрочк магазин самсунг твер...</td>\n",
              "    </tr>\n",
              "    <tr>\n",
              "      <th>2</th>\n",
              "      <td>тинькофф оказа лучш</td>\n",
              "      <td>работа ним 2х лет основн рад эт бюрократическ ...</td>\n",
              "    </tr>\n",
              "    <tr>\n",
              "      <th>3</th>\n",
              "      <td>недавн откр расчетн счет тинькофф банк</td>\n",
              "      <td>здравств давн рекомендац знаком (тож ип) откр ...</td>\n",
              "    </tr>\n",
              "    <tr>\n",
              "      <th>4</th>\n",
              "      <td>вол судеб появ кредитн карт ситибанк аэрофлот ...</td>\n",
              "      <td>работа крупн банк зна сложн организова достойн...</td>\n",
              "    </tr>\n",
              "  </tbody>\n",
              "</table>\n",
              "</div>"
            ],
            "text/plain": [
              "                                               title  \\\n",
              "0                          благодарн менеджер продаж   \n",
              "1                      брал рассрочк магазин самсунг   \n",
              "2                                тинькофф оказа лучш   \n",
              "3             недавн откр расчетн счет тинькофф банк   \n",
              "4  вол судеб появ кредитн карт ситибанк аэрофлот ...   \n",
              "\n",
              "                                                text  \n",
              "0  хотел выраз огромн благодарн менеджер продаж ф...  \n",
              "1  здравствуйте бра рассрочк магазин самсунг твер...  \n",
              "2  работа ним 2х лет основн рад эт бюрократическ ...  \n",
              "3  здравств давн рекомендац знаком (тож ип) откр ...  \n",
              "4  работа крупн банк зна сложн организова достойн...  "
            ]
          },
          "metadata": {
            "tags": []
          },
          "execution_count": 35
        }
      ]
    },
    {
      "metadata": {
        "id": "RSUcUy7i-Gk_",
        "colab_type": "code",
        "colab": {}
      },
      "cell_type": "code",
      "source": [
        "train.to_csv('nltktraindata.csv', index=False)\n",
        "test.to_csv('nltktestdata.csv', index=False)"
      ],
      "execution_count": 0,
      "outputs": []
    }
  ]
}