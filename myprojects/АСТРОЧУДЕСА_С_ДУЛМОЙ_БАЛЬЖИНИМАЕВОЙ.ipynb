{
  "nbformat": 4,
  "nbformat_minor": 0,
  "metadata": {
    "colab": {
      "name": "АСТРОЧУДЕСА.ipynb",
      "version": "0.3.2",
      "provenance": [],
      "include_colab_link": true
    },
    "kernelspec": {
      "name": "python3",
      "display_name": "Python 3"
    }
  },
  "cells": [
    {
      "cell_type": "markdown",
      "metadata": {
        "id": "view-in-github",
        "colab_type": "text"
      },
      "source": [
        "<a href=\"https://colab.research.google.com/github/zqiaohe/100daysofcode/blob/master/%D0%90%D0%A1%D0%A2%D0%A0%D0%9E%D0%A7%D0%A3%D0%94%D0%95%D0%A1%D0%90_%D0%A1_%D0%94%D0%A3%D0%9B%D0%9C%D0%9E%D0%99_%D0%91%D0%90%D0%9B%D0%AC%D0%96%D0%98%D0%9D%D0%98%D0%9C%D0%90%D0%95%D0%92%D0%9E%D0%99.ipynb\" target=\"_parent\"><img src=\"https://colab.research.google.com/assets/colab-badge.svg\" alt=\"Open In Colab\"/></a>"
      ]
    },
    {
      "metadata": {
        "id": "r1jBz0tUVgyJ",
        "colab_type": "code",
        "colab": {
          "base_uri": "https://localhost:8080/",
          "height": 153
        },
        "outputId": "12b29927-6ca9-4446-99f9-f540b0b27552"
      },
      "cell_type": "code",
      "source": [
        "!pip install selenium\n",
        "!apt install chromium-chromedriver\n",
        "!cp /usr/lib/chromium-browser/chromedriver /usr/bin\n",
        "import sys\n",
        "sys.path.insert(0,'/usr/lib/chromium-browser/chromedriver')"
      ],
      "execution_count": 18,
      "outputs": [
        {
          "output_type": "stream",
          "text": [
            "Requirement already satisfied: selenium in /usr/local/lib/python3.6/dist-packages (3.141.0)\n",
            "Requirement already satisfied: urllib3 in /usr/local/lib/python3.6/dist-packages (from selenium) (1.22)\n",
            "Reading package lists... Done\n",
            "Building dependency tree       \n",
            "Reading state information... Done\n",
            "chromium-chromedriver is already the newest version (71.0.3578.98-0ubuntu0.18.04.1).\n",
            "0 upgraded, 0 newly installed, 0 to remove and 13 not upgraded.\n",
            "cp: cannot create regular file '/usr/bin/chromedriver': Text file busy\n"
          ],
          "name": "stdout"
        }
      ]
    },
    {
      "metadata": {
        "id": "VcC0vVpzYdtZ",
        "colab_type": "text"
      },
      "cell_type": "markdown",
      "source": [
        "Нажимаем сюда, вводим интересующий год, месяц и день:"
      ]
    },
    {
      "metadata": {
        "id": "mjIbu7nOYVwK",
        "colab_type": "code",
        "colab": {
          "base_uri": "https://localhost:8080/",
          "height": 68
        },
        "outputId": "abb01138-3715-4482-c67b-6a03710d04dc"
      },
      "cell_type": "code",
      "source": [
        "year, month, day = input(), input(), input()"
      ],
      "execution_count": 8,
      "outputs": [
        {
          "output_type": "stream",
          "text": [
            "1992\n",
            "26\n",
            "07\n"
          ],
          "name": "stdout"
        }
      ]
    },
    {
      "metadata": {
        "id": "2h6PwvA3YlPg",
        "colab_type": "code",
        "colab": {
          "base_uri": "https://localhost:8080/",
          "height": 34
        },
        "outputId": "f924aa1d-b55e-4742-82ed-e3a3b5865191"
      },
      "cell_type": "code",
      "source": [
        "query = 'https://www.astro.com/swisseph/ae/1900/ae_'+year+'.pdf'\n",
        "query"
      ],
      "execution_count": 16,
      "outputs": [
        {
          "output_type": "execute_result",
          "data": {
            "text/plain": [
              "'https://www.astro.com/cgi/sub.cgi?lang=e&hl=en&sumode=gresult&q=ephemeris+1992'"
            ]
          },
          "metadata": {
            "tags": []
          },
          "execution_count": 16
        }
      ]
    },
    {
      "metadata": {
        "id": "n3WeoEGWcFMH",
        "colab_type": "code",
        "colab": {}
      },
      "cell_type": "code",
      "source": [
        "from selenium import webdriver\n",
        "from selenium.webdriver.common.keys import Keys"
      ],
      "execution_count": 0,
      "outputs": []
    },
    {
      "metadata": {
        "id": "3veRm6usdtk7",
        "colab_type": "code",
        "colab": {
          "base_uri": "https://localhost:8080/",
          "height": 51
        },
        "outputId": "4531f8fa-7326-498c-ff1b-33f2472eb88d"
      },
      "cell_type": "code",
      "source": [
        "chrome_options = webdriver.ChromeOptions()\n",
        "chrome_options.add_argument('--headless')\n",
        "chrome_options.add_argument('--no-sandbox')\n",
        "chrome_options.add_argument('--disable-dev-shm-usage')\n",
        "wd = webdriver.Chrome('chromedriver',chrome_options=chrome_options)\n",
        "wd.get(query)"
      ],
      "execution_count": 17,
      "outputs": [
        {
          "output_type": "stream",
          "text": [
            "/usr/local/lib/python3.6/dist-packages/ipykernel_launcher.py:5: DeprecationWarning: use options instead of chrome_options\n",
            "  \"\"\"\n"
          ],
          "name": "stderr"
        }
      ]
    },
    {
      "metadata": {
        "id": "86tMuwDfeo8i",
        "colab_type": "code",
        "colab": {}
      },
      "cell_type": "code",
      "source": [
        "browser.find_element_by_id('exportpt').click()"
      ],
      "execution_count": 0,
      "outputs": []
    }
  ]
}