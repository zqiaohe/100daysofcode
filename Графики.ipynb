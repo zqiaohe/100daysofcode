{
  "nbformat": 4,
  "nbformat_minor": 0,
  "metadata": {
    "colab": {
      "name": "Графики.ipynb",
      "version": "0.3.2",
      "provenance": [],
      "include_colab_link": true
    },
    "kernelspec": {
      "name": "python3",
      "display_name": "Python 3"
    }
  },
  "cells": [
    {
      "cell_type": "markdown",
      "metadata": {
        "id": "view-in-github",
        "colab_type": "text"
      },
      "source": [
        "<a href=\"https://colab.research.google.com/github/zqiaohe/100daysofcode/blob/master/%D0%93%D1%80%D0%B0%D1%84%D0%B8%D0%BA%D0%B8.ipynb\" target=\"_parent\"><img src=\"https://colab.research.google.com/assets/colab-badge.svg\" alt=\"Open In Colab\"/></a>"
      ]
    },
    {
      "metadata": {
        "id": "VCwbawMfN0s8",
        "colab_type": "text"
      },
      "cell_type": "markdown",
      "source": [
        "##Подготовка датасета"
      ]
    },
    {
      "metadata": {
        "id": "FtDEXABi23x6",
        "colab_type": "code",
        "colab": {
          "base_uri": "https://localhost:8080/",
          "height": 33
        },
        "outputId": "5779c694-6614-47b3-b31f-eeb96cb965a2"
      },
      "cell_type": "code",
      "source": [
        "from google.colab import drive\n",
        "drive.mount('/content/drive')"
      ],
      "execution_count": 2,
      "outputs": [
        {
          "output_type": "stream",
          "text": [
            "Drive already mounted at /content/drive; to attempt to forcibly remount, call drive.mount(\"/content/drive\", force_remount=True).\n"
          ],
          "name": "stdout"
        }
      ]
    },
    {
      "metadata": {
        "id": "FFOxTaLY47WK",
        "colab_type": "code",
        "colab": {}
      },
      "cell_type": "code",
      "source": [
        "import pandas as pd\n",
        "import numpy as np\n",
        "from matplotlib import pyplot as plt\n",
        "%matplotlib inline"
      ],
      "execution_count": 0,
      "outputs": []
    },
    {
      "metadata": {
        "id": "1IsnqdfW5jK4",
        "colab_type": "code",
        "colab": {}
      },
      "cell_type": "code",
      "source": [
        "train = pd.read_csv('drive/My Drive/СupIT_final/train.csv', sep='\\t')\n",
        "test = pd.read_csv('drive/My Drive/СupIT_final/test.csv', sep='\\t')\n",
        "services = pd.read_csv('drive/My Drive/СupIT_final/services.csv', sep='\\t')\n",
        "target_users = pd.read_csv('drive/My Drive/СupIT_final/target_users.csv', sep='\\t')"
      ],
      "execution_count": 0,
      "outputs": []
    },
    {
      "metadata": {
        "id": "B_KsSCxy-LNQ",
        "colab_type": "code",
        "colab": {
          "base_uri": "https://localhost:8080/",
          "height": 191
        },
        "outputId": "68701e4b-218d-4c93-9162-61c09fc445d8"
      },
      "cell_type": "code",
      "source": [
        "train.head()"
      ],
      "execution_count": 20,
      "outputs": [
        {
          "output_type": "execute_result",
          "data": {
            "text/html": [
              "<div>\n",
              "<style scoped>\n",
              "    .dataframe tbody tr th:only-of-type {\n",
              "        vertical-align: middle;\n",
              "    }\n",
              "\n",
              "    .dataframe tbody tr th {\n",
              "        vertical-align: top;\n",
              "    }\n",
              "\n",
              "    .dataframe thead th {\n",
              "        text-align: right;\n",
              "    }\n",
              "</style>\n",
              "<table border=\"1\" class=\"dataframe\">\n",
              "  <thead>\n",
              "    <tr style=\"text-align: right;\">\n",
              "      <th></th>\n",
              "      <th>id</th>\n",
              "      <th>vas_id</th>\n",
              "      <th>buy_time</th>\n",
              "      <th>target</th>\n",
              "    </tr>\n",
              "  </thead>\n",
              "  <tbody>\n",
              "    <tr>\n",
              "      <th>0</th>\n",
              "      <td>1803703</td>\n",
              "      <td>2.0</td>\n",
              "      <td>1539550800</td>\n",
              "      <td>0.0</td>\n",
              "    </tr>\n",
              "    <tr>\n",
              "      <th>1</th>\n",
              "      <td>1144906</td>\n",
              "      <td>1.0</td>\n",
              "      <td>1534107600</td>\n",
              "      <td>0.0</td>\n",
              "    </tr>\n",
              "    <tr>\n",
              "      <th>2</th>\n",
              "      <td>721013</td>\n",
              "      <td>1.0</td>\n",
              "      <td>1541970000</td>\n",
              "      <td>0.0</td>\n",
              "    </tr>\n",
              "    <tr>\n",
              "      <th>3</th>\n",
              "      <td>721013</td>\n",
              "      <td>4.0</td>\n",
              "      <td>1542574800</td>\n",
              "      <td>1.0</td>\n",
              "    </tr>\n",
              "    <tr>\n",
              "      <th>4</th>\n",
              "      <td>2741595</td>\n",
              "      <td>2.0</td>\n",
              "      <td>1531688400</td>\n",
              "      <td>0.0</td>\n",
              "    </tr>\n",
              "  </tbody>\n",
              "</table>\n",
              "</div>"
            ],
            "text/plain": [
              "        id  vas_id    buy_time  target\n",
              "0  1803703     2.0  1539550800     0.0\n",
              "1  1144906     1.0  1534107600     0.0\n",
              "2   721013     1.0  1541970000     0.0\n",
              "3   721013     4.0  1542574800     1.0\n",
              "4  2741595     2.0  1531688400     0.0"
            ]
          },
          "metadata": {
            "tags": []
          },
          "execution_count": 20
        }
      ]
    },
    {
      "metadata": {
        "id": "QEzTLS-ZAHg1",
        "colab_type": "code",
        "colab": {
          "base_uri": "https://localhost:8080/",
          "height": 33
        },
        "outputId": "85ed28df-ec3e-4404-aac2-ead6d73c8901"
      },
      "cell_type": "code",
      "source": [
        "train.shape"
      ],
      "execution_count": 28,
      "outputs": [
        {
          "output_type": "execute_result",
          "data": {
            "text/plain": [
              "(3620927, 4)"
            ]
          },
          "metadata": {
            "tags": []
          },
          "execution_count": 28
        }
      ]
    },
    {
      "metadata": {
        "id": "RwfsATgJ9uY5",
        "colab_type": "code",
        "colab": {
          "base_uri": "https://localhost:8080/",
          "height": 306
        },
        "outputId": "76a0fa4f-4198-4f6f-92e6-6656152df6bd"
      },
      "cell_type": "code",
      "source": [
        "services.head(10)"
      ],
      "execution_count": 17,
      "outputs": [
        {
          "output_type": "execute_result",
          "data": {
            "text/html": [
              "<div>\n",
              "<style scoped>\n",
              "    .dataframe tbody tr th:only-of-type {\n",
              "        vertical-align: middle;\n",
              "    }\n",
              "\n",
              "    .dataframe tbody tr th {\n",
              "        vertical-align: top;\n",
              "    }\n",
              "\n",
              "    .dataframe thead th {\n",
              "        text-align: right;\n",
              "    }\n",
              "</style>\n",
              "<table border=\"1\" class=\"dataframe\">\n",
              "  <thead>\n",
              "    <tr style=\"text-align: right;\">\n",
              "      <th></th>\n",
              "      <th>vas_id</th>\n",
              "      <th>monthly_price_rur</th>\n",
              "    </tr>\n",
              "  </thead>\n",
              "  <tbody>\n",
              "    <tr>\n",
              "      <th>0</th>\n",
              "      <td>1.0</td>\n",
              "      <td>199</td>\n",
              "    </tr>\n",
              "    <tr>\n",
              "      <th>1</th>\n",
              "      <td>2.0</td>\n",
              "      <td>239</td>\n",
              "    </tr>\n",
              "    <tr>\n",
              "      <th>2</th>\n",
              "      <td>3.0</td>\n",
              "      <td>799</td>\n",
              "    </tr>\n",
              "    <tr>\n",
              "      <th>3</th>\n",
              "      <td>4.0</td>\n",
              "      <td>379</td>\n",
              "    </tr>\n",
              "    <tr>\n",
              "      <th>4</th>\n",
              "      <td>5.0</td>\n",
              "      <td>349</td>\n",
              "    </tr>\n",
              "    <tr>\n",
              "      <th>5</th>\n",
              "      <td>6.0</td>\n",
              "      <td>399</td>\n",
              "    </tr>\n",
              "    <tr>\n",
              "      <th>6</th>\n",
              "      <td>7.0</td>\n",
              "      <td>479</td>\n",
              "    </tr>\n",
              "    <tr>\n",
              "      <th>7</th>\n",
              "      <td>8.0</td>\n",
              "      <td>499</td>\n",
              "    </tr>\n",
              "    <tr>\n",
              "      <th>8</th>\n",
              "      <td>9.0</td>\n",
              "      <td>529</td>\n",
              "    </tr>\n",
              "  </tbody>\n",
              "</table>\n",
              "</div>"
            ],
            "text/plain": [
              "   vas_id  monthly_price_rur\n",
              "0     1.0                199\n",
              "1     2.0                239\n",
              "2     3.0                799\n",
              "3     4.0                379\n",
              "4     5.0                349\n",
              "5     6.0                399\n",
              "6     7.0                479\n",
              "7     8.0                499\n",
              "8     9.0                529"
            ]
          },
          "metadata": {
            "tags": []
          },
          "execution_count": 17
        }
      ]
    },
    {
      "metadata": {
        "id": "YTgRTarU9k5j",
        "colab_type": "code",
        "colab": {}
      },
      "cell_type": "code",
      "source": [
        "df = pd.merge(train, services, left_on='vas_id', right_on='vas_id')"
      ],
      "execution_count": 0,
      "outputs": []
    },
    {
      "metadata": {
        "id": "uJ2j7quH-DbR",
        "colab_type": "code",
        "colab": {
          "base_uri": "https://localhost:8080/",
          "height": 191
        },
        "outputId": "202456a0-00ce-405c-e57e-c4826a751e2f"
      },
      "cell_type": "code",
      "source": [
        "df.head()"
      ],
      "execution_count": 40,
      "outputs": [
        {
          "output_type": "execute_result",
          "data": {
            "text/html": [
              "<div>\n",
              "<style scoped>\n",
              "    .dataframe tbody tr th:only-of-type {\n",
              "        vertical-align: middle;\n",
              "    }\n",
              "\n",
              "    .dataframe tbody tr th {\n",
              "        vertical-align: top;\n",
              "    }\n",
              "\n",
              "    .dataframe thead th {\n",
              "        text-align: right;\n",
              "    }\n",
              "</style>\n",
              "<table border=\"1\" class=\"dataframe\">\n",
              "  <thead>\n",
              "    <tr style=\"text-align: right;\">\n",
              "      <th></th>\n",
              "      <th>id</th>\n",
              "      <th>vas_id</th>\n",
              "      <th>buy_time</th>\n",
              "      <th>target</th>\n",
              "      <th>monthly_price_rur</th>\n",
              "    </tr>\n",
              "  </thead>\n",
              "  <tbody>\n",
              "    <tr>\n",
              "      <th>0</th>\n",
              "      <td>1803703</td>\n",
              "      <td>2.0</td>\n",
              "      <td>1539550800</td>\n",
              "      <td>0.0</td>\n",
              "      <td>239</td>\n",
              "    </tr>\n",
              "    <tr>\n",
              "      <th>1</th>\n",
              "      <td>2741595</td>\n",
              "      <td>2.0</td>\n",
              "      <td>1531688400</td>\n",
              "      <td>0.0</td>\n",
              "      <td>239</td>\n",
              "    </tr>\n",
              "    <tr>\n",
              "      <th>2</th>\n",
              "      <td>1671887</td>\n",
              "      <td>2.0</td>\n",
              "      <td>1544994000</td>\n",
              "      <td>0.0</td>\n",
              "      <td>239</td>\n",
              "    </tr>\n",
              "    <tr>\n",
              "      <th>3</th>\n",
              "      <td>4194020</td>\n",
              "      <td>2.0</td>\n",
              "      <td>1545598800</td>\n",
              "      <td>0.0</td>\n",
              "      <td>239</td>\n",
              "    </tr>\n",
              "    <tr>\n",
              "      <th>4</th>\n",
              "      <td>1033681</td>\n",
              "      <td>2.0</td>\n",
              "      <td>1535922000</td>\n",
              "      <td>0.0</td>\n",
              "      <td>239</td>\n",
              "    </tr>\n",
              "  </tbody>\n",
              "</table>\n",
              "</div>"
            ],
            "text/plain": [
              "        id  vas_id    buy_time  target  monthly_price_rur\n",
              "0  1803703     2.0  1539550800     0.0                239\n",
              "1  2741595     2.0  1531688400     0.0                239\n",
              "2  1671887     2.0  1544994000     0.0                239\n",
              "3  4194020     2.0  1545598800     0.0                239\n",
              "4  1033681     2.0  1535922000     0.0                239"
            ]
          },
          "metadata": {
            "tags": []
          },
          "execution_count": 40
        }
      ]
    },
    {
      "metadata": {
        "id": "uyVQCfSKALOl",
        "colab_type": "code",
        "colab": {
          "base_uri": "https://localhost:8080/",
          "height": 33
        },
        "outputId": "1c037189-d2c7-47b6-9a4f-edafb971de11"
      },
      "cell_type": "code",
      "source": [
        "df.shape"
      ],
      "execution_count": 29,
      "outputs": [
        {
          "output_type": "execute_result",
          "data": {
            "text/plain": [
              "(3620927, 5)"
            ]
          },
          "metadata": {
            "tags": []
          },
          "execution_count": 29
        }
      ]
    },
    {
      "metadata": {
        "id": "7YS0LUkQAlpU",
        "colab_type": "code",
        "colab": {}
      },
      "cell_type": "code",
      "source": [
        "df = df.drop(columns=['vas_id'])"
      ],
      "execution_count": 0,
      "outputs": []
    },
    {
      "metadata": {
        "id": "pfm585mgAnMv",
        "colab_type": "text"
      },
      "cell_type": "markdown",
      "source": [
        "#Тип предложения\n",
        "\n",
        ">Количество  предложений  одного типа сильно зависит от его цены."
      ]
    },
    {
      "metadata": {
        "id": "2fPWGbSX9TO6",
        "colab_type": "code",
        "colab": {
          "base_uri": "https://localhost:8080/",
          "height": 286
        },
        "outputId": "465d2cfc-cf2e-4f6b-a5f4-7e38f4df1541"
      },
      "cell_type": "code",
      "source": [
        "train.vas_id.value_counts().plot.bar()"
      ],
      "execution_count": 8,
      "outputs": [
        {
          "output_type": "execute_result",
          "data": {
            "text/plain": [
              "<matplotlib.axes._subplots.AxesSubplot at 0x7f06226d7fd0>"
            ]
          },
          "metadata": {
            "tags": []
          },
          "execution_count": 8
        },
        {
          "output_type": "display_data",
          "data": {
            "image/png": "[encoded data removed]",
            "text/plain": [
              "<Figure size 432x288 with 1 Axes>"
            ]
          },
          "metadata": {
            "tags": []
          }
        }
      ]
    },
    {
      "metadata": {
        "id": "8hgoPLHqAPxu",
        "colab_type": "code",
        "colab": {
          "base_uri": "https://localhost:8080/",
          "height": 288
        },
        "outputId": "e170e59c-6050-40a2-8edf-8b9940b511ff"
      },
      "cell_type": "code",
      "source": [
        "df.monthly_price_rur.value_counts().plot.bar()"
      ],
      "execution_count": 31,
      "outputs": [
        {
          "output_type": "execute_result",
          "data": {
            "text/plain": [
              "<matplotlib.axes._subplots.AxesSubplot at 0x7f062048ae48>"
            ]
          },
          "metadata": {
            "tags": []
          },
          "execution_count": 31
        },
        {
          "output_type": "display_data",
          "data": {
            "image/png": "[encoded data removed]",
            "text/plain": [
              "<Figure size 432x288 with 1 Axes>"
            ]
          },
          "metadata": {
            "tags": []
          }
        }
      ]
    },
    {
      "metadata": {
        "id": "9g-dydq6Dapg",
        "colab_type": "code",
        "colab": {
          "base_uri": "https://localhost:8080/",
          "height": 191
        },
        "outputId": "1ad400fe-a2f2-4955-fe9d-db10faf908b1"
      },
      "cell_type": "code",
      "source": [
        "df.head()"
      ],
      "execution_count": 47,
      "outputs": [
        {
          "output_type": "execute_result",
          "data": {
            "text/html": [
              "<div>\n",
              "<style scoped>\n",
              "    .dataframe tbody tr th:only-of-type {\n",
              "        vertical-align: middle;\n",
              "    }\n",
              "\n",
              "    .dataframe tbody tr th {\n",
              "        vertical-align: top;\n",
              "    }\n",
              "\n",
              "    .dataframe thead th {\n",
              "        text-align: right;\n",
              "    }\n",
              "</style>\n",
              "<table border=\"1\" class=\"dataframe\">\n",
              "  <thead>\n",
              "    <tr style=\"text-align: right;\">\n",
              "      <th></th>\n",
              "      <th>id</th>\n",
              "      <th>vas_id</th>\n",
              "      <th>buy_time</th>\n",
              "      <th>target</th>\n",
              "      <th>monthly_price_rur</th>\n",
              "    </tr>\n",
              "  </thead>\n",
              "  <tbody>\n",
              "    <tr>\n",
              "      <th>0</th>\n",
              "      <td>1803703</td>\n",
              "      <td>2.0</td>\n",
              "      <td>1539550800</td>\n",
              "      <td>0.0</td>\n",
              "      <td>239</td>\n",
              "    </tr>\n",
              "    <tr>\n",
              "      <th>1</th>\n",
              "      <td>2741595</td>\n",
              "      <td>2.0</td>\n",
              "      <td>1531688400</td>\n",
              "      <td>0.0</td>\n",
              "      <td>239</td>\n",
              "    </tr>\n",
              "    <tr>\n",
              "      <th>2</th>\n",
              "      <td>1671887</td>\n",
              "      <td>2.0</td>\n",
              "      <td>1544994000</td>\n",
              "      <td>0.0</td>\n",
              "      <td>239</td>\n",
              "    </tr>\n",
              "    <tr>\n",
              "      <th>3</th>\n",
              "      <td>4194020</td>\n",
              "      <td>2.0</td>\n",
              "      <td>1545598800</td>\n",
              "      <td>0.0</td>\n",
              "      <td>239</td>\n",
              "    </tr>\n",
              "    <tr>\n",
              "      <th>4</th>\n",
              "      <td>1033681</td>\n",
              "      <td>2.0</td>\n",
              "      <td>1535922000</td>\n",
              "      <td>0.0</td>\n",
              "      <td>239</td>\n",
              "    </tr>\n",
              "  </tbody>\n",
              "</table>\n",
              "</div>"
            ],
            "text/plain": [
              "        id  vas_id    buy_time  target  monthly_price_rur\n",
              "0  1803703     2.0  1539550800     0.0                239\n",
              "1  2741595     2.0  1531688400     0.0                239\n",
              "2  1671887     2.0  1544994000     0.0                239\n",
              "3  4194020     2.0  1545598800     0.0                239\n",
              "4  1033681     2.0  1535922000     0.0                239"
            ]
          },
          "metadata": {
            "tags": []
          },
          "execution_count": 47
        }
      ]
    },
    {
      "metadata": {
        "id": "GKTeuaZuNDTX",
        "colab_type": "text"
      },
      "cell_type": "markdown",
      "source": [
        "##Распределение для каждой цены отдельно\n",
        "\n",
        "799 - ни одного положительного отклика\n",
        "379, 529 и 399 - больше всего положительных откликов "
      ]
    },
    {
      "metadata": {
        "id": "LP0RT7KID5CX",
        "colab_type": "code",
        "colab": {
          "base_uri": "https://localhost:8080/",
          "height": 286
        },
        "outputId": "c87f12f0-5323-42c9-8942-e74f3a2a7641"
      },
      "cell_type": "code",
      "source": [
        "df[df['monthly_price_rur']==239].target.value_counts().plot.bar()"
      ],
      "execution_count": 73,
      "outputs": [
        {
          "output_type": "execute_result",
          "data": {
            "text/plain": [
              "<matplotlib.axes._subplots.AxesSubplot at 0x7f061fe3fb70>"
            ]
          },
          "metadata": {
            "tags": []
          },
          "execution_count": 73
        },
        {
          "output_type": "display_data",
          "data": {
            "image/png": "[encoded data removed]",
            "text/plain": [
              "<Figure size 432x288 with 1 Axes>"
            ]
          },
          "metadata": {
            "tags": []
          }
        }
      ]
    },
    {
      "metadata": {
        "id": "jEAobF2TMmrP",
        "colab_type": "code",
        "colab": {
          "base_uri": "https://localhost:8080/",
          "height": 33
        },
        "outputId": "a02b48c2-5ee2-4392-cafd-3c29b082ea1e"
      },
      "cell_type": "code",
      "source": [
        "df.monthly_price_rur.unique()"
      ],
      "execution_count": 82,
      "outputs": [
        {
          "output_type": "execute_result",
          "data": {
            "text/plain": [
              "array([239, 199, 379, 349, 399, 529, 499, 479, 799])"
            ]
          },
          "metadata": {
            "tags": []
          },
          "execution_count": 82
        }
      ]
    },
    {
      "metadata": {
        "id": "KyNzAyWkAySj",
        "colab_type": "code",
        "colab": {
          "base_uri": "https://localhost:8080/",
          "height": 286
        },
        "outputId": "a43b0fc0-b29b-42bb-90d5-aaf0c6c0590a"
      },
      "cell_type": "code",
      "source": [
        "df[df['monthly_price_rur']==239].target.value_counts().plot.bar()\n",
        "\n",
        "  "
      ],
      "execution_count": 83,
      "outputs": [
        {
          "output_type": "execute_result",
          "data": {
            "text/plain": [
              "<matplotlib.axes._subplots.AxesSubplot at 0x7f061ff29cc0>"
            ]
          },
          "metadata": {
            "tags": []
          },
          "execution_count": 83
        },
        {
          "output_type": "display_data",
          "data": {
            "image/png": "[encoded data removed]",
            "text/plain": [
              "<Figure size 432x288 with 1 Axes>"
            ]
          },
          "metadata": {
            "tags": []
          }
        }
      ]
    },
    {
      "metadata": {
        "id": "VnRXZBCxMwpu",
        "colab_type": "code",
        "colab": {
          "base_uri": "https://localhost:8080/",
          "height": 286
        },
        "outputId": "f6254b0b-2e43-4ac0-9c6c-0932ba19c160"
      },
      "cell_type": "code",
      "source": [
        "df[df['monthly_price_rur']==199].target.value_counts().plot.bar()"
      ],
      "execution_count": 84,
      "outputs": [
        {
          "output_type": "execute_result",
          "data": {
            "text/plain": [
              "<matplotlib.axes._subplots.AxesSubplot at 0x7f061fec9240>"
            ]
          },
          "metadata": {
            "tags": []
          },
          "execution_count": 84
        },
        {
          "output_type": "display_data",
          "data": {
            "image/png": "[encoded data removed]",
            "text/plain": [
              "<Figure size 432x288 with 1 Axes>"
            ]
          },
          "metadata": {
            "tags": []
          }
        }
      ]
    },
    {
      "metadata": {
        "id": "-ehGejOHM0OH",
        "colab_type": "code",
        "colab": {
          "base_uri": "https://localhost:8080/",
          "height": 286
        },
        "outputId": "ab9fe62e-c12b-406c-de34-9879b4920dc5"
      },
      "cell_type": "code",
      "source": [
        "df[df['monthly_price_rur']==379].target.value_counts().plot.bar()"
      ],
      "execution_count": 85,
      "outputs": [
        {
          "output_type": "execute_result",
          "data": {
            "text/plain": [
              "<matplotlib.axes._subplots.AxesSubplot at 0x7f061fd5f7f0>"
            ]
          },
          "metadata": {
            "tags": []
          },
          "execution_count": 85
        },
        {
          "output_type": "display_data",
          "data": {
            "image/png": "[encoded data removed]",
            "text/plain": [
              "<Figure size 432x288 with 1 Axes>"
            ]
          },
          "metadata": {
            "tags": []
          }
        }
      ]
    },
    {
      "metadata": {
        "id": "QrcobDHzM5E3",
        "colab_type": "code",
        "colab": {
          "base_uri": "https://localhost:8080/",
          "height": 286
        },
        "outputId": "734157dd-5243-40ac-b6dc-f3462ed0be6b"
      },
      "cell_type": "code",
      "source": [
        "df[df['monthly_price_rur']==349].target.value_counts().plot.bar()"
      ],
      "execution_count": 86,
      "outputs": [
        {
          "output_type": "execute_result",
          "data": {
            "text/plain": [
              "<matplotlib.axes._subplots.AxesSubplot at 0x7f06202bdba8>"
            ]
          },
          "metadata": {
            "tags": []
          },
          "execution_count": 86
        },
        {
          "output_type": "display_data",
          "data": {
            "image/png": "[encoded data removed]",
            "text/plain": [
              "<Figure size 432x288 with 1 Axes>"
            ]
          },
          "metadata": {
            "tags": []
          }
        }
      ]
    },
    {
      "metadata": {
        "id": "z7A9Jx4GM8A-",
        "colab_type": "code",
        "colab": {
          "base_uri": "https://localhost:8080/",
          "height": 286
        },
        "outputId": "d704c078-5753-4c24-906f-d6293a74879a"
      },
      "cell_type": "code",
      "source": [
        "df[df['monthly_price_rur']==399].target.value_counts().plot.bar()"
      ],
      "execution_count": 87,
      "outputs": [
        {
          "output_type": "execute_result",
          "data": {
            "text/plain": [
              "<matplotlib.axes._subplots.AxesSubplot at 0x7f061fdbf3c8>"
            ]
          },
          "metadata": {
            "tags": []
          },
          "execution_count": 87
        },
        {
          "output_type": "display_data",
          "data": {
            "image/png": "[encoded data removed]",
            "text/plain": [
              "<Figure size 432x288 with 1 Axes>"
            ]
          },
          "metadata": {
            "tags": []
          }
        }
      ]
    },
    {
      "metadata": {
        "id": "_jomDqSoM_mn",
        "colab_type": "code",
        "colab": {
          "base_uri": "https://localhost:8080/",
          "height": 286
        },
        "outputId": "5c97f3eb-415e-420e-9808-a768cd961fa5"
      },
      "cell_type": "code",
      "source": [
        "df[df['monthly_price_rur']==529].target.value_counts().plot.bar()"
      ],
      "execution_count": 88,
      "outputs": [
        {
          "output_type": "execute_result",
          "data": {
            "text/plain": [
              "<matplotlib.axes._subplots.AxesSubplot at 0x7f061ff0edd8>"
            ]
          },
          "metadata": {
            "tags": []
          },
          "execution_count": 88
        },
        {
          "output_type": "display_data",
          "data": {
            "image/png": "[encoded data removed]",
            "text/plain": [
              "<Figure size 432x288 with 1 Axes>"
            ]
          },
          "metadata": {
            "tags": []
          }
        }
      ]
    },
    {
      "metadata": {
        "id": "OPK2sqA3NQI-",
        "colab_type": "code",
        "colab": {
          "base_uri": "https://localhost:8080/",
          "height": 286
        },
        "outputId": "ec1e297d-6130-47ab-95f1-7d89b3d601d5"
      },
      "cell_type": "code",
      "source": [
        "df[df['monthly_price_rur']==499].target.value_counts().plot.bar()"
      ],
      "execution_count": 89,
      "outputs": [
        {
          "output_type": "execute_result",
          "data": {
            "text/plain": [
              "<matplotlib.axes._subplots.AxesSubplot at 0x7f061fdbff60>"
            ]
          },
          "metadata": {
            "tags": []
          },
          "execution_count": 89
        },
        {
          "output_type": "display_data",
          "data": {
            "image/png": "[encoded data removed]",
            "text/plain": [
              "<Figure size 432x288 with 1 Axes>"
            ]
          },
          "metadata": {
            "tags": []
          }
        }
      ]
    },
    {
      "metadata": {
        "id": "PRA5YRVTNTt-",
        "colab_type": "code",
        "colab": {
          "base_uri": "https://localhost:8080/",
          "height": 286
        },
        "outputId": "8d49fe11-05b4-4fce-e0a6-7b22aeaeefc9"
      },
      "cell_type": "code",
      "source": [
        "df[df['monthly_price_rur']==479].target.value_counts().plot.bar()"
      ],
      "execution_count": 90,
      "outputs": [
        {
          "output_type": "execute_result",
          "data": {
            "text/plain": [
              "<matplotlib.axes._subplots.AxesSubplot at 0x7f061fbdfd68>"
            ]
          },
          "metadata": {
            "tags": []
          },
          "execution_count": 90
        },
        {
          "output_type": "display_data",
          "data": {
            "image/png": "[encoded data removed]",
            "text/plain": [
              "<Figure size 432x288 with 1 Axes>"
            ]
          },
          "metadata": {
            "tags": []
          }
        }
      ]
    },
    {
      "metadata": {
        "id": "WxgkyUwgNWnu",
        "colab_type": "code",
        "colab": {
          "base_uri": "https://localhost:8080/",
          "height": 286
        },
        "outputId": "3d742292-08d9-4017-8d2e-999b99c55d26"
      },
      "cell_type": "code",
      "source": [
        "df[df['monthly_price_rur']==799].target.value_counts().plot.bar()"
      ],
      "execution_count": 91,
      "outputs": [
        {
          "output_type": "execute_result",
          "data": {
            "text/plain": [
              "<matplotlib.axes._subplots.AxesSubplot at 0x7f061fbad4a8>"
            ]
          },
          "metadata": {
            "tags": []
          },
          "execution_count": 91
        },
        {
          "output_type": "display_data",
          "data": {
            "image/png": "[encoded data removed]",
            "text/plain": [
              "<Figure size 432x288 with 1 Axes>"
            ]
          },
          "metadata": {
            "tags": []
          }
        }
      ]
    },
    {
      "metadata": {
        "id": "5iNhxZBsN7jU",
        "colab_type": "text"
      },
      "cell_type": "markdown",
      "source": [
        "#Распределение по buy_time"
      ]
    },
    {
      "metadata": {
        "id": "MaFBIhWSOK0M",
        "colab_type": "code",
        "colab": {
          "base_uri": "https://localhost:8080/",
          "height": 328
        },
        "outputId": "858f123e-dbed-4079-f823-5fe608860b72"
      },
      "cell_type": "code",
      "source": [
        "train.buy_time.value_counts().plot.bar()"
      ],
      "execution_count": 92,
      "outputs": [
        {
          "output_type": "execute_result",
          "data": {
            "text/plain": [
              "<matplotlib.axes._subplots.AxesSubplot at 0x7f061fb81c50>"
            ]
          },
          "metadata": {
            "tags": []
          },
          "execution_count": 92
        },
        {
          "output_type": "display_data",
          "data": {
            "image/png": "[encoded data removed]",
            "text/plain": [
              "<Figure size 432x288 with 1 Axes>"
            ]
          },
          "metadata": {
            "tags": []
          }
        }
      ]
    },
    {
      "metadata": {
        "id": "Gxv9tU6dOQ7U",
        "colab_type": "code",
        "colab": {
          "base_uri": "https://localhost:8080/",
          "height": 115
        },
        "outputId": "ce43c5cf-7322-45cc-f295-e7b2908178dd"
      },
      "cell_type": "code",
      "source": [
        "train.buy_time.unique()"
      ],
      "execution_count": 93,
      "outputs": [
        {
          "output_type": "execute_result",
          "data": {
            "text/plain": [
              "array([1539550800, 1534107600, 1541970000, 1542574800, 1531688400,\n",
              "       1535922000, 1544994000, 1545598800, 1546808400, 1533502800,\n",
              "       1540155600, 1540760400, 1534712400, 1536526800, 1537131600,\n",
              "       1547413200, 1532293200, 1546203600, 1531083600, 1541365200,\n",
              "       1538946000, 1544389200, 1535317200, 1532898000, 1543179600,\n",
              "       1538341200, 1548018000, 1543784400, 1537736400])"
            ]
          },
          "metadata": {
            "tags": []
          },
          "execution_count": 93
        }
      ]
    },
    {
      "metadata": {
        "id": "KLZzPEsEOaFs",
        "colab_type": "code",
        "colab": {
          "base_uri": "https://localhost:8080/",
          "height": 328
        },
        "outputId": "a2ef1e2c-46ee-401c-8d11-844a58bb16d2"
      },
      "cell_type": "code",
      "source": [
        "train[train['target']==1].buy_time.value_counts().plot.bar()"
      ],
      "execution_count": 94,
      "outputs": [
        {
          "output_type": "execute_result",
          "data": {
            "text/plain": [
              "<matplotlib.axes._subplots.AxesSubplot at 0x7f061fa6a550>"
            ]
          },
          "metadata": {
            "tags": []
          },
          "execution_count": 94
        },
        {
          "output_type": "display_data",
          "data": {
            "image/png": "[encoded data removed]",
            "text/plain": [
              "<Figure size 432x288 with 1 Axes>"
            ]
          },
          "metadata": {
            "tags": []
          }
        }
      ]
    },
    {
      "metadata": {
        "id": "t1-9il6xOl00",
        "colab_type": "code",
        "colab": {
          "base_uri": "https://localhost:8080/",
          "height": 115
        },
        "outputId": "159ad72a-4ad3-4d89-9dde-9e030ec1e676"
      },
      "cell_type": "code",
      "source": [
        "train[train['target']==1].buy_time.unique()"
      ],
      "execution_count": 95,
      "outputs": [
        {
          "output_type": "execute_result",
          "data": {
            "text/plain": [
              "array([1542574800, 1539550800, 1534107600, 1533502800, 1534712400,\n",
              "       1537131600, 1547413200, 1546203600, 1546808400, 1532293200,\n",
              "       1544389200, 1540760400, 1531688400, 1532898000, 1543179600,\n",
              "       1545598800, 1544994000, 1548018000, 1538341200, 1543784400,\n",
              "       1540155600, 1535922000, 1538946000, 1541970000, 1531083600,\n",
              "       1536526800, 1535317200, 1541365200, 1537736400])"
            ]
          },
          "metadata": {
            "tags": []
          },
          "execution_count": 95
        }
      ]
    },
    {
      "metadata": {
        "id": "CPKjf5iTO5FC",
        "colab_type": "code",
        "colab": {}
      },
      "cell_type": "code",
      "source": [
        "df = pd.read_csv('drive/My Drive/СupIT_final/features.csv', sep='\\t', nrows = 100000)"
      ],
      "execution_count": 0,
      "outputs": []
    },
    {
      "metadata": {
        "id": "mvEhxwiNRean",
        "colab_type": "code",
        "colab": {
          "base_uri": "https://localhost:8080/",
          "height": 115
        },
        "outputId": "c4b779f7-21ec-428c-b763-d0d1061a5080"
      },
      "cell_type": "code",
      "source": [
        "df.buy_time.unique()"
      ],
      "execution_count": 97,
      "outputs": [
        {
          "output_type": "execute_result",
          "data": {
            "text/plain": [
              "array([1531688400, 1539550800, 1545598800, 1534107600, 1533502800,\n",
              "       1544994000, 1537736400, 1544389200, 1536526800, 1535317200,\n",
              "       1534712400, 1542574800, 1540760400, 1540155600, 1541365200,\n",
              "       1537131600, 1531083600, 1538341200, 1532293200, 1546203600,\n",
              "       1535922000, 1538946000, 1547413200, 1543784400, 1548018000,\n",
              "       1541970000, 1532898000, 1546808400, 1543179600])"
            ]
          },
          "metadata": {
            "tags": []
          },
          "execution_count": 97
        }
      ]
    },
    {
      "metadata": {
        "id": "cXq9V6xKRuu_",
        "colab_type": "code",
        "colab": {}
      },
      "cell_type": "code",
      "source": [
        ""
      ],
      "execution_count": 0,
      "outputs": []
    },
    {
      "metadata": {
        "id": "Re3taDgiRvW-",
        "colab_type": "text"
      },
      "cell_type": "markdown",
      "source": [
        "Features не сильно отличается от распределения в train"
      ]
    },
    {
      "metadata": {
        "id": "wo13V5rWRiJ-",
        "colab_type": "code",
        "colab": {
          "base_uri": "https://localhost:8080/",
          "height": 328
        },
        "outputId": "83cb4ef0-26d7-4cd5-f34d-c595d9d8d523"
      },
      "cell_type": "code",
      "source": [
        "df.buy_time.value_counts().plot.bar()"
      ],
      "execution_count": 98,
      "outputs": [
        {
          "output_type": "execute_result",
          "data": {
            "text/plain": [
              "<matplotlib.axes._subplots.AxesSubplot at 0x7f061fdc1e80>"
            ]
          },
          "metadata": {
            "tags": []
          },
          "execution_count": 98
        },
        {
          "output_type": "display_data",
          "data": {
            "image/png": "[encoded data removed]",
            "text/plain": [
              "<Figure size 432x288 with 1 Axes>"
            ]
          },
          "metadata": {
            "tags": []
          }
        }
      ]
    },
    {
      "metadata": {
        "id": "OvgmTdc8WvwX",
        "colab_type": "text"
      },
      "cell_type": "markdown",
      "source": [
        "#Поиск категориальных признаков"
      ]
    },
    {
      "metadata": {
        "id": "quM8pFKvS5eH",
        "colab_type": "code",
        "colab": {
          "base_uri": "https://localhost:8080/",
          "height": 33
        },
        "outputId": "fe80c74f-7b75-419a-e0d5-64b77c986b64"
      },
      "cell_type": "code",
      "source": [
        "df.shape"
      ],
      "execution_count": 108,
      "outputs": [
        {
          "output_type": "execute_result",
          "data": {
            "text/plain": [
              "(100000, 256)"
            ]
          },
          "metadata": {
            "tags": []
          },
          "execution_count": 108
        }
      ]
    },
    {
      "metadata": {
        "id": "UhUhReZyhsjF",
        "colab_type": "text"
      },
      "cell_type": "markdown",
      "source": [
        "Посчитаем количество уникальных значений для каждого feature"
      ]
    },
    {
      "metadata": {
        "id": "7CRkgCmrSOec",
        "colab_type": "code",
        "colab": {}
      },
      "cell_type": "code",
      "source": [
        "cat_of_features=[]\n",
        "for i in range(1,253):\n",
        "  cat_of_features.append((df[str(i)].unique().size,i))"
      ],
      "execution_count": 0,
      "outputs": []
    },
    {
      "metadata": {
        "id": "gNfUAOmtU9h5",
        "colab_type": "code",
        "colab": {
          "base_uri": "https://localhost:8080/",
          "height": 4112
        },
        "outputId": "42dc4510-b313-44b3-eb36-3e4e1cc60c3c"
      },
      "cell_type": "code",
      "source": [
        "cat_of_features"
      ],
      "execution_count": 188,
      "outputs": [
        {
          "output_type": "execute_result",
          "data": {
            "text/plain": [
              "[(39996, 1),\n",
              " (20841, 2),\n",
              " (47304, 3),\n",
              " (21507, 4),\n",
              " (48399, 5),\n",
              " (2487, 6),\n",
              " (6707, 7),\n",
              " (5491, 8),\n",
              " (11344, 9),\n",
              " (915, 10),\n",
              " (5017, 11),\n",
              " (624, 12),\n",
              " (3876, 13),\n",
              " (10996, 14),\n",
              " (1, 15),\n",
              " (6, 16),\n",
              " (11, 17),\n",
              " (1514, 18),\n",
              " (1753, 19),\n",
              " (3823, 20),\n",
              " (1264, 21),\n",
              " (87, 22),\n",
              " (2, 23),\n",
              " (5, 24),\n",
              " (1284, 25),\n",
              " (2, 26),\n",
              " (2, 27),\n",
              " (13, 28),\n",
              " (6, 29),\n",
              " (5, 30),\n",
              " (2, 31),\n",
              " (2, 32),\n",
              " (2, 33),\n",
              " (828, 34),\n",
              " (7, 35),\n",
              " (672, 36),\n",
              " (4220, 37),\n",
              " (76883, 38),\n",
              " (67501, 39),\n",
              " (53993, 40),\n",
              " (6148, 41),\n",
              " (3806, 42),\n",
              " (32540, 43),\n",
              " (22119, 44),\n",
              " (24321, 45),\n",
              " (6443, 46),\n",
              " (47981, 47),\n",
              " (12490, 48),\n",
              " (26917, 49),\n",
              " (532, 50),\n",
              " (640, 51),\n",
              " (812, 52),\n",
              " (425, 53),\n",
              " (308, 54),\n",
              " (402, 55),\n",
              " (176, 56),\n",
              " (2, 57),\n",
              " (331, 58),\n",
              " (80, 59),\n",
              " (101, 60),\n",
              " (101, 61),\n",
              " (62, 62),\n",
              " (100, 63),\n",
              " (100, 64),\n",
              " (7, 65),\n",
              " (405, 66),\n",
              " (71, 67),\n",
              " (2111, 68),\n",
              " (12, 69),\n",
              " (16, 70),\n",
              " (942, 71),\n",
              " (668, 72),\n",
              " (1284, 73),\n",
              " (1044, 74),\n",
              " (1, 75),\n",
              " (1975, 76),\n",
              " (5740, 77),\n",
              " (88, 78),\n",
              " (77, 79),\n",
              " (32, 80),\n",
              " (1, 81),\n",
              " (116, 82),\n",
              " (52, 83),\n",
              " (22, 84),\n",
              " (1, 85),\n",
              " (29, 86),\n",
              " (36, 87),\n",
              " (32, 88),\n",
              " (131, 89),\n",
              " (185, 90),\n",
              " (224, 91),\n",
              " (178, 92),\n",
              " (79, 93),\n",
              " (204, 94),\n",
              " (2, 95),\n",
              " (383, 96),\n",
              " (174, 97),\n",
              " (560, 98),\n",
              " (2024, 99),\n",
              " (401, 100),\n",
              " (87, 101),\n",
              " (404, 102),\n",
              " (2824, 103),\n",
              " (2234, 104),\n",
              " (60, 105),\n",
              " (5739, 106),\n",
              " (139, 107),\n",
              " (6475, 108),\n",
              " (355, 109),\n",
              " (56, 110),\n",
              " (109, 111),\n",
              " (68812, 112),\n",
              " (54234, 113),\n",
              " (101, 114),\n",
              " (101, 115),\n",
              " (77270, 116),\n",
              " (66124, 117),\n",
              " (317, 118),\n",
              " (96, 119),\n",
              " (262, 120),\n",
              " (352, 121),\n",
              " (50, 122),\n",
              " (5949, 123),\n",
              " (3749, 124),\n",
              " (6397, 125),\n",
              " (101, 126),\n",
              " (101, 127),\n",
              " (101, 128),\n",
              " (94, 129),\n",
              " (195, 130),\n",
              " (6, 131),\n",
              " (2, 132),\n",
              " (11, 133),\n",
              " (2289, 134),\n",
              " (66, 135),\n",
              " (130, 136),\n",
              " (51, 137),\n",
              " (92, 138),\n",
              " (1, 139),\n",
              " (311, 140),\n",
              " (18, 141),\n",
              " (26, 142),\n",
              " (18335, 143),\n",
              " (34148, 144),\n",
              " (84, 145),\n",
              " (487, 146),\n",
              " (281, 147),\n",
              " (84, 148),\n",
              " (61, 149),\n",
              " (101, 150),\n",
              " (516, 151),\n",
              " (106, 152),\n",
              " (30, 153),\n",
              " (2, 154),\n",
              " (8, 155),\n",
              " (247, 156),\n",
              " (105, 157),\n",
              " (117, 158),\n",
              " (101, 159),\n",
              " (77, 160),\n",
              " (53, 161),\n",
              " (296, 162),\n",
              " (27, 163),\n",
              " (101, 164),\n",
              " (320, 165),\n",
              " (22102, 166),\n",
              " (379, 167),\n",
              " (24328, 168),\n",
              " (340, 169),\n",
              " (23830, 170),\n",
              " (237, 171),\n",
              " (18582, 172),\n",
              " (40, 173),\n",
              " (394, 174),\n",
              " (37, 175),\n",
              " (290, 176),\n",
              " (14, 177),\n",
              " (63, 178),\n",
              " (11, 179),\n",
              " (41, 180),\n",
              " (156, 181),\n",
              " (4668, 182),\n",
              " (217, 183),\n",
              " (5339, 184),\n",
              " (393, 185),\n",
              " (26504, 186),\n",
              " (286, 187),\n",
              " (20442, 188),\n",
              " (38, 189),\n",
              " (540, 190),\n",
              " (29009, 191),\n",
              " (2, 192),\n",
              " (11, 193),\n",
              " (2, 194),\n",
              " (2, 195),\n",
              " (2, 196),\n",
              " (2, 197),\n",
              " (2, 198),\n",
              " (2, 199),\n",
              " (2, 200),\n",
              " (2, 201),\n",
              " (2, 202),\n",
              " (1, 203),\n",
              " (2, 204),\n",
              " (2, 205),\n",
              " (2, 206),\n",
              " (61702, 207),\n",
              " (17651, 208),\n",
              " (39, 209),\n",
              " (12339, 210),\n",
              " (12921, 211),\n",
              " (6, 212),\n",
              " (1301, 213),\n",
              " (20, 214),\n",
              " (59, 215),\n",
              " (1, 216),\n",
              " (39, 217),\n",
              " (1, 218),\n",
              " (40, 219),\n",
              " (10, 220),\n",
              " (8, 221),\n",
              " (208, 222),\n",
              " (1192, 223),\n",
              " (22503, 224),\n",
              " (8542, 225),\n",
              " (2963, 226),\n",
              " (228, 227),\n",
              " (687, 228),\n",
              " (3671, 229),\n",
              " (1242, 230),\n",
              " (119, 231),\n",
              " (70, 232),\n",
              " (90, 233),\n",
              " (1190, 234),\n",
              " (1398, 235),\n",
              " (7692, 236),\n",
              " (281, 237),\n",
              " (4015, 238),\n",
              " (2745, 239),\n",
              " (5954, 240),\n",
              " (2265, 241),\n",
              " (1093, 242),\n",
              " (8584, 243),\n",
              " (6811, 244),\n",
              " (891, 245),\n",
              " (1448, 246),\n",
              " (3861, 247),\n",
              " (905, 248),\n",
              " (144, 249),\n",
              " (638, 250),\n",
              " (121, 251),\n",
              " (4, 252)]"
            ]
          },
          "metadata": {
            "tags": []
          },
          "execution_count": 188
        }
      ]
    },
    {
      "metadata": {
        "id": "5yJt2jzLVL74",
        "colab_type": "code",
        "colab": {
          "base_uri": "https://localhost:8080/",
          "height": 4112
        },
        "outputId": "bd78c227-ab5a-41a4-9ee8-5a1d3741a458"
      },
      "cell_type": "code",
      "source": [
        "np.asarray(cat_of_features)"
      ],
      "execution_count": 189,
      "outputs": [
        {
          "output_type": "execute_result",
          "data": {
            "text/plain": [
              "array([[39996,     1],\n",
              "       [20841,     2],\n",
              "       [47304,     3],\n",
              "       [21507,     4],\n",
              "       [48399,     5],\n",
              "       [ 2487,     6],\n",
              "       [ 6707,     7],\n",
              "       [ 5491,     8],\n",
              "       [11344,     9],\n",
              "       [  915,    10],\n",
              "       [ 5017,    11],\n",
              "       [  624,    12],\n",
              "       [ 3876,    13],\n",
              "       [10996,    14],\n",
              "       [    1,    15],\n",
              "       [    6,    16],\n",
              "       [   11,    17],\n",
              "       [ 1514,    18],\n",
              "       [ 1753,    19],\n",
              "       [ 3823,    20],\n",
              "       [ 1264,    21],\n",
              "       [   87,    22],\n",
              "       [    2,    23],\n",
              "       [    5,    24],\n",
              "       [ 1284,    25],\n",
              "       [    2,    26],\n",
              "       [    2,    27],\n",
              "       [   13,    28],\n",
              "       [    6,    29],\n",
              "       [    5,    30],\n",
              "       [    2,    31],\n",
              "       [    2,    32],\n",
              "       [    2,    33],\n",
              "       [  828,    34],\n",
              "       [    7,    35],\n",
              "       [  672,    36],\n",
              "       [ 4220,    37],\n",
              "       [76883,    38],\n",
              "       [67501,    39],\n",
              "       [53993,    40],\n",
              "       [ 6148,    41],\n",
              "       [ 3806,    42],\n",
              "       [32540,    43],\n",
              "       [22119,    44],\n",
              "       [24321,    45],\n",
              "       [ 6443,    46],\n",
              "       [47981,    47],\n",
              "       [12490,    48],\n",
              "       [26917,    49],\n",
              "       [  532,    50],\n",
              "       [  640,    51],\n",
              "       [  812,    52],\n",
              "       [  425,    53],\n",
              "       [  308,    54],\n",
              "       [  402,    55],\n",
              "       [  176,    56],\n",
              "       [    2,    57],\n",
              "       [  331,    58],\n",
              "       [   80,    59],\n",
              "       [  101,    60],\n",
              "       [  101,    61],\n",
              "       [   62,    62],\n",
              "       [  100,    63],\n",
              "       [  100,    64],\n",
              "       [    7,    65],\n",
              "       [  405,    66],\n",
              "       [   71,    67],\n",
              "       [ 2111,    68],\n",
              "       [   12,    69],\n",
              "       [   16,    70],\n",
              "       [  942,    71],\n",
              "       [  668,    72],\n",
              "       [ 1284,    73],\n",
              "       [ 1044,    74],\n",
              "       [    1,    75],\n",
              "       [ 1975,    76],\n",
              "       [ 5740,    77],\n",
              "       [   88,    78],\n",
              "       [   77,    79],\n",
              "       [   32,    80],\n",
              "       [    1,    81],\n",
              "       [  116,    82],\n",
              "       [   52,    83],\n",
              "       [   22,    84],\n",
              "       [    1,    85],\n",
              "       [   29,    86],\n",
              "       [   36,    87],\n",
              "       [   32,    88],\n",
              "       [  131,    89],\n",
              "       [  185,    90],\n",
              "       [  224,    91],\n",
              "       [  178,    92],\n",
              "       [   79,    93],\n",
              "       [  204,    94],\n",
              "       [    2,    95],\n",
              "       [  383,    96],\n",
              "       [  174,    97],\n",
              "       [  560,    98],\n",
              "       [ 2024,    99],\n",
              "       [  401,   100],\n",
              "       [   87,   101],\n",
              "       [  404,   102],\n",
              "       [ 2824,   103],\n",
              "       [ 2234,   104],\n",
              "       [   60,   105],\n",
              "       [ 5739,   106],\n",
              "       [  139,   107],\n",
              "       [ 6475,   108],\n",
              "       [  355,   109],\n",
              "       [   56,   110],\n",
              "       [  109,   111],\n",
              "       [68812,   112],\n",
              "       [54234,   113],\n",
              "       [  101,   114],\n",
              "       [  101,   115],\n",
              "       [77270,   116],\n",
              "       [66124,   117],\n",
              "       [  317,   118],\n",
              "       [   96,   119],\n",
              "       [  262,   120],\n",
              "       [  352,   121],\n",
              "       [   50,   122],\n",
              "       [ 5949,   123],\n",
              "       [ 3749,   124],\n",
              "       [ 6397,   125],\n",
              "       [  101,   126],\n",
              "       [  101,   127],\n",
              "       [  101,   128],\n",
              "       [   94,   129],\n",
              "       [  195,   130],\n",
              "       [    6,   131],\n",
              "       [    2,   132],\n",
              "       [   11,   133],\n",
              "       [ 2289,   134],\n",
              "       [   66,   135],\n",
              "       [  130,   136],\n",
              "       [   51,   137],\n",
              "       [   92,   138],\n",
              "       [    1,   139],\n",
              "       [  311,   140],\n",
              "       [   18,   141],\n",
              "       [   26,   142],\n",
              "       [18335,   143],\n",
              "       [34148,   144],\n",
              "       [   84,   145],\n",
              "       [  487,   146],\n",
              "       [  281,   147],\n",
              "       [   84,   148],\n",
              "       [   61,   149],\n",
              "       [  101,   150],\n",
              "       [  516,   151],\n",
              "       [  106,   152],\n",
              "       [   30,   153],\n",
              "       [    2,   154],\n",
              "       [    8,   155],\n",
              "       [  247,   156],\n",
              "       [  105,   157],\n",
              "       [  117,   158],\n",
              "       [  101,   159],\n",
              "       [   77,   160],\n",
              "       [   53,   161],\n",
              "       [  296,   162],\n",
              "       [   27,   163],\n",
              "       [  101,   164],\n",
              "       [  320,   165],\n",
              "       [22102,   166],\n",
              "       [  379,   167],\n",
              "       [24328,   168],\n",
              "       [  340,   169],\n",
              "       [23830,   170],\n",
              "       [  237,   171],\n",
              "       [18582,   172],\n",
              "       [   40,   173],\n",
              "       [  394,   174],\n",
              "       [   37,   175],\n",
              "       [  290,   176],\n",
              "       [   14,   177],\n",
              "       [   63,   178],\n",
              "       [   11,   179],\n",
              "       [   41,   180],\n",
              "       [  156,   181],\n",
              "       [ 4668,   182],\n",
              "       [  217,   183],\n",
              "       [ 5339,   184],\n",
              "       [  393,   185],\n",
              "       [26504,   186],\n",
              "       [  286,   187],\n",
              "       [20442,   188],\n",
              "       [   38,   189],\n",
              "       [  540,   190],\n",
              "       [29009,   191],\n",
              "       [    2,   192],\n",
              "       [   11,   193],\n",
              "       [    2,   194],\n",
              "       [    2,   195],\n",
              "       [    2,   196],\n",
              "       [    2,   197],\n",
              "       [    2,   198],\n",
              "       [    2,   199],\n",
              "       [    2,   200],\n",
              "       [    2,   201],\n",
              "       [    2,   202],\n",
              "       [    1,   203],\n",
              "       [    2,   204],\n",
              "       [    2,   205],\n",
              "       [    2,   206],\n",
              "       [61702,   207],\n",
              "       [17651,   208],\n",
              "       [   39,   209],\n",
              "       [12339,   210],\n",
              "       [12921,   211],\n",
              "       [    6,   212],\n",
              "       [ 1301,   213],\n",
              "       [   20,   214],\n",
              "       [   59,   215],\n",
              "       [    1,   216],\n",
              "       [   39,   217],\n",
              "       [    1,   218],\n",
              "       [   40,   219],\n",
              "       [   10,   220],\n",
              "       [    8,   221],\n",
              "       [  208,   222],\n",
              "       [ 1192,   223],\n",
              "       [22503,   224],\n",
              "       [ 8542,   225],\n",
              "       [ 2963,   226],\n",
              "       [  228,   227],\n",
              "       [  687,   228],\n",
              "       [ 3671,   229],\n",
              "       [ 1242,   230],\n",
              "       [  119,   231],\n",
              "       [   70,   232],\n",
              "       [   90,   233],\n",
              "       [ 1190,   234],\n",
              "       [ 1398,   235],\n",
              "       [ 7692,   236],\n",
              "       [  281,   237],\n",
              "       [ 4015,   238],\n",
              "       [ 2745,   239],\n",
              "       [ 5954,   240],\n",
              "       [ 2265,   241],\n",
              "       [ 1093,   242],\n",
              "       [ 8584,   243],\n",
              "       [ 6811,   244],\n",
              "       [  891,   245],\n",
              "       [ 1448,   246],\n",
              "       [ 3861,   247],\n",
              "       [  905,   248],\n",
              "       [  144,   249],\n",
              "       [  638,   250],\n",
              "       [  121,   251],\n",
              "       [    4,   252]])"
            ]
          },
          "metadata": {
            "tags": []
          },
          "execution_count": 189
        }
      ]
    },
    {
      "metadata": {
        "id": "cQJ9LviWTEYT",
        "colab_type": "code",
        "colab": {}
      },
      "cell_type": "code",
      "source": [
        "cat = pd.DataFrame(np.asarray(cat_of_features))"
      ],
      "execution_count": 0,
      "outputs": []
    },
    {
      "metadata": {
        "id": "6l_hLBM6U4kJ",
        "colab_type": "code",
        "colab": {
          "base_uri": "https://localhost:8080/",
          "height": 191
        },
        "outputId": "90f8e45d-1c1b-4078-936b-17930471cc5d"
      },
      "cell_type": "code",
      "source": [
        "cat.head()"
      ],
      "execution_count": 191,
      "outputs": [
        {
          "output_type": "execute_result",
          "data": {
            "text/html": [
              "<div>\n",
              "<style scoped>\n",
              "    .dataframe tbody tr th:only-of-type {\n",
              "        vertical-align: middle;\n",
              "    }\n",
              "\n",
              "    .dataframe tbody tr th {\n",
              "        vertical-align: top;\n",
              "    }\n",
              "\n",
              "    .dataframe thead th {\n",
              "        text-align: right;\n",
              "    }\n",
              "</style>\n",
              "<table border=\"1\" class=\"dataframe\">\n",
              "  <thead>\n",
              "    <tr style=\"text-align: right;\">\n",
              "      <th></th>\n",
              "      <th>0</th>\n",
              "      <th>1</th>\n",
              "    </tr>\n",
              "  </thead>\n",
              "  <tbody>\n",
              "    <tr>\n",
              "      <th>0</th>\n",
              "      <td>39996</td>\n",
              "      <td>1</td>\n",
              "    </tr>\n",
              "    <tr>\n",
              "      <th>1</th>\n",
              "      <td>20841</td>\n",
              "      <td>2</td>\n",
              "    </tr>\n",
              "    <tr>\n",
              "      <th>2</th>\n",
              "      <td>47304</td>\n",
              "      <td>3</td>\n",
              "    </tr>\n",
              "    <tr>\n",
              "      <th>3</th>\n",
              "      <td>21507</td>\n",
              "      <td>4</td>\n",
              "    </tr>\n",
              "    <tr>\n",
              "      <th>4</th>\n",
              "      <td>48399</td>\n",
              "      <td>5</td>\n",
              "    </tr>\n",
              "  </tbody>\n",
              "</table>\n",
              "</div>"
            ],
            "text/plain": [
              "       0  1\n",
              "0  39996  1\n",
              "1  20841  2\n",
              "2  47304  3\n",
              "3  21507  4\n",
              "4  48399  5"
            ]
          },
          "metadata": {
            "tags": []
          },
          "execution_count": 191
        }
      ]
    },
    {
      "metadata": {
        "id": "9Qj2EoqLhJrC",
        "colab_type": "code",
        "colab": {
          "base_uri": "https://localhost:8080/",
          "height": 33
        },
        "outputId": "4325cfbb-5fb0-42ed-ee2c-70c36d019ca3"
      },
      "cell_type": "code",
      "source": [
        "cat.shape"
      ],
      "execution_count": 193,
      "outputs": [
        {
          "output_type": "execute_result",
          "data": {
            "text/plain": [
              "(252, 2)"
            ]
          },
          "metadata": {
            "tags": []
          },
          "execution_count": 193
        }
      ]
    },
    {
      "metadata": {
        "id": "A9vd7ktNh32N",
        "colab_type": "text"
      },
      "cell_type": "markdown",
      "source": [
        "Посмотрим на признаки, где уникальных фич меньше тысячи"
      ]
    },
    {
      "metadata": {
        "id": "Mr86yQ9ugLof",
        "colab_type": "code",
        "colab": {
          "base_uri": "https://localhost:8080/",
          "height": 33
        },
        "outputId": "e812d8e2-2e26-4368-f3a1-fef9e76a5dc7"
      },
      "cell_type": "code",
      "source": [
        "cat[cat[0] < 8].shape"
      ],
      "execution_count": 202,
      "outputs": [
        {
          "output_type": "execute_result",
          "data": {
            "text/plain": [
              "(40, 2)"
            ]
          },
          "metadata": {
            "tags": []
          },
          "execution_count": 202
        }
      ]
    },
    {
      "metadata": {
        "id": "iZsbar8sT8Wr",
        "colab_type": "code",
        "colab": {
          "base_uri": "https://localhost:8080/",
          "height": 288
        },
        "outputId": "ccae09c3-6348-4504-9833-5a6b86d6f259"
      },
      "cell_type": "code",
      "source": [
        "cat[cat[0] < 5].plot.bar()"
      ],
      "execution_count": 208,
      "outputs": [
        {
          "output_type": "execute_result",
          "data": {
            "text/plain": [
              "<matplotlib.axes._subplots.AxesSubplot at 0x7f061679dba8>"
            ]
          },
          "metadata": {
            "tags": []
          },
          "execution_count": 208
        },
        {
          "output_type": "display_data",
          "data": {
            "image/png": "[encoded data removed]",
            "text/plain": [
              "<Figure size 432x288 with 1 Axes>"
            ]
          },
          "metadata": {
            "tags": []
          }
        }
      ]
    },
    {
      "metadata": {
        "id": "dBXN2abbi7R_",
        "colab_type": "code",
        "colab": {}
      },
      "cell_type": "code",
      "source": [
        ""
      ],
      "execution_count": 0,
      "outputs": []
    },
    {
      "metadata": {
        "id": "c9ymM0hp3Jza",
        "colab_type": "text"
      },
      "cell_type": "markdown",
      "source": [
        "#Удаляем кореллирующие признаки"
      ]
    },
    {
      "metadata": {
        "id": "OMCVfyUSXCJU",
        "colab_type": "code",
        "colab": {}
      },
      "cell_type": "code",
      "source": [
        "import matplotlib.pyplot as plt\n",
        "import seaborn as sns\n",
        "\n"
      ],
      "execution_count": 0,
      "outputs": []
    },
    {
      "metadata": {
        "id": "O86-lFX5YGeM",
        "colab_type": "code",
        "colab": {}
      },
      "cell_type": "code",
      "source": [
        "from sklearn.preprocessing import LabelEncoder, OneHotEncoder\n",
        "import warnings\n",
        "warnings.filterwarnings(\"ignore\")\n",
        "from sklearn.model_selection import train_test_split\n",
        "from sklearn.svm import SVC\n",
        "from sklearn.metrics import confusion_matrix"
      ],
      "execution_count": 0,
      "outputs": []
    },
    {
      "metadata": {
        "id": "mmCdBY7xcBKn",
        "colab_type": "code",
        "colab": {}
      },
      "cell_type": "code",
      "source": [
        "np.random.seed(123)"
      ],
      "execution_count": 0,
      "outputs": []
    },
    {
      "metadata": {
        "id": "4IYk2j3pdBx7",
        "colab_type": "code",
        "colab": {
          "base_uri": "https://localhost:8080/",
          "height": 50
        },
        "outputId": "4227b430-f8bc-45e4-bacf-38b4e64562b1"
      },
      "cell_type": "code",
      "source": [
        "%%time\n",
        "corr = df.corr()"
      ],
      "execution_count": 9,
      "outputs": [
        {
          "output_type": "stream",
          "text": [
            "CPU times: user 15.5 s, sys: 173 ms, total: 15.7 s\n",
            "Wall time: 15.7 s\n"
          ],
          "name": "stdout"
        }
      ]
    },
    {
      "metadata": {
        "id": "UTiEt-gxdI4C",
        "colab_type": "code",
        "colab": {
          "base_uri": "https://localhost:8080/",
          "height": 330
        },
        "outputId": "2d85541a-2cec-422b-d531-0851da8650f5"
      },
      "cell_type": "code",
      "source": [
        "sns.heatmap(corr)"
      ],
      "execution_count": 162,
      "outputs": [
        {
          "output_type": "execute_result",
          "data": {
            "text/plain": [
              "<matplotlib.axes._subplots.AxesSubplot at 0x7f0618a09908>"
            ]
          },
          "metadata": {
            "tags": []
          },
          "execution_count": 162
        },
        {
          "output_type": "display_data",
          "data": {
            "image/png": "[encoded data removed]",
            "text/plain": [
              "<Figure size 432x288 with 2 Axes>"
            ]
          },
          "metadata": {
            "tags": []
          }
        }
      ]
    },
    {
      "metadata": {
        "id": "tv-rrkIxeLDL",
        "colab_type": "code",
        "colab": {}
      },
      "cell_type": "code",
      "source": [
        "columns = np.full((corr.shape[0],), True, dtype=bool)\n",
        "for i in range(corr.shape[0]):\n",
        "    for j in range(i+1, corr.shape[0]):\n",
        "        if corr.iloc[i,j] >= 0.8:\n",
        "            if columns[j]:\n",
        "                columns[j] = False\n",
        "selected_columns = df.columns[columns]\n",
        "newdf = df[selected_columns]"
      ],
      "execution_count": 0,
      "outputs": []
    },
    {
      "metadata": {
        "id": "Rf0iJ9nOeeLC",
        "colab_type": "code",
        "colab": {
          "base_uri": "https://localhost:8080/",
          "height": 33
        },
        "outputId": "7f1b2dab-7ae5-4907-9cea-70b391b186e7"
      },
      "cell_type": "code",
      "source": [
        "newdf.shape"
      ],
      "execution_count": 11,
      "outputs": [
        {
          "output_type": "execute_result",
          "data": {
            "text/plain": [
              "(100000, 183)"
            ]
          },
          "metadata": {
            "tags": []
          },
          "execution_count": 11
        }
      ]
    },
    {
      "metadata": {
        "id": "WzyCPxc9fjTW",
        "colab_type": "code",
        "colab": {}
      },
      "cell_type": "code",
      "source": [
        "m = newdf.columns.values"
      ],
      "execution_count": 0,
      "outputs": []
    },
    {
      "metadata": {
        "id": "UGSpRQo0xmLY",
        "colab_type": "code",
        "colab": {
          "base_uri": "https://localhost:8080/",
          "height": 342
        },
        "outputId": "9202564c-f822-46ee-bcc5-079778f6258e"
      },
      "cell_type": "code",
      "source": [
        "m"
      ],
      "execution_count": 14,
      "outputs": [
        {
          "output_type": "execute_result",
          "data": {
            "text/plain": [
              "array(['Unnamed: 0', 'id', 'buy_time', '0', '1', '6', '7', '9', '10',\n",
              "       '11', '12', '15', '16', '18', '19', '20', '21', '22', '23', '24',\n",
              "       '25', '26', '27', '28', '31', '32', '34', '36', '37', '38', '39',\n",
              "       '41', '42', '43', '46', '47', '48', '49', '50', '54', '56', '57',\n",
              "       '58', '59', '60', '61', '62', '64', '65', '66', '67', '68', '69',\n",
              "       '70', '73', '74', '75', '76', '77', '78', '80', '81', '82', '83',\n",
              "       '84', '85', '86', '89', '90', '91', '93', '94', '95', '96', '97',\n",
              "       '98', '99', '100', '101', '102', '103', '105', '106', '107', '109',\n",
              "       '110', '111', '114', '115', '118', '119', '122', '126', '127',\n",
              "       '128', '129', '130', '131', '132', '133', '134', '135', '136',\n",
              "       '139', '140', '141', '143', '145', '148', '149', '150', '152',\n",
              "       '153', '156', '157', '158', '159', '160', '161', '163', '164',\n",
              "       '165', '167', '173', '174', '175', '177', '179', '181', '189',\n",
              "       '191', '192', '193', '194', '195', '196', '197', '199', '200',\n",
              "       '201', '202', '203', '204', '205', '206', '207', '208', '209',\n",
              "       '210', '211', '212', '213', '214', '215', '216', '220', '221',\n",
              "       '222', '225', '226', '227', '228', '229', '230', '231', '232',\n",
              "       '233', '235', '236', '237', '238', '239', '241', '242', '243',\n",
              "       '245', '246', '247', '248', '249', '250', '251', '252'],\n",
              "      dtype=object)"
            ]
          },
          "metadata": {
            "tags": []
          },
          "execution_count": 14
        }
      ]
    },
    {
      "metadata": {
        "id": "L6Hw1GZp3sv7",
        "colab_type": "code",
        "colab": {
          "base_uri": "https://localhost:8080/",
          "height": 255
        },
        "outputId": "78db1339-9767-44bf-864b-c880d8452dca"
      },
      "cell_type": "code",
      "source": [
        "newdf.head()"
      ],
      "execution_count": 19,
      "outputs": [
        {
          "output_type": "execute_result",
          "data": {
            "text/html": [
              "<div>\n",
              "<style scoped>\n",
              "    .dataframe tbody tr th:only-of-type {\n",
              "        vertical-align: middle;\n",
              "    }\n",
              "\n",
              "    .dataframe tbody tr th {\n",
              "        vertical-align: top;\n",
              "    }\n",
              "\n",
              "    .dataframe thead th {\n",
              "        text-align: right;\n",
              "    }\n",
              "</style>\n",
              "<table border=\"1\" class=\"dataframe\">\n",
              "  <thead>\n",
              "    <tr style=\"text-align: right;\">\n",
              "      <th></th>\n",
              "      <th>Unnamed: 0</th>\n",
              "      <th>id</th>\n",
              "      <th>buy_time</th>\n",
              "      <th>0</th>\n",
              "      <th>1</th>\n",
              "      <th>6</th>\n",
              "      <th>7</th>\n",
              "      <th>9</th>\n",
              "      <th>10</th>\n",
              "      <th>11</th>\n",
              "      <th>...</th>\n",
              "      <th>242</th>\n",
              "      <th>243</th>\n",
              "      <th>245</th>\n",
              "      <th>246</th>\n",
              "      <th>247</th>\n",
              "      <th>248</th>\n",
              "      <th>249</th>\n",
              "      <th>250</th>\n",
              "      <th>251</th>\n",
              "      <th>252</th>\n",
              "    </tr>\n",
              "  </thead>\n",
              "  <tbody>\n",
              "    <tr>\n",
              "      <th>0</th>\n",
              "      <td>0</td>\n",
              "      <td>2013026</td>\n",
              "      <td>1531688400</td>\n",
              "      <td>18.910029</td>\n",
              "      <td>46.980888</td>\n",
              "      <td>-16.08618</td>\n",
              "      <td>-65.076097</td>\n",
              "      <td>-30.006538</td>\n",
              "      <td>-2.736081</td>\n",
              "      <td>-4.007526</td>\n",
              "      <td>...</td>\n",
              "      <td>-17.295406</td>\n",
              "      <td>-977.373846</td>\n",
              "      <td>-25.996269</td>\n",
              "      <td>-37.630448</td>\n",
              "      <td>-301.747724</td>\n",
              "      <td>-25.832889</td>\n",
              "      <td>-0.694428</td>\n",
              "      <td>-12.175933</td>\n",
              "      <td>-0.45614</td>\n",
              "      <td>0.0</td>\n",
              "    </tr>\n",
              "    <tr>\n",
              "      <th>1</th>\n",
              "      <td>1</td>\n",
              "      <td>2014722</td>\n",
              "      <td>1539550800</td>\n",
              "      <td>36.690029</td>\n",
              "      <td>152.400888</td>\n",
              "      <td>-16.08618</td>\n",
              "      <td>-53.216097</td>\n",
              "      <td>-26.544905</td>\n",
              "      <td>-2.736081</td>\n",
              "      <td>-4.007526</td>\n",
              "      <td>...</td>\n",
              "      <td>-5.295406</td>\n",
              "      <td>-891.373846</td>\n",
              "      <td>-20.996269</td>\n",
              "      <td>48.369552</td>\n",
              "      <td>80.252276</td>\n",
              "      <td>-13.832889</td>\n",
              "      <td>-0.694428</td>\n",
              "      <td>-1.175933</td>\n",
              "      <td>-0.45614</td>\n",
              "      <td>0.0</td>\n",
              "    </tr>\n",
              "    <tr>\n",
              "      <th>2</th>\n",
              "      <td>2</td>\n",
              "      <td>2015199</td>\n",
              "      <td>1545598800</td>\n",
              "      <td>-67.019971</td>\n",
              "      <td>157.050888</td>\n",
              "      <td>3.51382</td>\n",
              "      <td>25.183903</td>\n",
              "      <td>-1.689642</td>\n",
              "      <td>-2.736081</td>\n",
              "      <td>9.226737</td>\n",
              "      <td>...</td>\n",
              "      <td>-17.295406</td>\n",
              "      <td>-977.373846</td>\n",
              "      <td>-12.996269</td>\n",
              "      <td>-37.630448</td>\n",
              "      <td>10829.252276</td>\n",
              "      <td>-25.832889</td>\n",
              "      <td>-0.694428</td>\n",
              "      <td>-12.175933</td>\n",
              "      <td>-0.45614</td>\n",
              "      <td>0.0</td>\n",
              "    </tr>\n",
              "    <tr>\n",
              "      <th>3</th>\n",
              "      <td>3</td>\n",
              "      <td>2021765</td>\n",
              "      <td>1534107600</td>\n",
              "      <td>7.010029</td>\n",
              "      <td>150.200888</td>\n",
              "      <td>-16.08618</td>\n",
              "      <td>-65.076097</td>\n",
              "      <td>-30.006538</td>\n",
              "      <td>-2.736081</td>\n",
              "      <td>-4.007526</td>\n",
              "      <td>...</td>\n",
              "      <td>-17.295406</td>\n",
              "      <td>-973.373846</td>\n",
              "      <td>-23.996269</td>\n",
              "      <td>-37.630448</td>\n",
              "      <td>-205.747724</td>\n",
              "      <td>-24.832889</td>\n",
              "      <td>-0.694428</td>\n",
              "      <td>-11.175933</td>\n",
              "      <td>-0.45614</td>\n",
              "      <td>1.0</td>\n",
              "    </tr>\n",
              "    <tr>\n",
              "      <th>4</th>\n",
              "      <td>4</td>\n",
              "      <td>2027465</td>\n",
              "      <td>1533502800</td>\n",
              "      <td>-90.439971</td>\n",
              "      <td>134.220888</td>\n",
              "      <td>-16.08618</td>\n",
              "      <td>-65.076097</td>\n",
              "      <td>-30.006538</td>\n",
              "      <td>-2.736081</td>\n",
              "      <td>-4.007526</td>\n",
              "      <td>...</td>\n",
              "      <td>105.704594</td>\n",
              "      <td>1643.626154</td>\n",
              "      <td>206.003731</td>\n",
              "      <td>-21.630448</td>\n",
              "      <td>6667.252276</td>\n",
              "      <td>92.167111</td>\n",
              "      <td>-0.694428</td>\n",
              "      <td>49.824067</td>\n",
              "      <td>47.54386</td>\n",
              "      <td>0.0</td>\n",
              "    </tr>\n",
              "  </tbody>\n",
              "</table>\n",
              "<p>5 rows × 183 columns</p>\n",
              "</div>"
            ],
            "text/plain": [
              "   Unnamed: 0       id    buy_time          0           1         6  \\\n",
              "0           0  2013026  1531688400  18.910029   46.980888 -16.08618   \n",
              "1           1  2014722  1539550800  36.690029  152.400888 -16.08618   \n",
              "2           2  2015199  1545598800 -67.019971  157.050888   3.51382   \n",
              "3           3  2021765  1534107600   7.010029  150.200888 -16.08618   \n",
              "4           4  2027465  1533502800 -90.439971  134.220888 -16.08618   \n",
              "\n",
              "           7          9        10        11 ...          242          243  \\\n",
              "0 -65.076097 -30.006538 -2.736081 -4.007526 ...   -17.295406  -977.373846   \n",
              "1 -53.216097 -26.544905 -2.736081 -4.007526 ...    -5.295406  -891.373846   \n",
              "2  25.183903  -1.689642 -2.736081  9.226737 ...   -17.295406  -977.373846   \n",
              "3 -65.076097 -30.006538 -2.736081 -4.007526 ...   -17.295406  -973.373846   \n",
              "4 -65.076097 -30.006538 -2.736081 -4.007526 ...   105.704594  1643.626154   \n",
              "\n",
              "          245        246           247        248       249        250  \\\n",
              "0  -25.996269 -37.630448   -301.747724 -25.832889 -0.694428 -12.175933   \n",
              "1  -20.996269  48.369552     80.252276 -13.832889 -0.694428  -1.175933   \n",
              "2  -12.996269 -37.630448  10829.252276 -25.832889 -0.694428 -12.175933   \n",
              "3  -23.996269 -37.630448   -205.747724 -24.832889 -0.694428 -11.175933   \n",
              "4  206.003731 -21.630448   6667.252276  92.167111 -0.694428  49.824067   \n",
              "\n",
              "        251  252  \n",
              "0  -0.45614  0.0  \n",
              "1  -0.45614  0.0  \n",
              "2  -0.45614  0.0  \n",
              "3  -0.45614  1.0  \n",
              "4  47.54386  0.0  \n",
              "\n",
              "[5 rows x 183 columns]"
            ]
          },
          "metadata": {
            "tags": []
          },
          "execution_count": 19
        }
      ]
    },
    {
      "metadata": {
        "id": "sN7j-3fn3x39",
        "colab_type": "code",
        "colab": {}
      },
      "cell_type": "code",
      "source": [
        "xtrain = train.merge(newdf, left_on='id', right_on='id')"
      ],
      "execution_count": 0,
      "outputs": []
    },
    {
      "metadata": {
        "id": "8t-a22XA3889",
        "colab_type": "code",
        "colab": {
          "base_uri": "https://localhost:8080/",
          "height": 33
        },
        "outputId": "98016b5c-66f7-479b-988e-fe946d65c677"
      },
      "cell_type": "code",
      "source": [
        "xtrain.shape"
      ],
      "execution_count": 21,
      "outputs": [
        {
          "output_type": "execute_result",
          "data": {
            "text/plain": [
              "(82894, 186)"
            ]
          },
          "metadata": {
            "tags": []
          },
          "execution_count": 21
        }
      ]
    },
    {
      "metadata": {
        "id": "5BiIQSbG4T_M",
        "colab_type": "code",
        "colab": {
          "base_uri": "https://localhost:8080/",
          "height": 255
        },
        "outputId": "b67cb8fd-03a6-4c63-edf6-deeac5fb702f"
      },
      "cell_type": "code",
      "source": [
        "xtrain.head()"
      ],
      "execution_count": 22,
      "outputs": [
        {
          "output_type": "execute_result",
          "data": {
            "text/html": [
              "<div>\n",
              "<style scoped>\n",
              "    .dataframe tbody tr th:only-of-type {\n",
              "        vertical-align: middle;\n",
              "    }\n",
              "\n",
              "    .dataframe tbody tr th {\n",
              "        vertical-align: top;\n",
              "    }\n",
              "\n",
              "    .dataframe thead th {\n",
              "        text-align: right;\n",
              "    }\n",
              "</style>\n",
              "<table border=\"1\" class=\"dataframe\">\n",
              "  <thead>\n",
              "    <tr style=\"text-align: right;\">\n",
              "      <th></th>\n",
              "      <th>id</th>\n",
              "      <th>vas_id</th>\n",
              "      <th>buy_time_x</th>\n",
              "      <th>target</th>\n",
              "      <th>Unnamed: 0</th>\n",
              "      <th>buy_time_y</th>\n",
              "      <th>0</th>\n",
              "      <th>1</th>\n",
              "      <th>6</th>\n",
              "      <th>7</th>\n",
              "      <th>...</th>\n",
              "      <th>242</th>\n",
              "      <th>243</th>\n",
              "      <th>245</th>\n",
              "      <th>246</th>\n",
              "      <th>247</th>\n",
              "      <th>248</th>\n",
              "      <th>249</th>\n",
              "      <th>250</th>\n",
              "      <th>251</th>\n",
              "      <th>252</th>\n",
              "    </tr>\n",
              "  </thead>\n",
              "  <tbody>\n",
              "    <tr>\n",
              "      <th>0</th>\n",
              "      <td>990392</td>\n",
              "      <td>6.0</td>\n",
              "      <td>1544994000</td>\n",
              "      <td>0.0</td>\n",
              "      <td>70252</td>\n",
              "      <td>1538946000</td>\n",
              "      <td>-96.799971</td>\n",
              "      <td>-242.929112</td>\n",
              "      <td>-16.08618</td>\n",
              "      <td>-65.076097</td>\n",
              "      <td>...</td>\n",
              "      <td>-17.295406</td>\n",
              "      <td>-966.373846</td>\n",
              "      <td>-25.996269</td>\n",
              "      <td>-4.630448</td>\n",
              "      <td>-211.747724</td>\n",
              "      <td>-19.832889</td>\n",
              "      <td>-0.694428</td>\n",
              "      <td>-9.175933</td>\n",
              "      <td>2.54386</td>\n",
              "      <td>1.0</td>\n",
              "    </tr>\n",
              "    <tr>\n",
              "      <th>1</th>\n",
              "      <td>1979749</td>\n",
              "      <td>2.0</td>\n",
              "      <td>1533502800</td>\n",
              "      <td>0.0</td>\n",
              "      <td>15930</td>\n",
              "      <td>1542574800</td>\n",
              "      <td>-63.759971</td>\n",
              "      <td>-242.989112</td>\n",
              "      <td>9.33382</td>\n",
              "      <td>23.893903</td>\n",
              "      <td>...</td>\n",
              "      <td>-17.295406</td>\n",
              "      <td>-977.373846</td>\n",
              "      <td>-25.996269</td>\n",
              "      <td>-37.630448</td>\n",
              "      <td>-306.747724</td>\n",
              "      <td>-25.832889</td>\n",
              "      <td>-0.694428</td>\n",
              "      <td>-12.175933</td>\n",
              "      <td>-0.45614</td>\n",
              "      <td>0.0</td>\n",
              "    </tr>\n",
              "    <tr>\n",
              "      <th>2</th>\n",
              "      <td>2852247</td>\n",
              "      <td>6.0</td>\n",
              "      <td>1546808400</td>\n",
              "      <td>1.0</td>\n",
              "      <td>96703</td>\n",
              "      <td>1535317200</td>\n",
              "      <td>206.620029</td>\n",
              "      <td>448.790888</td>\n",
              "      <td>61.05382</td>\n",
              "      <td>232.463903</td>\n",
              "      <td>...</td>\n",
              "      <td>-17.295406</td>\n",
              "      <td>287.626154</td>\n",
              "      <td>-10.996269</td>\n",
              "      <td>-19.630448</td>\n",
              "      <td>-184.747724</td>\n",
              "      <td>-14.832889</td>\n",
              "      <td>-0.694428</td>\n",
              "      <td>-1.175933</td>\n",
              "      <td>-0.45614</td>\n",
              "      <td>1.0</td>\n",
              "    </tr>\n",
              "    <tr>\n",
              "      <th>3</th>\n",
              "      <td>2634750</td>\n",
              "      <td>6.0</td>\n",
              "      <td>1544389200</td>\n",
              "      <td>1.0</td>\n",
              "      <td>28518</td>\n",
              "      <td>1544389200</td>\n",
              "      <td>-96.799971</td>\n",
              "      <td>-71.309112</td>\n",
              "      <td>-16.08618</td>\n",
              "      <td>-65.076097</td>\n",
              "      <td>...</td>\n",
              "      <td>-17.295406</td>\n",
              "      <td>-977.373846</td>\n",
              "      <td>-25.996269</td>\n",
              "      <td>-36.630448</td>\n",
              "      <td>-256.747724</td>\n",
              "      <td>-23.832889</td>\n",
              "      <td>-0.694428</td>\n",
              "      <td>-12.175933</td>\n",
              "      <td>-0.45614</td>\n",
              "      <td>0.0</td>\n",
              "    </tr>\n",
              "    <tr>\n",
              "      <th>4</th>\n",
              "      <td>2871863</td>\n",
              "      <td>1.0</td>\n",
              "      <td>1537131600</td>\n",
              "      <td>0.0</td>\n",
              "      <td>215</td>\n",
              "      <td>1537131600</td>\n",
              "      <td>23.340029</td>\n",
              "      <td>58.970888</td>\n",
              "      <td>-16.08618</td>\n",
              "      <td>-65.076097</td>\n",
              "      <td>...</td>\n",
              "      <td>-17.295406</td>\n",
              "      <td>-977.373846</td>\n",
              "      <td>-25.996269</td>\n",
              "      <td>-37.630448</td>\n",
              "      <td>-306.747724</td>\n",
              "      <td>-25.832889</td>\n",
              "      <td>-0.694428</td>\n",
              "      <td>-12.175933</td>\n",
              "      <td>-0.45614</td>\n",
              "      <td>1.0</td>\n",
              "    </tr>\n",
              "  </tbody>\n",
              "</table>\n",
              "<p>5 rows × 186 columns</p>\n",
              "</div>"
            ],
            "text/plain": [
              "        id  vas_id  buy_time_x  target  Unnamed: 0  buy_time_y           0  \\\n",
              "0   990392     6.0  1544994000     0.0       70252  1538946000  -96.799971   \n",
              "1  1979749     2.0  1533502800     0.0       15930  1542574800  -63.759971   \n",
              "2  2852247     6.0  1546808400     1.0       96703  1535317200  206.620029   \n",
              "3  2634750     6.0  1544389200     1.0       28518  1544389200  -96.799971   \n",
              "4  2871863     1.0  1537131600     0.0         215  1537131600   23.340029   \n",
              "\n",
              "            1         6           7 ...         242         243        245  \\\n",
              "0 -242.929112 -16.08618  -65.076097 ...  -17.295406 -966.373846 -25.996269   \n",
              "1 -242.989112   9.33382   23.893903 ...  -17.295406 -977.373846 -25.996269   \n",
              "2  448.790888  61.05382  232.463903 ...  -17.295406  287.626154 -10.996269   \n",
              "3  -71.309112 -16.08618  -65.076097 ...  -17.295406 -977.373846 -25.996269   \n",
              "4   58.970888 -16.08618  -65.076097 ...  -17.295406 -977.373846 -25.996269   \n",
              "\n",
              "         246         247        248       249        250      251  252  \n",
              "0  -4.630448 -211.747724 -19.832889 -0.694428  -9.175933  2.54386  1.0  \n",
              "1 -37.630448 -306.747724 -25.832889 -0.694428 -12.175933 -0.45614  0.0  \n",
              "2 -19.630448 -184.747724 -14.832889 -0.694428  -1.175933 -0.45614  1.0  \n",
              "3 -36.630448 -256.747724 -23.832889 -0.694428 -12.175933 -0.45614  0.0  \n",
              "4 -37.630448 -306.747724 -25.832889 -0.694428 -12.175933 -0.45614  1.0  \n",
              "\n",
              "[5 rows x 186 columns]"
            ]
          },
          "metadata": {
            "tags": []
          },
          "execution_count": 22
        }
      ]
    },
    {
      "metadata": {
        "id": "esLbBFZ2BMrl",
        "colab_type": "code",
        "colab": {}
      },
      "cell_type": "code",
      "source": [
        "target = "
      ],
      "execution_count": 0,
      "outputs": []
    },
    {
      "metadata": {
        "id": "7xHOcbvY3gON",
        "colab_type": "code",
        "colab": {}
      },
      "cell_type": "code",
      "source": [
        "selected_columns = selected_columns[1:].values\n",
        "import statsmodels.formula.api as sm\n",
        "def backwardElimination(x, Y, sl, columns):\n",
        "    numVars = len(x[0])\n",
        "    for i in range(0, numVars):\n",
        "        regressor_OLS = sm.OLS(Y, x).fit()\n",
        "        maxVar = max(regressor_OLS.pvalues).astype(float)\n",
        "        if maxVar > sl:\n",
        "            for j in range(0, numVars - i):\n",
        "                if (regressor_OLS.pvalues[j].astype(float) == maxVar):\n",
        "                    x = np.delete(x, j, 1)\n",
        "                    columns = np.delete(columns, j)\n",
        "                    \n",
        "    regressor_OLS.summary()\n",
        "    return x, columns\n",
        "SL = 0.05\n",
        "data_modeled, selected_columns = backwardElimination(data.iloc[:,1:].values, data.iloc[:,0].values, SL, selected_columns)"
      ],
      "execution_count": 0,
      "outputs": []
    },
    {
      "metadata": {
        "id": "VjzBr2p-xprf",
        "colab_type": "code",
        "colab": {}
      },
      "cell_type": "code",
      "source": [
        "fields = np.concatenate((np.array(['id', 'buy_time']), m))"
      ],
      "execution_count": 0,
      "outputs": []
    },
    {
      "metadata": {
        "id": "aEzhvD5gzCBZ",
        "colab_type": "code",
        "colab": {}
      },
      "cell_type": "code",
      "source": [
        "df = pd.read_csv('drive/My Drive/СupIT_final/features.csv', sep='\\t', usecols=fields)"
      ],
      "execution_count": 0,
      "outputs": []
    }
  ]
}