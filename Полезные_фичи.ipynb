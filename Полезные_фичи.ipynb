{
  "nbformat": 4,
  "nbformat_minor": 0,
  "metadata": {
    "colab": {
      "name": "Полезные фичи.ipynb",
      "version": "0.3.2",
      "provenance": [],
      "include_colab_link": true
    },
    "kernelspec": {
      "name": "python3",
      "display_name": "Python 3"
    }
  },
  "cells": [
    {
      "cell_type": "markdown",
      "metadata": {
        "id": "view-in-github",
        "colab_type": "text"
      },
      "source": [
        "<a href=\"https://colab.research.google.com/github/zqiaohe/100daysofcode/blob/master/%D0%9F%D0%BE%D0%BB%D0%B5%D0%B7%D0%BD%D1%8B%D0%B5_%D1%84%D0%B8%D1%87%D0%B8.ipynb\" target=\"_parent\"><img src=\"https://colab.research.google.com/assets/colab-badge.svg\" alt=\"Open In Colab\"/></a>"
      ]
    },
    {
      "metadata": {
        "id": "ROJB8RWf1hfM",
        "colab_type": "text"
      },
      "cell_type": "markdown",
      "source": [
        "#Python и его фичи"
      ]
    },
    {
      "metadata": {
        "id": "ROWQjNJ53Wa4",
        "colab_type": "text"
      },
      "cell_type": "markdown",
      "source": [
        "###Map и zip\n",
        "\n",
        "Взято из статьи:\n",
        "\n",
        "http://ninjaside.info/blog/ru/funkcii-map-i-zip-i-lambda-python/"
      ]
    },
    {
      "metadata": {
        "id": "FPuJBBcW1q_x",
        "colab_type": "code",
        "outputId": "9a8ff296-b871-4bb0-b843-0d3db56ba9a4",
        "colab": {
          "base_uri": "https://localhost:8080/",
          "height": 34
        }
      },
      "cell_type": "code",
      "source": [
        "nums = [1,2,3]\n",
        "print(*map(lambda x: x*x, nums))"
      ],
      "execution_count": 0,
      "outputs": [
        {
          "output_type": "stream",
          "text": [
            "1 4 9\n"
          ],
          "name": "stdout"
        }
      ]
    },
    {
      "metadata": {
        "id": "urWdujR_2MQS",
        "colab_type": "code",
        "outputId": "a9ce791e-941b-4fe6-ae58-d7efdaa63b0d",
        "colab": {
          "base_uri": "https://localhost:8080/",
          "height": 34
        }
      },
      "cell_type": "code",
      "source": [
        "def f(x, y, c):    \n",
        "    return x*y*c\n",
        "\n",
        "a = [1,3,4]\n",
        "b = [3,4,5]\n",
        "c = [3,4,5]\n",
        "print (*map(f, a, b, c))"
      ],
      "execution_count": 0,
      "outputs": [
        {
          "output_type": "stream",
          "text": [
            "9 48 100\n"
          ],
          "name": "stdout"
        }
      ]
    },
    {
      "metadata": {
        "id": "hFjVWGZC46AM",
        "colab_type": "text"
      },
      "cell_type": "markdown",
      "source": [
        "#Работа с Colab"
      ]
    },
    {
      "metadata": {
        "id": "SNWbUrMa5GQ0",
        "colab_type": "code",
        "colab": {}
      },
      "cell_type": "code",
      "source": [
        "#подключение гуглдиска\n",
        "\n",
        "from google.colab import drive\n",
        "drive.mount('/content/gdrive')"
      ],
      "execution_count": 0,
      "outputs": []
    },
    {
      "metadata": {
        "id": "FEegubmf5Kor",
        "colab_type": "code",
        "colab": {}
      },
      "cell_type": "code",
      "source": [
        "# про разархивирование и про то, как адрес оформлять в ссылках\n",
        "!unzip /content/gdrive/My\\ Drive/[11]segmentation/data"
      ],
      "execution_count": 0,
      "outputs": []
    },
    {
      "metadata": {
        "id": "WnXyG2_QFaX3",
        "colab_type": "code",
        "colab": {}
      },
      "cell_type": "code",
      "source": [
        ""
      ],
      "execution_count": 0,
      "outputs": []
    },
    {
      "metadata": {
        "id": "llwoOeixF1L3",
        "colab_type": "text"
      },
      "cell_type": "markdown",
      "source": [
        "#Cетки"
      ]
    },
    {
      "metadata": {
        "id": "KMWU7J4cGEfe",
        "colab_type": "text"
      },
      "cell_type": "markdown",
      "source": [
        "https://github.com/qubvel/segmentation_models"
      ]
    },
    {
      "metadata": {
        "id": "zyqeReMbF7e3",
        "colab_type": "code",
        "colab": {}
      },
      "cell_type": "code",
      "source": [
        "!pip install git+https://github.com/qubvel/segmentation_models"
      ],
      "execution_count": 0,
      "outputs": []
    },
    {
      "metadata": {
        "id": "t32RpqHbF8Un",
        "colab_type": "code",
        "colab": {}
      },
      "cell_type": "code",
      "source": [
        "from segmentation_models import Unet\n",
        "from segmentation_models.backbones import get_preprocessing\n",
        "\n",
        "for x, y in keras_generator(train_df, 10, 1):\n",
        "    break\n",
        "preprocessing_fn = get_preprocessing('resnet34')\n",
        "x = preprocessing_fn(x)\n",
        "\n",
        "# prepare model\n",
        "model = Unet(backbone_name='densenet121', encoder_weights='imagenet')\n",
        "model.compile('Adam', 'binary_crossentropy', ['binary_accuracy'])"
      ],
      "execution_count": 0,
      "outputs": []
    }
  ]
}