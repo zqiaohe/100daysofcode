{
 "cells": [
  {
   "cell_type": "markdown",
   "metadata": {
    "colab_type": "text",
    "id": "QrFZcpjWhXmu"
   },
   "source": [
    "<img src=\"https://s8.hostingkartinok.com/uploads/images/2018/08/308b49fcfbc619d629fe4604bceb67ac.jpg\" width=500, height=450>\n",
    "<h3 style=\"text-align: center;\"><b>Физтех-Школа Прикладной математики и информатики (ФПМИ) МФТИ</b></h3>"
   ]
  },
  {
   "cell_type": "markdown",
   "metadata": {
    "colab_type": "text",
    "id": "N-eUksfYhXmw"
   },
   "source": [
    "---"
   ]
  },
  {
   "cell_type": "markdown",
   "metadata": {
    "colab_type": "text",
    "id": "s1gDLaL4hXmy"
   },
   "source": [
    "<h2 style=\"text-align: center;\"><b>Основы фреймворка TensorFlow</b></h2>"
   ]
  },
  {
   "cell_type": "markdown",
   "metadata": {
    "colab_type": "text",
    "id": "xO60qAcehXmz"
   },
   "source": [
    "<img src=\"https://cdn-images-1.medium.com/max/1600/1*eFRgat2Iy6wZpi_DEItKgA.png\" width=300 height=225>"
   ]
  },
  {
   "cell_type": "markdown",
   "metadata": {
    "colab_type": "text",
    "id": "oau2UtHAhXm0"
   },
   "source": [
    "<h4 style=\"text-align: center;\"><b>Составитель: Илья Захаркин (ФИВТ МФТИ, NeurusLab). По всем вопросам в Telegram: <a>@ilyazakharkin</a></b></h4>"
   ]
  },
  {
   "cell_type": "markdown",
   "metadata": {
    "colab_type": "text",
    "id": "TJ2m6tMRhXm6"
   },
   "source": [
    "В этом ноутбуке мы более близко познакомимся с TF и попрактикуемся в классификации на FashionMNIST с помощью этого фреймворка. Пайплайн у него очень похож на PyTorch и Keras, однако есть много технических нюансов, которым и посвящён этот ноутбук.\n",
    "\n",
    "*Примечание*: рекомендуется выполнять этот ноутбук в Google Colab во избежание проблем с установкой (если ставить `tensorflow`  без GPU, то проблем, на самом деле, быть не должно)."
   ]
  },
  {
   "cell_type": "markdown",
   "metadata": {
    "colab_type": "text",
    "id": "a6bFHmsahXm7"
   },
   "source": [
    "<h3 style=\"text-align: center;\"><b>Основы: граф и сессия</b></h3>"
   ]
  },
  {
   "cell_type": "markdown",
   "metadata": {
    "colab_type": "text",
    "id": "Q1yhvp1shXm8"
   },
   "source": [
    "Если tf не установлен:"
   ]
  },
  {
   "cell_type": "code",
   "execution_count": 8,
   "metadata": {
    "colab": {},
    "colab_type": "code",
    "id": "fLphjNfHhXm-"
   },
   "outputs": [
    {
     "name": "stdout",
     "output_type": "stream",
     "text": [
      "Collecting tensorflow\n"
     ]
    },
    {
     "name": "stderr",
     "output_type": "stream",
     "text": [
      "  Could not find a version that satisfies the requirement tensorflow (from versions: )\n",
      "No matching distribution found for tensorflow\n"
     ]
    }
   ],
   "source": [
    "!pip install tensorflow"
   ]
  },
  {
   "cell_type": "markdown",
   "metadata": {
    "colab_type": "text",
    "id": "qRkaB56ghXnD"
   },
   "source": [
    "Импортируем:"
   ]
  },
  {
   "cell_type": "code",
   "execution_count": 7,
   "metadata": {
    "colab": {},
    "colab_type": "code",
    "id": "Lkae2NgkhXnE"
   },
   "outputs": [
    {
     "ename": "ModuleNotFoundError",
     "evalue": "No module named 'tensorflow'",
     "output_type": "error",
     "traceback": [
      "\u001b[1;31m---------------------------------------------------------------------------\u001b[0m",
      "\u001b[1;31mModuleNotFoundError\u001b[0m                       Traceback (most recent call last)",
      "\u001b[1;32m<ipython-input-7-64156d691fe5>\u001b[0m in \u001b[0;36m<module>\u001b[1;34m()\u001b[0m\n\u001b[1;32m----> 1\u001b[1;33m \u001b[1;32mimport\u001b[0m \u001b[0mtensorflow\u001b[0m \u001b[1;32mas\u001b[0m \u001b[0mtf\u001b[0m\u001b[1;33m\u001b[0m\u001b[0m\n\u001b[0m",
      "\u001b[1;31mModuleNotFoundError\u001b[0m: No module named 'tensorflow'"
     ]
    }
   ],
   "source": [
    "import tensorflow as tf"
   ]
  },
  {
   "cell_type": "code",
   "execution_count": 0,
   "metadata": {
    "colab": {},
    "colab_type": "code",
    "id": "_F7rd5pWhXnH"
   },
   "outputs": [],
   "source": [
    "from tensorflow.python.client import device_lib\n",
    "\n",
    "device_lib.list_local_devices()"
   ]
  },
  {
   "cell_type": "markdown",
   "metadata": {
    "colab_type": "text",
    "id": "PvB2-paLhXnv"
   },
   "source": [
    "В TF есть две основные сущности -- это ***граф вычислений `tf.Graph()`*** и ***сессия `tf.Session()`***.\n",
    "\n",
    "Сначала *строится* граф вычислений, а потом в сессии он *исполняется*.\n",
    "\n",
    "Пример графа вычислений (очень условный):"
   ]
  },
  {
   "cell_type": "markdown",
   "metadata": {
    "colab_type": "text",
    "id": "J0-prGGRhXnx"
   },
   "source": [
    "<img src=\"https://camo.qiitausercontent.com/137bc298bf30fe06e61b59a638fea966d272f2b8/68747470733a2f2f71696974612d696d6167652d73746f72652e73332e616d617a6f6e6177732e636f6d2f302f313034362f38663430386438392d666563362d643761632d633961662d3865393061383039613233622e706e67\" width=300 height=400>"
   ]
  },
  {
   "cell_type": "markdown",
   "metadata": {
    "colab_type": "text",
    "id": "iOgPuXushXny"
   },
   "source": [
    "А вот пример реального графа (скрин из TensorBoard):"
   ]
  },
  {
   "cell_type": "markdown",
   "metadata": {
    "colab_type": "text",
    "id": "lxnU3liKhXn1"
   },
   "source": [
    "<img src=\"https://blog.altoros.com/wp-content/uploads/2016/05/visualizing-graphs-with-tensorboard-wxb-group.png\">"
   ]
  },
  {
   "cell_type": "markdown",
   "metadata": {
    "colab_type": "text",
    "id": "RPVcKa-RhXn1"
   },
   "source": [
    "То есть граф -- это нечто построенное нами до сессии, а сессия -- это то, во время чего все операции в графе исполняются (при подаче в него входных данных)."
   ]
  },
  {
   "cell_type": "markdown",
   "metadata": {
    "colab_type": "text",
    "id": "PL7SXcC4hXn4"
   },
   "source": [
    "Помимо этого введения, есть много замечательных курсов по этому фреймворку, например:"
   ]
  },
  {
   "cell_type": "markdown",
   "metadata": {
    "colab_type": "text",
    "id": "TIipdWsQhXn6"
   },
   "source": [
    "* Начать можно с официального intro: https://www.tensorflow.org/guide/low_level_intro \n",
    "* Продолжить этими замечательными практикумами: https://github.com/GoogleCloudPlatform/tensorflow-without-a-phd\n",
    "* Посмотреть что-то здесь, если не очень понятно: https://github.com/Hvass-Labs/TensorFlow-Tutorials\n",
    "* Закончить продвинутым курсом: https://github.com/sjchoi86/advanced-tensorflow\n",
    "\n",
    "И не забудьте заглянуть в официальные туториалы: https://www.tensorflow.org/tutorials/"
   ]
  },
  {
   "cell_type": "markdown",
   "metadata": {
    "colab_type": "text",
    "id": "2B3d0Y26hXn7"
   },
   "source": [
    "<h3 style=\"text-align: center;\"><b>Основные объекты</b></h3>"
   ]
  },
  {
   "cell_type": "markdown",
   "metadata": {
    "colab_type": "text",
    "id": "qpgANMihhXn9"
   },
   "source": [
    "Используя https://www.tensorflow.org/guide/low_level_intro"
   ]
  },
  {
   "cell_type": "markdown",
   "metadata": {
    "colab_type": "text",
    "id": "5rTipWDUhXn_"
   },
   "source": [
    "#### Тензоры (Tensor)"
   ]
  },
  {
   "cell_type": "markdown",
   "metadata": {
    "colab_type": "text",
    "id": "9se3_z1lhXoC"
   },
   "source": [
    "Центральный объект -- это **тензоры `tf.Tensor`**. Это те же `np.array` из `numpy`, только обёрнуты в специальный класс `tf.Tensor`."
   ]
  },
  {
   "cell_type": "markdown",
   "metadata": {
    "colab_type": "text",
    "id": "n-1Vns5BhXoD"
   },
   "source": [
    "Давайте сразу посмотрим на простой пример объявления двух констнатныз тензоров и взятия от них матричного произведения:"
   ]
  },
  {
   "cell_type": "code",
   "execution_count": 0,
   "metadata": {
    "colab": {},
    "colab_type": "code",
    "id": "3Jgu3FkZhXoF"
   },
   "outputs": [],
   "source": [
    "c = tf.constant([[1.0, 2.0], [3.0, 4.0]])\n",
    "d = tf.constant([[1.0, 1.0], [0.0, 1.0]])\n",
    "e = tf.matmul(c, d)"
   ]
  },
  {
   "cell_type": "markdown",
   "metadata": {
    "colab_type": "text",
    "id": "CQ1BXvxuhXoJ"
   },
   "source": [
    "Посомтрим на типы того, чтоы мы создали:"
   ]
  },
  {
   "cell_type": "code",
   "execution_count": 0,
   "metadata": {
    "colab": {},
    "colab_type": "code",
    "id": "5FXLwkv_hXoK"
   },
   "outputs": [],
   "source": [
    "c"
   ]
  },
  {
   "cell_type": "code",
   "execution_count": 0,
   "metadata": {
    "colab": {},
    "colab_type": "code",
    "id": "82Q039_WhXoO"
   },
   "outputs": [],
   "source": [
    "d"
   ]
  },
  {
   "cell_type": "code",
   "execution_count": 0,
   "metadata": {
    "colab": {},
    "colab_type": "code",
    "id": "pDoTt6aMhXoV"
   },
   "outputs": [],
   "source": [
    "e"
   ]
  },
  {
   "cell_type": "markdown",
   "metadata": {
    "colab_type": "text",
    "id": "VGrSNd39hXoZ"
   },
   "source": [
    "Обратите внимание: выводится тип объекта, его имя, shape и тип элементов, которые лежат внутри тензора."
   ]
  },
  {
   "cell_type": "markdown",
   "metadata": {
    "colab_type": "text",
    "id": "Jt1NTOEOhXob"
   },
   "source": [
    "Как видим, никакой матрицы-результата мы не получили. Это потому, что мы лишь объявлии граф вычислений, но сами вычисления ещё не зпустили. Для этого нужно объявить сессию и исполнить в ней этот граф:"
   ]
  },
  {
   "cell_type": "code",
   "execution_count": 0,
   "metadata": {
    "colab": {},
    "colab_type": "code",
    "id": "Aa_Ro5IchXob"
   },
   "outputs": [],
   "source": [
    "sess = tf.Session()\n",
    "\n",
    "result = sess.run(e)"
   ]
  },
  {
   "cell_type": "code",
   "execution_count": 0,
   "metadata": {
    "colab": {},
    "colab_type": "code",
    "id": "Ala0qavvhXog"
   },
   "outputs": [],
   "source": [
    "result"
   ]
  },
  {
   "cell_type": "code",
   "execution_count": 0,
   "metadata": {
    "colab": {},
    "colab_type": "code",
    "id": "iMZpRujvhXop"
   },
   "outputs": [],
   "source": [
    "type(result)"
   ]
  },
  {
   "cell_type": "markdown",
   "metadata": {
    "colab_type": "text",
    "id": "MqBWZ13uhXot"
   },
   "source": [
    "Видим, что при выполнении графа произведение посчиталось и результат положился в виде `np.array` в переменную `result`."
   ]
  },
  {
   "cell_type": "markdown",
   "metadata": {
    "colab_type": "text",
    "id": "dB9x1iQ2hXot"
   },
   "source": [
    "Заметьте: мы не объявляли в начале отедльный граф, поэтмоу текущий граф вычислений можно оплучить так: `tf.get_default_graph()`"
   ]
  },
  {
   "cell_type": "code",
   "execution_count": 0,
   "metadata": {
    "colab": {},
    "colab_type": "code",
    "id": "wNL9aLBIhXov"
   },
   "outputs": [],
   "source": [
    "tf.get_default_graph()"
   ]
  },
  {
   "cell_type": "markdown",
   "metadata": {
    "colab_type": "text",
    "id": "vg8iyu-AhXoz"
   },
   "source": [
    "Давайте визуализируем этот граф с помощью TensorBoard **(сработает только на локальной машине, не на Colab)**:"
   ]
  },
  {
   "cell_type": "code",
   "execution_count": 0,
   "metadata": {
    "colab": {},
    "colab_type": "code",
    "id": "L5kivvJuhXo0"
   },
   "outputs": [],
   "source": [
    "writer = tf.summary.FileWriter('.')\n",
    "writer.add_graph(tf.get_default_graph())\n",
    "writer.flush()"
   ]
  },
  {
   "cell_type": "code",
   "execution_count": 0,
   "metadata": {
    "colab": {},
    "colab_type": "code",
    "id": "Lqi9nqv_hXo3"
   },
   "outputs": [],
   "source": [
    "# pip install tensorboard\n",
    "# tensorboard --logdir ."
   ]
  },
  {
   "cell_type": "markdown",
   "metadata": {
    "colab_type": "text",
    "id": "Jb2d18pVhXo5"
   },
   "source": [
    "Чтобы посмотреть на результат TensorBoard, перейдите в любом браузере по адресу `http://localhost:6006/#graphs` (работает только на локальной машине, не на Colab (однако есть способ, попробуйте разобраться самостоятельно: https://www.dlology.com/blog/quick-guide-to-run-tensorboard-in-google-colab/)"
   ]
  },
  {
   "cell_type": "markdown",
   "metadata": {
    "colab_type": "text",
    "id": "CpW1xKg0hXo6"
   },
   "source": [
    "<img src=\"https://www.tensorflow.org/images/getting_started_add.png\">"
   ]
  },
  {
   "cell_type": "markdown",
   "metadata": {
    "colab_type": "text",
    "id": "Vazh7IOuhXo7"
   },
   "source": [
    "Ещё пример:"
   ]
  },
  {
   "cell_type": "code",
   "execution_count": 0,
   "metadata": {
    "colab": {},
    "colab_type": "code",
    "id": "3BIkgIRBhXo7"
   },
   "outputs": [],
   "source": [
    "a = tf.constant(3.0, dtype=tf.float32)\n",
    "b = tf.constant(4.0)\n",
    "total = a + b\n",
    "print(a)\n",
    "print(b)\n",
    "print(total)"
   ]
  },
  {
   "cell_type": "code",
   "execution_count": 0,
   "metadata": {
    "colab": {},
    "colab_type": "code",
    "id": "oO_jIVeEhXo_"
   },
   "outputs": [],
   "source": [
    "sess = tf.Session()\n",
    "print(sess.run(total))"
   ]
  },
  {
   "cell_type": "markdown",
   "metadata": {
    "colab_type": "text",
    "id": "r1b8OKoAhXpB"
   },
   "source": [
    "Поучительный прмиер, говорящий о том, что при генерации случайных чисел и запуске вычисления графа, вычисления одного тензора происходят **один раз на запуск**, то есть:"
   ]
  },
  {
   "cell_type": "code",
   "execution_count": 0,
   "metadata": {
    "colab": {},
    "colab_type": "code",
    "id": "tGI_WOFdhXpD"
   },
   "outputs": [],
   "source": [
    "vec = tf.random_uniform(shape=(3,))\n",
    "out1 = vec + 1\n",
    "out2 = vec + 2\n",
    "print(sess.run(vec))\n",
    "print(sess.run(vec))\n",
    "print(sess.run((out1, out2)))"
   ]
  },
  {
   "cell_type": "markdown",
   "metadata": {
    "colab_type": "text",
    "id": "WEtZLGQLhXpH"
   },
   "source": [
    "Обратите внимание, что у out1 и out2 был один и тот же тензор vec на входе."
   ]
  },
  {
   "cell_type": "markdown",
   "metadata": {
    "colab_type": "text",
    "id": "2AwVc51EhXpI"
   },
   "source": [
    "#### Плейсхолдеры (Placeholder)"
   ]
  },
  {
   "cell_type": "markdown",
   "metadata": {
    "colab_type": "text",
    "id": "B1AYcSJZhXpK"
   },
   "source": [
    "Для того чтобы иметь возможность подавать на вход графу какие-то свои тензоры, используют **`tf.Placeholder()`**."
   ]
  },
  {
   "cell_type": "code",
   "execution_count": 0,
   "metadata": {
    "colab": {},
    "colab_type": "code",
    "id": "CUZWUxdehXpK"
   },
   "outputs": [],
   "source": [
    "x = tf.placeholder(tf.float32)\n",
    "y = tf.placeholder(tf.float32)\n",
    "z = x + y"
   ]
  },
  {
   "cell_type": "code",
   "execution_count": 0,
   "metadata": {
    "colab": {},
    "colab_type": "code",
    "id": "NzVkMgt6hXpP"
   },
   "outputs": [],
   "source": [
    "x"
   ]
  },
  {
   "cell_type": "code",
   "execution_count": 0,
   "metadata": {
    "colab": {},
    "colab_type": "code",
    "id": "cbFKUaOWhXpU"
   },
   "outputs": [],
   "source": [
    "y"
   ]
  },
  {
   "cell_type": "code",
   "execution_count": 0,
   "metadata": {
    "colab": {},
    "colab_type": "code",
    "id": "Fob1rKfmhXpY"
   },
   "outputs": [],
   "source": [
    "z"
   ]
  },
  {
   "cell_type": "markdown",
   "metadata": {
    "colab_type": "text",
    "id": "9V_jCx3MhXpa"
   },
   "source": [
    "Это всё те же тензоры в графе вычислений, но они не имеют значений -- их нужно **\"скормить\" (\"feed\")** самому:"
   ]
  },
  {
   "cell_type": "code",
   "execution_count": 0,
   "metadata": {
    "colab": {},
    "colab_type": "code",
    "id": "gtDm2TUQhXpb"
   },
   "outputs": [],
   "source": [
    "print(sess.run(z, feed_dict={x: 3, y: 4.5}))"
   ]
  },
  {
   "cell_type": "markdown",
   "metadata": {
    "colab_type": "text",
    "id": "x1na_15NhXpd"
   },
   "source": [
    "== *\"вычисли значения тензора z, если на вход подаются x=3 и y=4.5\"*"
   ]
  },
  {
   "cell_type": "code",
   "execution_count": 0,
   "metadata": {
    "colab": {},
    "colab_type": "code",
    "id": "blopjbRdhXpd"
   },
   "outputs": [],
   "source": [
    "print(sess.run(z, feed_dict={x: [1, 3], y: [2, 4]}))"
   ]
  },
  {
   "cell_type": "markdown",
   "metadata": {
    "colab_type": "text",
    "id": "Or_LxYCihXpg"
   },
   "source": [
    "== *\"вычисли значения тензора z, если на вход подаются x=[1, 3] и y=[2, 4]\"* "
   ]
  },
  {
   "cell_type": "markdown",
   "metadata": {
    "colab_type": "text",
    "id": "vVEVHBU6hXpi"
   },
   "source": [
    "#### Переменные (Variable)"
   ]
  },
  {
   "cell_type": "markdown",
   "metadata": {
    "colab_type": "text",
    "id": "VoEn248yhXpi"
   },
   "source": [
    "Тензоры существуют только во время выполнения сессии, чтобы получить результат вычислений. Для того, чтобы сохранять значения тензоров, в TF есть **`tf.Variable()`**."
   ]
  },
  {
   "cell_type": "markdown",
   "metadata": {
    "colab_type": "text",
    "id": "BLTKXRlahXpk"
   },
   "source": [
    "`tf.Variable` хранит в себе `tf.Tensor`, однако можно читать и менять его значения в течение нескольких сессий, то есть `Variable` ближе к питоновскому понятию переменной, которая хранится в оперативной памяти компьютера."
   ]
  },
  {
   "cell_type": "markdown",
   "metadata": {
    "colab_type": "text",
    "id": "cYmDIYnZhXpl"
   },
   "source": [
    "Создать переменную можно так:"
   ]
  },
  {
   "cell_type": "code",
   "execution_count": 0,
   "metadata": {
    "colab": {},
    "colab_type": "code",
    "id": "FpD9m60ThXpu"
   },
   "outputs": [],
   "source": [
    "my_variable = tf.get_variable(\"my_variable\", [1, 2, 3])\n",
    "my_variable"
   ]
  },
  {
   "cell_type": "code",
   "execution_count": 0,
   "metadata": {
    "colab": {},
    "colab_type": "code",
    "id": "7SXOeYMGhXpx"
   },
   "outputs": [],
   "source": [
    "my_variable.graph"
   ]
  },
  {
   "cell_type": "markdown",
   "metadata": {
    "colab_type": "text",
    "id": "67HBCkJhhXp0"
   },
   "source": [
    "Сейчас она тоже прикреплена к графу по-умолчанию:"
   ]
  },
  {
   "cell_type": "code",
   "execution_count": 0,
   "metadata": {
    "colab": {},
    "colab_type": "code",
    "id": "TO-aA_xMhXp2"
   },
   "outputs": [],
   "source": [
    "tf.get_default_graph()"
   ]
  },
  {
   "cell_type": "markdown",
   "metadata": {
    "colab_type": "text",
    "id": "dMyiKrwchXp6"
   },
   "source": [
    "(такой вывод можно сделать, потому что адреса графа в памяти совпадают)"
   ]
  },
  {
   "cell_type": "markdown",
   "metadata": {
    "colab_type": "text",
    "id": "HFIEhIhqhXp6"
   },
   "source": [
    "Создадим ещё одну и инициализируем константной:"
   ]
  },
  {
   "cell_type": "code",
   "execution_count": 0,
   "metadata": {
    "colab": {},
    "colab_type": "code",
    "id": "jvvc3EhEhXp7"
   },
   "outputs": [],
   "source": [
    "other_variable = tf.get_variable(\"other_variable\", dtype=tf.int32,\n",
    "                                 initializer=tf.constant([23, 42]))"
   ]
  },
  {
   "cell_type": "markdown",
   "metadata": {
    "colab_type": "text",
    "id": "ZuS323ophXp9"
   },
   "source": [
    "Запустим сессию, чтобы посомтреть на значения переменных (сейчас должна быть ошибка):"
   ]
  },
  {
   "cell_type": "code",
   "execution_count": 0,
   "metadata": {
    "colab": {},
    "colab_type": "code",
    "id": "EOiNTcjIhXp_"
   },
   "outputs": [],
   "source": [
    "sess.run(my_variable)\n",
    "sess.run(other_variable)"
   ]
  },
  {
   "cell_type": "markdown",
   "metadata": {
    "colab_type": "text",
    "id": "1aEXd2KphXqC"
   },
   "source": [
    "Ничего не вышло, потому что сначала переменные надо инициализировать:"
   ]
  },
  {
   "cell_type": "code",
   "execution_count": 0,
   "metadata": {
    "colab": {},
    "colab_type": "code",
    "id": "dvjKbhEOhXqD"
   },
   "outputs": [],
   "source": [
    "sess.run(tf.global_variables_initializer())"
   ]
  },
  {
   "cell_type": "markdown",
   "metadata": {
    "colab_type": "text",
    "id": "1t2tbjQahXqF"
   },
   "source": [
    "Теперь должно получиться:"
   ]
  },
  {
   "cell_type": "code",
   "execution_count": 0,
   "metadata": {
    "colab": {},
    "colab_type": "code",
    "id": "re3ozQPRhXqF"
   },
   "outputs": [],
   "source": [
    "sess.run(my_variable)"
   ]
  },
  {
   "cell_type": "code",
   "execution_count": 0,
   "metadata": {
    "colab": {},
    "colab_type": "code",
    "id": "SJRACFLEhXqJ"
   },
   "outputs": [],
   "source": [
    "sess.run(other_variable)"
   ]
  },
  {
   "cell_type": "markdown",
   "metadata": {
    "colab_type": "text",
    "id": "ldG477arhXqM"
   },
   "source": [
    "Всё верно: вторая переменная ининцилизировалась своим значеним, заданным в конструкторе, а первая -- случайным \"мусором\"."
   ]
  },
  {
   "cell_type": "markdown",
   "metadata": {
    "colab_type": "text",
    "id": "0a0qKDvshXqM"
   },
   "source": [
    "<h3 style=\"text-align: center;\"><b>К практике</b></h3>"
   ]
  },
  {
   "cell_type": "markdown",
   "metadata": {
    "colab_type": "text",
    "id": "UI_qcAwxhXqT"
   },
   "source": [
    "Напишем свой нейрон на tensorflow. \n",
    "\n",
    "Ниже пример регрессии по 4 точкам с помощью одного нейрона "
   ]
  },
  {
   "cell_type": "code",
   "execution_count": 0,
   "metadata": {
    "colab": {},
    "colab_type": "code",
    "id": "BSAcS_M0hXqU"
   },
   "outputs": [],
   "source": [
    "x = tf.constant([[1], [2], [3], [4]], dtype=tf.float32)\n",
    "y_true = tf.constant([[0], [-1], [-2], [-3]], dtype=tf.float32)"
   ]
  },
  {
   "cell_type": "markdown",
   "metadata": {
    "colab_type": "text",
    "id": "JXLvO_mchXqW"
   },
   "source": [
    "Нарисуем:"
   ]
  },
  {
   "cell_type": "code",
   "execution_count": 0,
   "metadata": {
    "colab": {},
    "colab_type": "code",
    "id": "xQPvVLIxhXqX"
   },
   "outputs": [],
   "source": [
    "import matplotlib.pyplot as plt"
   ]
  },
  {
   "cell_type": "code",
   "execution_count": 0,
   "metadata": {
    "colab": {},
    "colab_type": "code",
    "id": "cufqInb8hXqZ"
   },
   "outputs": [],
   "source": [
    "x_values, y_values = sess.run([x, y_true])\n",
    "\n",
    "plt.scatter(x_values, y_values, c='r');\n",
    "plt.plot(x_values, y_values);\n",
    "\n",
    "plt.xticks(x_values)\n",
    "plt.yticks(y_values)\n",
    "\n",
    "plt.title('Simple regression', fontsize=15)\n",
    "plt.xlabel('$x$', fontsize=15)\n",
    "plt.ylabel('$y$', fontsize=15);"
   ]
  },
  {
   "cell_type": "markdown",
   "metadata": {
    "colab_type": "text",
    "id": "A6g6W0GdhXqf"
   },
   "source": [
    "Объявим линейную регрессию:"
   ]
  },
  {
   "cell_type": "code",
   "execution_count": 0,
   "metadata": {
    "colab": {},
    "colab_type": "code",
    "id": "Sw11HcW0hXqi"
   },
   "outputs": [],
   "source": [
    "linear_model = tf.layers.Dense(units=1)\n",
    "\n",
    "y_pred = linear_model(x)"
   ]
  },
  {
   "cell_type": "code",
   "execution_count": 0,
   "metadata": {
    "colab": {},
    "colab_type": "code",
    "id": "YGldcXPmhXqn"
   },
   "outputs": [],
   "source": [
    "linear_model"
   ]
  },
  {
   "cell_type": "code",
   "execution_count": 0,
   "metadata": {
    "colab": {},
    "colab_type": "code",
    "id": "nKnKpDxAhXqq"
   },
   "outputs": [],
   "source": [
    "y_pred"
   ]
  },
  {
   "cell_type": "markdown",
   "metadata": {
    "colab_type": "text",
    "id": "Id68CHl0hXqs"
   },
   "source": [
    "Функция потерь -- среднеквадратичная, оптимизатор -- градиентный спуск:"
   ]
  },
  {
   "cell_type": "code",
   "execution_count": 0,
   "metadata": {
    "colab": {},
    "colab_type": "code",
    "id": "uUI77o04hXqt"
   },
   "outputs": [],
   "source": [
    "loss = tf.losses.mean_squared_error(labels=y_true, predictions=y_pred)\n",
    "\n",
    "optimizer = tf.train.GradientDescentOptimizer(0.01)\n",
    "train = optimizer.minimize(loss)"
   ]
  },
  {
   "cell_type": "markdown",
   "metadata": {
    "colab_type": "text",
    "id": "o8uYOYpLhXqv"
   },
   "source": [
    "Иницилизируем переменные, обЪявим сессию и запусим в ней обучение:"
   ]
  },
  {
   "cell_type": "code",
   "execution_count": 0,
   "metadata": {
    "colab": {},
    "colab_type": "code",
    "id": "bXR3Uzi2hXqw",
    "scrolled": true
   },
   "outputs": [],
   "source": [
    "init = tf.global_variables_initializer()\n",
    "\n",
    "sess = tf.Session()\n",
    "sess.run(init)\n",
    "for i in range(100):\n",
    "    _, loss_value = sess.run((train, loss))\n",
    "    print('loss: ', loss_value)\n",
    "\n",
    "print(sess.run(y_pred))"
   ]
  },
  {
   "cell_type": "code",
   "execution_count": 0,
   "metadata": {
    "colab": {},
    "colab_type": "code",
    "id": "6gOTq8TFhXq2"
   },
   "outputs": [],
   "source": [
    "x_values, y_values = sess.run([x, y_pred])\n",
    "\n",
    "plt.scatter(x_values, y_values, c='r');\n",
    "plt.plot(x_values, y_values);\n",
    "\n",
    "plt.xticks(x_values)\n",
    "plt.yticks(y_values)\n",
    "\n",
    "plt.title('Prediction of one neuron', fontsize=15)\n",
    "plt.xlabel('$x$', fontsize=15)\n",
    "plt.ylabel('$y$ predicted', fontsize=15);"
   ]
  },
  {
   "cell_type": "markdown",
   "metadata": {
    "colab_type": "text",
    "id": "zgKOo8wZhXq5"
   },
   "source": [
    "<h3 style=\"text-align: center;\"><b>FashionMNIST (5 баллов)</b></h3>"
   ]
  },
  {
   "cell_type": "markdown",
   "metadata": {
    "colab_type": "text",
    "id": "QhxGsNfGhXq6"
   },
   "source": [
    "Для обучения нейросетей на TensorFlow обычно используют либо модуль `.keras` (который, по сути, является Keras'ом, только обращение к нему происходит через TF), либо модуль `tf.Slim`. В этом задании Вам нужно самостоятельно написть обучение нейросети на датасете FashionMNIST и добиться качества (поклассового `accuracy`) **больше, чем 0.9**."
   ]
  },
  {
   "cell_type": "markdown",
   "metadata": {
    "colab_type": "text",
    "id": "W4-F0Z-thXq6"
   },
   "source": [
    "Бейзланом к этому заданию является официальный туториал TensorFlow: https://www.tensorflow.org/tutorials/keras/basic_classification"
   ]
  },
  {
   "cell_type": "markdown",
   "metadata": {
    "colab_type": "text",
    "id": "8-TnFZByhXq7"
   },
   "source": [
    "*Hint*: можно использовать свёрточные слои и слои не из туториала"
   ]
  },
  {
   "cell_type": "code",
   "execution_count": 0,
   "metadata": {
    "colab": {},
    "colab_type": "code",
    "id": "-pR3GXbNhXq7"
   },
   "outputs": [],
   "source": [
    "<Ваш крутой код здесь>"
   ]
  },
  {
   "cell_type": "code",
   "execution_count": 0,
   "metadata": {
    "colab": {},
    "colab_type": "code",
    "id": "LnYe4HsJhXq9"
   },
   "outputs": [],
   "source": [
    "..."
   ]
  },
  {
   "cell_type": "code",
   "execution_count": 0,
   "metadata": {
    "colab": {},
    "colab_type": "code",
    "id": "kgANyi5RhXq_"
   },
   "outputs": [],
   "source": []
  },
  {
   "cell_type": "markdown",
   "metadata": {
    "colab_type": "text",
    "id": "Mkf_XUAOhXrA"
   },
   "source": [
    "<h3 style=\"text-align: center;\"><b>На выбор: Style Transfer или CIFAR10 (каждое по 5 баллов)</b></h3>"
   ]
  },
  {
   "cell_type": "markdown",
   "metadata": {
    "colab_type": "text",
    "id": "_S96Yr5phXrB"
   },
   "source": [
    "В этой части Вам нужно самостоятельно реализовать перенос стиля на TensorFlow или написать классификацию датасета CIFAR10. Можно сделать и то, и то, тогда вы получите 10 баллов, а не 5, и за всё задание будет 15, а не 10."
   ]
  },
  {
   "cell_type": "markdown",
   "metadata": {
    "colab_type": "text",
    "id": "6SVm3IGchXrB"
   },
   "source": [
    "#### Neural Style Transfer:\n",
    "Бейзлайн по переносу стиля: https://github.com/tensorflow/models/blob/master/research/nst_blogpost/4_Neural_Style_Transfer_with_Eager_Execution.ipynb\n",
    "Это уже почти решение, надо только написать это сюда и объяснить каждый шаг, и показать пример работы на своих картинках."
   ]
  },
  {
   "cell_type": "code",
   "execution_count": 0,
   "metadata": {
    "colab": {},
    "colab_type": "code",
    "id": "SyL9WxsWhXrD"
   },
   "outputs": [],
   "source": [
    "<Ваш код высочайшего сорта здесь>"
   ]
  },
  {
   "cell_type": "code",
   "execution_count": 0,
   "metadata": {
    "colab": {},
    "colab_type": "code",
    "id": "OTblek9yhXrE"
   },
   "outputs": [],
   "source": [
    "..."
   ]
  },
  {
   "cell_type": "code",
   "execution_count": 0,
   "metadata": {
    "colab": {},
    "colab_type": "code",
    "id": "p2h7yrwThXrG"
   },
   "outputs": [],
   "source": []
  },
  {
   "cell_type": "markdown",
   "metadata": {
    "colab_type": "text",
    "id": "lR8EhwsWhXrG"
   },
   "source": [
    "#### CIFAR10:\n",
    "Бейзлайн по классификации CIFAR10: https://www.tensorflow.org/tutorials/images/deep_cnn  \n",
    "Там есть ссылки на файлы с кодом, который тоже можно прямо сюда вставлять, главное, чтобы качество в итоге получилось хорошим (формально порог не задан, будет смотреться у всех индивиуально)."
   ]
  },
  {
   "cell_type": "code",
   "execution_count": 0,
   "metadata": {
    "colab": {},
    "colab_type": "code",
    "id": "4lf5gq3AhXrH"
   },
   "outputs": [],
   "source": [
    "<Покажите класс>"
   ]
  },
  {
   "cell_type": "code",
   "execution_count": 0,
   "metadata": {
    "colab": {},
    "colab_type": "code",
    "id": "68NkYIq9hXrJ"
   },
   "outputs": [],
   "source": [
    "..."
   ]
  },
  {
   "cell_type": "code",
   "execution_count": 0,
   "metadata": {
    "colab": {},
    "colab_type": "code",
    "id": "Yp0kFvK-hXrL"
   },
   "outputs": [],
   "source": []
  }
 ],
 "metadata": {
  "colab": {
   "collapsed_sections": [],
   "name": "[homework]tensorflow.ipynb",
   "provenance": [],
   "version": "0.3.2"
  },
  "kernelspec": {
   "display_name": "Python 3",
   "language": "python",
   "name": "python3"
  },
  "language_info": {
   "codemirror_mode": {
    "name": "ipython",
    "version": 3
   },
   "file_extension": ".py",
   "mimetype": "text/x-python",
   "name": "python",
   "nbconvert_exporter": "python",
   "pygments_lexer": "ipython3",
   "version": "3.7.0"
  }
 },
 "nbformat": 4,
 "nbformat_minor": 1
}
