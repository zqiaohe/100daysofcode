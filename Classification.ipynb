{
  "nbformat": 4,
  "nbformat_minor": 0,
  "metadata": {
    "colab": {
      "name": "Ranging.ipynb",
      "version": "0.3.2",
      "provenance": [],
      "toc_visible": true,
      "include_colab_link": true
    },
    "kernelspec": {
      "name": "python3",
      "display_name": "Python 3"
    }
  },
  "cells": [
    {
      "cell_type": "markdown",
      "metadata": {
        "id": "view-in-github",
        "colab_type": "text"
      },
      "source": [
        "<a href=\"https://colab.research.google.com/github/zqiaohe/100daysofcode/blob/master/Classification.ipynb\" target=\"_parent\"><img src=\"https://colab.research.google.com/assets/colab-badge.svg\" alt=\"Open In Colab\"/></a>"
      ]
    },
    {
      "metadata": {
        "id": "ESYi1qJ5_z9U",
        "colab_type": "text"
      },
      "cell_type": "markdown",
      "source": [
        "#Предобработка данных\n",
        "\n",
        "[Стемминг данных](https://github.com/zqiaohe/100daysofcode/blob/master/ClassificationStem.ipynb)"
      ]
    },
    {
      "metadata": {
        "id": "RR9WjFfBABE8",
        "colab_type": "text"
      },
      "cell_type": "markdown",
      "source": [
        "#Загрузка данных"
      ]
    },
    {
      "metadata": {
        "id": "jGgkblIwAFb7",
        "colab_type": "code",
        "colab": {
          "base_uri": "https://localhost:8080/",
          "height": 33
        },
        "outputId": "9351ee0c-00e9-4a89-afc5-c6850238faa5"
      },
      "cell_type": "code",
      "source": [
        "from google.colab import drive\n",
        "drive.mount('/content/drive')"
      ],
      "execution_count": 9,
      "outputs": [
        {
          "output_type": "stream",
          "text": [
            "Drive already mounted at /content/drive; to attempt to forcibly remount, call drive.mount(\"/content/drive\", force_remount=True).\n"
          ],
          "name": "stdout"
        }
      ]
    },
    {
      "metadata": {
        "id": "ir3gwfu0s1mp",
        "colab_type": "code",
        "colab": {
          "base_uri": "https://localhost:8080/",
          "height": 813
        },
        "outputId": "a7270861-e468-44ba-ff80-e873dfa15182"
      },
      "cell_type": "code",
      "source": [
        "import nltk \n",
        "nltk.download(\"popular\")"
      ],
      "execution_count": 10,
      "outputs": [
        {
          "output_type": "stream",
          "text": [
            "[nltk_data] Downloading collection 'popular'\n",
            "[nltk_data]    | \n",
            "[nltk_data]    | Downloading package cmudict to /root/nltk_data...\n",
            "[nltk_data]    |   Package cmudict is already up-to-date!\n",
            "[nltk_data]    | Downloading package gazetteers to /root/nltk_data...\n",
            "[nltk_data]    |   Package gazetteers is already up-to-date!\n",
            "[nltk_data]    | Downloading package genesis to /root/nltk_data...\n",
            "[nltk_data]    |   Package genesis is already up-to-date!\n",
            "[nltk_data]    | Downloading package gutenberg to /root/nltk_data...\n",
            "[nltk_data]    |   Package gutenberg is already up-to-date!\n",
            "[nltk_data]    | Downloading package inaugural to /root/nltk_data...\n",
            "[nltk_data]    |   Package inaugural is already up-to-date!\n",
            "[nltk_data]    | Downloading package movie_reviews to\n",
            "[nltk_data]    |     /root/nltk_data...\n",
            "[nltk_data]    |   Package movie_reviews is already up-to-date!\n",
            "[nltk_data]    | Downloading package names to /root/nltk_data...\n",
            "[nltk_data]    |   Package names is already up-to-date!\n",
            "[nltk_data]    | Downloading package shakespeare to /root/nltk_data...\n",
            "[nltk_data]    |   Package shakespeare is already up-to-date!\n",
            "[nltk_data]    | Downloading package stopwords to /root/nltk_data...\n",
            "[nltk_data]    |   Package stopwords is already up-to-date!\n",
            "[nltk_data]    | Downloading package treebank to /root/nltk_data...\n",
            "[nltk_data]    |   Package treebank is already up-to-date!\n",
            "[nltk_data]    | Downloading package twitter_samples to\n",
            "[nltk_data]    |     /root/nltk_data...\n",
            "[nltk_data]    |   Package twitter_samples is already up-to-date!\n",
            "[nltk_data]    | Downloading package omw to /root/nltk_data...\n",
            "[nltk_data]    |   Package omw is already up-to-date!\n",
            "[nltk_data]    | Downloading package wordnet to /root/nltk_data...\n",
            "[nltk_data]    |   Package wordnet is already up-to-date!\n",
            "[nltk_data]    | Downloading package wordnet_ic to /root/nltk_data...\n",
            "[nltk_data]    |   Package wordnet_ic is already up-to-date!\n",
            "[nltk_data]    | Downloading package words to /root/nltk_data...\n",
            "[nltk_data]    |   Package words is already up-to-date!\n",
            "[nltk_data]    | Downloading package maxent_ne_chunker to\n",
            "[nltk_data]    |     /root/nltk_data...\n",
            "[nltk_data]    |   Package maxent_ne_chunker is already up-to-date!\n",
            "[nltk_data]    | Downloading package punkt to /root/nltk_data...\n",
            "[nltk_data]    |   Package punkt is already up-to-date!\n",
            "[nltk_data]    | Downloading package snowball_data to\n",
            "[nltk_data]    |     /root/nltk_data...\n",
            "[nltk_data]    |   Package snowball_data is already up-to-date!\n",
            "[nltk_data]    | Downloading package averaged_perceptron_tagger to\n",
            "[nltk_data]    |     /root/nltk_data...\n",
            "[nltk_data]    |   Package averaged_perceptron_tagger is already up-\n",
            "[nltk_data]    |       to-date!\n",
            "[nltk_data]    | \n",
            "[nltk_data]  Done downloading collection popular\n"
          ],
          "name": "stdout"
        },
        {
          "output_type": "execute_result",
          "data": {
            "text/plain": [
              "True"
            ]
          },
          "metadata": {
            "tags": []
          },
          "execution_count": 10
        }
      ]
    },
    {
      "metadata": {
        "id": "KScuaU9nAJcc",
        "colab_type": "code",
        "colab": {}
      },
      "cell_type": "code",
      "source": [
        "import pandas as pd\n",
        "import numpy as np\n",
        "\n",
        "%matplotlib inline\n",
        "from sklearn.model_selection import cross_val_score\n",
        "from sklearn.model_selection import StratifiedKFold, KFold\n",
        "from sklearn.feature_extraction.text import TfidfVectorizer\n",
        "from sklearn.linear_model import LogisticRegression\n",
        "from sklearn.model_selection import GridSearchCV\n",
        "\n",
        "from nltk.corpus import stopwords\n",
        "\n",
        "from wordcloud import WordCloud\n",
        "import matplotlib.pyplot as plt"
      ],
      "execution_count": 0,
      "outputs": []
    },
    {
      "metadata": {
        "id": "g0njrFyY_7Vc",
        "colab_type": "code",
        "colab": {}
      },
      "cell_type": "code",
      "source": [
        "train = pd.read_csv('drive/My Drive/CupITdatasets/Classification/feed_train.csv')\n",
        "test = pd.read_csv('drive/My Drive/CupITdatasets/Classification/feed_test.csv')"
      ],
      "execution_count": 0,
      "outputs": []
    },
    {
      "metadata": {
        "id": "yJVdxaOxAjrb",
        "colab_type": "code",
        "colab": {
          "base_uri": "https://localhost:8080/",
          "height": 575
        },
        "outputId": "53d46b9e-e155-414f-b0c7-f2145bb81adb"
      },
      "cell_type": "code",
      "source": [
        "display(train.type.value_counts()/train.type.shape)\n",
        "train.type.value_counts().plot.bar()"
      ],
      "execution_count": 146,
      "outputs": [
        {
          "output_type": "display_data",
          "data": {
            "text/plain": [
              "Кредит                         0.381816\n",
              "Вклад                          0.144137\n",
              "Ипотека                        0.114523\n",
              "Бизнес услуги                  0.100754\n",
              "Обслуживание физ. и юр. лиц    0.090700\n",
              "Дебетовая карта                0.078024\n",
              "Реструктуризация               0.058791\n",
              "Денежные переводы              0.022730\n",
              "Инвестиционные продукты        0.008524\n",
              "Name: type, dtype: float64"
            ]
          },
          "metadata": {
            "tags": []
          }
        },
        {
          "output_type": "execute_result",
          "data": {
            "text/plain": [
              "<matplotlib.axes._subplots.AxesSubplot at 0x7f235403c518>"
            ]
          },
          "metadata": {
            "tags": []
          },
          "execution_count": 146
        },
        {
          "output_type": "display_data",
          "data": {
            "image/png": "[encoded data removed]",
            "text/plain": [
              "<Figure size 432x288 with 1 Axes>"
            ]
          },
          "metadata": {
            "tags": []
          }
        }
      ]
    },
    {
      "metadata": {
        "id": "nEzqMJGpAvIK",
        "colab_type": "code",
        "colab": {}
      },
      "cell_type": "code",
      "source": [
        "tf_idf = TfidfVectorizer(ngram_range=(1, 4), stop_words=stopwords.words('russian'), \n",
        "                         #tokenizer=None,\n",
        "                         #preprocessor=None,\n",
        "                         analyzer='word',\n",
        "                         max_df=0.9, \n",
        "                         min_df=0.05,\n",
        "                         #max_features=10000\n",
        "                        )"
      ],
      "execution_count": 0,
      "outputs": []
    },
    {
      "metadata": {
        "id": "axmxBtA-A5Fz",
        "colab_type": "code",
        "colab": {}
      },
      "cell_type": "code",
      "source": [
        "tf_idf_model = tf_idf.fit(np.concatenate([train['text'].values.astype('U'), test['text'].values.astype('U')]))"
      ],
      "execution_count": 0,
      "outputs": []
    },
    {
      "metadata": {
        "id": "pnUmlgUhBbIi",
        "colab_type": "code",
        "colab": {
          "base_uri": "https://localhost:8080/",
          "height": 50
        },
        "outputId": "1b464c68-8734-4d0c-f84a-4ff8bcae6936"
      },
      "cell_type": "code",
      "source": [
        "%%time\n",
        "train_tf_idf_vec = tf_idf_model.transform(train['text'].values.astype('U'))\n",
        "test_tf_idf_vec = tf_idf_model.transform(test['text'].values.astype('U'))"
      ],
      "execution_count": 15,
      "outputs": [
        {
          "output_type": "stream",
          "text": [
            "CPU times: user 4.57 s, sys: 18.4 ms, total: 4.59 s\n",
            "Wall time: 4.59 s\n"
          ],
          "name": "stdout"
        }
      ]
    },
    {
      "metadata": {
        "id": "KOAEJDFqBnCS",
        "colab_type": "code",
        "colab": {
          "base_uri": "https://localhost:8080/",
          "height": 240
        },
        "outputId": "e7682c16-ce2d-4d2d-8a6d-3866f085e41d"
      },
      "cell_type": "code",
      "source": [
        "wordcloud = WordCloud().generate_from_frequencies(tf_idf_model.vocabulary_)\n",
        "\n",
        "# Display the generated image:\n",
        "plt.figure() \n",
        "plt.imshow(wordcloud, interpolation=\"bilinear\") \n",
        "plt.axis(\"off\") \n",
        "plt.margins(x=0, y=0) \n",
        "plt.tight_layout()\n",
        "plt.show() "
      ],
      "execution_count": 29,
      "outputs": [
        {
          "output_type": "display_data",
          "data": {
            "image/png": "[encoded data removed]",
            "text/plain": [
              "<Figure size 432x288 with 1 Axes>"
            ]
          },
          "metadata": {
            "tags": []
          }
        }
      ]
    },
    {
      "metadata": {
        "id": "v7PUGw0lqZcW",
        "colab_type": "text"
      },
      "cell_type": "markdown",
      "source": [
        "#Логистическая регрессия"
      ]
    },
    {
      "metadata": {
        "id": "55J001fRBQUj",
        "colab_type": "code",
        "colab": {}
      },
      "cell_type": "code",
      "source": [
        "lm = LogisticRegression(#solver='newton-cg', \n",
        "                        #n_jobs=-1,\n",
        "                        #solver='lbfgs',\n",
        "                        penalty='l2',\n",
        "                        #tol=0.000000001,\n",
        "                        random_state=42,\n",
        "                        C=10, \n",
        "                        max_iter=100000)"
      ],
      "execution_count": 0,
      "outputs": []
    },
    {
      "metadata": {
        "id": "IEeCAIpCBTDl",
        "colab_type": "code",
        "colab": {}
      },
      "cell_type": "code",
      "source": [
        "lm_params = {'penalty':['l1', 'l2'],\n",
        "             'C':[0.001, 0.01, 0.1, 1, 2, 5, 10, 20, 100],\n",
        "             #'solver':['newton-cg', 'lbfgs', 'liblinear', 'sag', 'saga'],\n",
        "             #'tol' : [10, 1, 0.1, 0.01, 0.001, 0.0001, 0.0001]\n",
        "    \n",
        "    \n",
        "}\n",
        "lm_search = GridSearchCV(estimator=lm, \n",
        "                         param_grid=lm_params, \n",
        "                         scoring ='accuracy', \n",
        "                         cv=StratifiedKFold(10), \n",
        "                         n_jobs=-1,\n",
        "                         verbose=1)"
      ],
      "execution_count": 0,
      "outputs": []
    },
    {
      "metadata": {
        "id": "vz7AZoVxBV_6",
        "colab_type": "code",
        "colab": {
          "base_uri": "https://localhost:8080/",
          "height": 200
        },
        "outputId": "43c41f90-42b8-459c-ee1f-ae8b09745eac"
      },
      "cell_type": "code",
      "source": [
        "%%time\n",
        "lm_search_fitted = lm_search.fit(X=train_tf_idf_vec, y=pd.factorize(train.type)[0])"
      ],
      "execution_count": 30,
      "outputs": [
        {
          "output_type": "stream",
          "text": [
            "Fitting 10 folds for each of 18 candidates, totalling 180 fits\n"
          ],
          "name": "stdout"
        },
        {
          "output_type": "stream",
          "text": [
            "[Parallel(n_jobs=-1)]: Using backend LokyBackend with 2 concurrent workers.\n",
            "[Parallel(n_jobs=-1)]: Done  46 tasks      | elapsed:   16.9s\n",
            "[Parallel(n_jobs=-1)]: Done 180 out of 180 | elapsed:  3.7min finished\n",
            "/usr/local/lib/python3.6/dist-packages/sklearn/linear_model/logistic.py:433: FutureWarning: Default solver will be changed to 'lbfgs' in 0.22. Specify a solver to silence this warning.\n",
            "  FutureWarning)\n",
            "/usr/local/lib/python3.6/dist-packages/sklearn/linear_model/logistic.py:460: FutureWarning: Default multi_class will be changed to 'auto' in 0.22. Specify the multi_class option to silence this warning.\n",
            "  \"this warning.\", FutureWarning)\n"
          ],
          "name": "stderr"
        },
        {
          "output_type": "stream",
          "text": [
            "CPU times: user 2.09 s, sys: 63.3 ms, total: 2.16 s\n",
            "Wall time: 3min 44s\n"
          ],
          "name": "stdout"
        }
      ]
    },
    {
      "metadata": {
        "id": "MrQTEtmDCtBp",
        "colab_type": "code",
        "colab": {
          "base_uri": "https://localhost:8080/",
          "height": 82
        },
        "outputId": "8af8c045-ea12-4c11-d4e7-0e02fec6c4af"
      },
      "cell_type": "code",
      "source": [
        "lm_search_fitted.best_estimator_"
      ],
      "execution_count": 31,
      "outputs": [
        {
          "output_type": "execute_result",
          "data": {
            "text/plain": [
              "LogisticRegression(C=2, class_weight=None, dual=False, fit_intercept=True,\n",
              "          intercept_scaling=1, max_iter=100000, multi_class='warn',\n",
              "          n_jobs=None, penalty='l1', random_state=42, solver='warn',\n",
              "          tol=0.0001, verbose=0, warm_start=False)"
            ]
          },
          "metadata": {
            "tags": []
          },
          "execution_count": 31
        }
      ]
    },
    {
      "metadata": {
        "id": "dKuqEEz1DLd_",
        "colab_type": "code",
        "colab": {
          "base_uri": "https://localhost:8080/",
          "height": 66
        },
        "outputId": "47c1814c-3b28-41c1-f4f1-1f33ffd2c1c4"
      },
      "cell_type": "code",
      "source": [
        "%%time\n",
        "pred_scores = cross_val_score(estimator=lm_search_fitted.best_estimator_, X=train_tf_idf_vec, y=pd.factorize(train.type)[0],\n",
        "                scoring='accuracy',  \n",
        "                cv=10, #stratified by default\n",
        "                n_jobs=-1)\n",
        "display(np.mean(pred_scores))"
      ],
      "execution_count": 32,
      "outputs": [
        {
          "output_type": "display_data",
          "data": {
            "text/plain": [
              "0.6805927642303624"
            ]
          },
          "metadata": {
            "tags": []
          }
        },
        {
          "output_type": "stream",
          "text": [
            "CPU times: user 57.8 ms, sys: 12.5 ms, total: 70.3 ms\n",
            "Wall time: 9.83 s\n"
          ],
          "name": "stdout"
        }
      ]
    },
    {
      "metadata": {
        "id": "IERZgTipDS7Q",
        "colab_type": "code",
        "colab": {}
      },
      "cell_type": "code",
      "source": [
        "predicts = lm_search_fitted.best_estimator_.predict(test_tf_idf_vec)\n",
        "predicts_names = pd.factorize(train.type)[1][predicts]"
      ],
      "execution_count": 0,
      "outputs": []
    },
    {
      "metadata": {
        "id": "iBWuMZOzDXs_",
        "colab_type": "code",
        "colab": {}
      },
      "cell_type": "code",
      "source": [
        "submission = pd.DataFrame({'index': range(0, len(predicts)),\n",
        "                    'type': predicts_names})\n",
        "submission .to_csv('multiclass_sample_submission.csv', index=False)"
      ],
      "execution_count": 0,
      "outputs": []
    },
    {
      "metadata": {
        "id": "OTES66S9CtfR",
        "colab_type": "text"
      },
      "cell_type": "markdown",
      "source": [
        "#Keras и Word2Vec"
      ]
    },
    {
      "metadata": {
        "id": "rULWenaxB25i",
        "colab_type": "code",
        "colab": {
          "base_uri": "https://localhost:8080/",
          "height": 443
        },
        "outputId": "a6397ff5-4612-4e40-8760-817b322647ac"
      },
      "cell_type": "code",
      "source": [
        "!pip install --upgrade gensim"
      ],
      "execution_count": 20,
      "outputs": [
        {
          "output_type": "stream",
          "text": [
            "Collecting gensim\n",
            "\u001b[?25l  Downloading https://files.pythonhosted.org/packages/d7/b9/6c93685bed0026b6a1cce55ab173f6b617f6db0d1325d25489c2fd43e711/gensim-3.7.1-cp36-cp36m-manylinux1_x86_64.whl (24.2MB)\n",
            "\u001b[K    100% |████████████████████████████████| 24.2MB 1.4MB/s \n",
            "\u001b[?25hRequirement already satisfied, skipping upgrade: smart-open>=1.7.0 in /usr/local/lib/python3.6/dist-packages (from gensim) (1.8.0)\n",
            "Requirement already satisfied, skipping upgrade: six>=1.5.0 in /usr/local/lib/python3.6/dist-packages (from gensim) (1.11.0)\n",
            "Requirement already satisfied, skipping upgrade: numpy>=1.11.3 in /usr/local/lib/python3.6/dist-packages (from gensim) (1.14.6)\n",
            "Requirement already satisfied, skipping upgrade: scipy>=0.18.1 in /usr/local/lib/python3.6/dist-packages (from gensim) (1.1.0)\n",
            "Requirement already satisfied, skipping upgrade: boto>=2.32 in /usr/local/lib/python3.6/dist-packages (from smart-open>=1.7.0->gensim) (2.49.0)\n",
            "Requirement already satisfied, skipping upgrade: bz2file in /usr/local/lib/python3.6/dist-packages (from smart-open>=1.7.0->gensim) (0.98)\n",
            "Requirement already satisfied, skipping upgrade: requests in /usr/local/lib/python3.6/dist-packages (from smart-open>=1.7.0->gensim) (2.18.4)\n",
            "Requirement already satisfied, skipping upgrade: boto3 in /usr/local/lib/python3.6/dist-packages (from smart-open>=1.7.0->gensim) (1.9.113)\n",
            "Requirement already satisfied, skipping upgrade: chardet<3.1.0,>=3.0.2 in /usr/local/lib/python3.6/dist-packages (from requests->smart-open>=1.7.0->gensim) (3.0.4)\n",
            "Requirement already satisfied, skipping upgrade: urllib3<1.23,>=1.21.1 in /usr/local/lib/python3.6/dist-packages (from requests->smart-open>=1.7.0->gensim) (1.22)\n",
            "Requirement already satisfied, skipping upgrade: idna<2.7,>=2.5 in /usr/local/lib/python3.6/dist-packages (from requests->smart-open>=1.7.0->gensim) (2.6)\n",
            "Requirement already satisfied, skipping upgrade: certifi>=2017.4.17 in /usr/local/lib/python3.6/dist-packages (from requests->smart-open>=1.7.0->gensim) (2019.3.9)\n",
            "Requirement already satisfied, skipping upgrade: botocore<1.13.0,>=1.12.113 in /usr/local/lib/python3.6/dist-packages (from boto3->smart-open>=1.7.0->gensim) (1.12.113)\n",
            "Requirement already satisfied, skipping upgrade: jmespath<1.0.0,>=0.7.1 in /usr/local/lib/python3.6/dist-packages (from boto3->smart-open>=1.7.0->gensim) (0.9.4)\n",
            "Requirement already satisfied, skipping upgrade: s3transfer<0.3.0,>=0.2.0 in /usr/local/lib/python3.6/dist-packages (from boto3->smart-open>=1.7.0->gensim) (0.2.0)\n",
            "Requirement already satisfied, skipping upgrade: python-dateutil<3.0.0,>=2.1; python_version >= \"2.7\" in /usr/local/lib/python3.6/dist-packages (from botocore<1.13.0,>=1.12.113->boto3->smart-open>=1.7.0->gensim) (2.5.3)\n",
            "Requirement already satisfied, skipping upgrade: docutils>=0.10 in /usr/local/lib/python3.6/dist-packages (from botocore<1.13.0,>=1.12.113->boto3->smart-open>=1.7.0->gensim) (0.14)\n",
            "Installing collected packages: gensim\n",
            "  Found existing installation: gensim 3.6.0\n",
            "    Uninstalling gensim-3.6.0:\n",
            "      Successfully uninstalled gensim-3.6.0\n",
            "Successfully installed gensim-3.7.1\n"
          ],
          "name": "stdout"
        }
      ]
    },
    {
      "metadata": {
        "id": "_IDhSlLQB5bS",
        "colab_type": "code",
        "colab": {}
      },
      "cell_type": "code",
      "source": [
        "from gensim.corpora import Dictionary\n",
        "from gensim.models.tfidfmodel import TfidfModel\n",
        "from gensim.matutils import sparse2full\n",
        "from gensim.models import word2vec"
      ],
      "execution_count": 0,
      "outputs": []
    },
    {
      "metadata": {
        "id": "AZdclGTMEGmC",
        "colab_type": "code",
        "colab": {}
      },
      "cell_type": "code",
      "source": [
        "from nltk.tokenize import ToktokTokenizer"
      ],
      "execution_count": 0,
      "outputs": []
    },
    {
      "metadata": {
        "id": "CGgC4GMbD8pn",
        "colab_type": "code",
        "colab": {}
      },
      "cell_type": "code",
      "source": [
        "tok =  ToktokTokenizer()"
      ],
      "execution_count": 0,
      "outputs": []
    },
    {
      "metadata": {
        "id": "Tas3IZh9D_gX",
        "colab_type": "code",
        "colab": {}
      },
      "cell_type": "code",
      "source": [
        "class mean_vectorizer(object):\n",
        "    def __init__(self, word2vec):\n",
        "        self.word2vec = word2vec\n",
        "        self.dim = len(next(iter(w2v.values())))\n",
        "\n",
        "    def fit(self, X):\n",
        "        return self \n",
        "\n",
        "    def transform(self, X):\n",
        "        return np.array([\n",
        "            np.mean([self.word2vec[w] for w in words if w in self.word2vec] \n",
        "                    or [np.zeros(self.dim)], axis=0)\n",
        "            for words in X\n",
        "        ])"
      ],
      "execution_count": 0,
      "outputs": []
    },
    {
      "metadata": {
        "id": "NVVaSZnyCzK_",
        "colab_type": "code",
        "colab": {}
      },
      "cell_type": "code",
      "source": [
        "train['tokenize_text'] = [tok.tokenize(tokens) for tokens in train['text']]"
      ],
      "execution_count": 0,
      "outputs": []
    },
    {
      "metadata": {
        "id": "qitncTZBCzyp",
        "colab_type": "code",
        "colab": {}
      },
      "cell_type": "code",
      "source": [
        "test['tokenize_text'] = [tok.tokenize(tokens) for tokens in test['text']]"
      ],
      "execution_count": 0,
      "outputs": []
    },
    {
      "metadata": {
        "id": "Fpd03DQpC7hi",
        "colab_type": "code",
        "colab": {}
      },
      "cell_type": "code",
      "source": [
        "testmodel = word2vec.Word2Vec(test['tokenize_text'], size=300, window=3, workers=4)\n",
        "model = word2vec.Word2Vec(train['tokenize_text'], size=300, window=3, workers=4)"
      ],
      "execution_count": 0,
      "outputs": []
    },
    {
      "metadata": {
        "id": "1nJGMOZuEjYW",
        "colab_type": "code",
        "colab": {
          "base_uri": "https://localhost:8080/",
          "height": 102
        },
        "outputId": "180c8113-b35d-4331-d444-52c07d50a968"
      },
      "cell_type": "code",
      "source": [
        "w2v = dict(zip(model.wv.index2word, model.wv.syn0))\n",
        "testw2v = dict(zip(testmodel.wv.index2word,testmodel.wv.syn0))"
      ],
      "execution_count": 36,
      "outputs": [
        {
          "output_type": "stream",
          "text": [
            "/usr/local/lib/python3.6/dist-packages/ipykernel_launcher.py:1: DeprecationWarning: Call to deprecated `syn0` (Attribute will be removed in 4.0.0, use self.vectors instead).\n",
            "  \"\"\"Entry point for launching an IPython kernel.\n",
            "/usr/local/lib/python3.6/dist-packages/ipykernel_launcher.py:2: DeprecationWarning: Call to deprecated `syn0` (Attribute will be removed in 4.0.0, use self.vectors instead).\n",
            "  \n"
          ],
          "name": "stderr"
        }
      ]
    },
    {
      "metadata": {
        "id": "rQTVT1UwC9-O",
        "colab_type": "code",
        "colab": {}
      },
      "cell_type": "code",
      "source": [
        "testmodel = word2vec.Word2Vec(test['tokenize_text'], size=300, window=3, workers=4)\n",
        "model = word2vec.Word2Vec(train['tokenize_text'], size=300, window=3, workers=4)"
      ],
      "execution_count": 0,
      "outputs": []
    },
    {
      "metadata": {
        "id": "hFYgiYELDAxO",
        "colab_type": "code",
        "colab": {}
      },
      "cell_type": "code",
      "source": [
        "train_mean=mean_vectorizer(w2v).fit(train['tokenize_text']).transform(train['tokenize_text'])\n",
        "test_mean=mean_vectorizer(testw2v).fit(test['tokenize_text']).transform(test['tokenize_text'])"
      ],
      "execution_count": 0,
      "outputs": []
    },
    {
      "metadata": {
        "id": "1hsRUtaxEt4f",
        "colab_type": "code",
        "colab": {}
      },
      "cell_type": "code",
      "source": [
        "dtrain = mean_vectorizer(w2v).fit(train['tokenize_text']).transform(train['tokenize_text'])\n",
        "dtest = mean_vectorizer(w2v).fit(train['tokenize_text']).transform(train['tokenize_text'])"
      ],
      "execution_count": 0,
      "outputs": []
    },
    {
      "metadata": {
        "id": "j0QI_ZBgFCVm",
        "colab_type": "code",
        "colab": {}
      },
      "cell_type": "code",
      "source": [
        "train['type'] = train.type.astype('category').cat.codes"
      ],
      "execution_count": 0,
      "outputs": []
    },
    {
      "metadata": {
        "id": "XNNtGL4YFACW",
        "colab_type": "code",
        "colab": {
          "base_uri": "https://localhost:8080/",
          "height": 33
        },
        "outputId": "156f68d0-6920-40dd-e668-6f10337c26b0"
      },
      "cell_type": "code",
      "source": [
        "def split(train,y,ratio):\n",
        "    idx = round(train.shape[0] * ratio)\n",
        "    return train[:idx, :], train[idx:, :], y[:idx], y[idx:]\n",
        "y = train['type']\n",
        "Xtr, Xval, ytr, yval = split(dtrain, y,0.9)\n",
        "Xtr.shape,Xval.shape,ytr.mean(),yval.mean()"
      ],
      "execution_count": 43,
      "outputs": [
        {
          "output_type": "execute_result",
          "data": {
            "text/plain": [
              "((8236, 300), (915, 300), 4.369232637202526, 4.389071038251366)"
            ]
          },
          "metadata": {
            "tags": []
          },
          "execution_count": 43
        }
      ]
    },
    {
      "metadata": {
        "id": "vgZIlxR5JyA4",
        "colab_type": "code",
        "colab": {
          "base_uri": "https://localhost:8080/",
          "height": 33
        },
        "outputId": "2bc0cd27-f3bd-4be9-9c09-9910f8b1cd6f"
      },
      "cell_type": "code",
      "source": [
        "# подключим библиотеки keras \n",
        "from keras.models import Sequential, Model\n",
        "from keras.layers import Dense, Dropout, Activation, Input\n",
        "from keras.preprocessing.text import Tokenizer\n",
        "from keras import regularizers"
      ],
      "execution_count": 44,
      "outputs": [
        {
          "output_type": "stream",
          "text": [
            "Using TensorFlow backend.\n"
          ],
          "name": "stderr"
        }
      ]
    },
    {
      "metadata": {
        "id": "2eH4LcUXJ1PU",
        "colab_type": "code",
        "colab": {
          "base_uri": "https://localhost:8080/",
          "height": 135
        },
        "outputId": "32b415c8-41a9-4b33-8db5-642b73db942e"
      },
      "cell_type": "code",
      "source": [
        "# опишем нейронную сеть\n",
        "model = Sequential()\n",
        "model.add(Dense(128, input_dim=(Xtr.shape[1])))\n",
        "model.add(Activation('relu'))\n",
        "model.add(Dropout(0.5))\n",
        "model.add(Activation('relu'))\n",
        "model.add(Dropout(0.5))\n",
        "model.add(Activation('relu'))\n",
        "model.add(Dense(1))\n",
        "model.add(Activation('sigmoid'))\n",
        "model.compile(loss='binary_crossentropy',\n",
        "              optimizer='adam',\n",
        "              metrics=['binary_accuracy'])"
      ],
      "execution_count": 45,
      "outputs": [
        {
          "output_type": "stream",
          "text": [
            "WARNING:tensorflow:From /usr/local/lib/python3.6/dist-packages/tensorflow/python/framework/op_def_library.py:263: colocate_with (from tensorflow.python.framework.ops) is deprecated and will be removed in a future version.\n",
            "Instructions for updating:\n",
            "Colocations handled automatically by placer.\n",
            "WARNING:tensorflow:From /usr/local/lib/python3.6/dist-packages/keras/backend/tensorflow_backend.py:3445: calling dropout (from tensorflow.python.ops.nn_ops) with keep_prob is deprecated and will be removed in a future version.\n",
            "Instructions for updating:\n",
            "Please use `rate` instead of `keep_prob`. Rate should be set to `rate = 1 - keep_prob`.\n"
          ],
          "name": "stdout"
        }
      ]
    },
    {
      "metadata": {
        "id": "wpqPhfiLJ370",
        "colab_type": "code",
        "colab": {}
      },
      "cell_type": "code",
      "source": [
        "history = model.fit(Xtr, ytr,\n",
        "                    batch_size=64,\n",
        "                    epochs=5,\n",
        "                    validation_data=(Xval, yval),\n",
        "                    class_weight='auto',\n",
        "                    verbose=0)"
      ],
      "execution_count": 0,
      "outputs": []
    },
    {
      "metadata": {
        "id": "DTOQ4TLIJ7Wu",
        "colab_type": "code",
        "colab": {}
      },
      "cell_type": "code",
      "source": [
        "from sklearn.metrics import accuracy_score"
      ],
      "execution_count": 0,
      "outputs": []
    },
    {
      "metadata": {
        "id": "HckMkrCEKVva",
        "colab_type": "code",
        "colab": {
          "base_uri": "https://localhost:8080/",
          "height": 66
        },
        "outputId": "d1487850-6f40-4e45-c9d3-21408411106c"
      },
      "cell_type": "code",
      "source": [
        "%%time\n",
        "classes = model.predict(Xval, batch_size=128)\n",
        "print(accuracy_score(yval, classes))"
      ],
      "execution_count": 50,
      "outputs": [
        {
          "output_type": "stream",
          "text": [
            "0.13879781420765028\n",
            "CPU times: user 16.6 ms, sys: 11.9 ms, total: 28.6 ms\n",
            "Wall time: 31.1 ms\n"
          ],
          "name": "stdout"
        }
      ]
    },
    {
      "metadata": {
        "id": "mZlp1SDKJ940",
        "colab_type": "code",
        "colab": {}
      },
      "cell_type": "code",
      "source": [
        "import xgboost as xgb"
      ],
      "execution_count": 0,
      "outputs": []
    },
    {
      "metadata": {
        "id": "cEIxRKhTLeoZ",
        "colab_type": "code",
        "colab": {}
      },
      "cell_type": "code",
      "source": [
        "ddtest = xgb.DMatrix(dtrain)"
      ],
      "execution_count": 0,
      "outputs": []
    },
    {
      "metadata": {
        "id": "vpOh5hU2Lgfp",
        "colab_type": "code",
        "colab": {}
      },
      "cell_type": "code",
      "source": [
        "dtr = xgb.DMatrix(Xtr, label= ytr,missing = np.nan)\n",
        "dval = xgb.DMatrix(Xval, label= yval,missing = np.nan)\n",
        "\n",
        "watchlist = [(dtr, 'train'), (dval, 'eval')]\n",
        "history = dict()"
      ],
      "execution_count": 0,
      "outputs": []
    },
    {
      "metadata": {
        "id": "vch7Q56qLrfI",
        "colab_type": "code",
        "colab": {}
      },
      "cell_type": "code",
      "source": [
        "params = {\n",
        "    'learning_rate': 0.1,\n",
        "    'max_depth': 66,\n",
        "    'eta': 0.025,\n",
        "    'nthread': 4,\n",
        "    'subsample': 0.85,\n",
        "    'colsample_bytree':0.8,\n",
        "    'objective': 'multi:softmax',\n",
        "    'num_class':10,\n",
        "    'colsample_bytree': 0.4,\n",
        "    'min_child_weight': 10,\n",
        "    'scale_pos_weight':(1)/y.mean(),\n",
        "    'seed':27,\n",
        "    'eval_metric': ['mlogloss'],\n",
        "}\n"
      ],
      "execution_count": 0,
      "outputs": []
    },
    {
      "metadata": {
        "id": "9tjtWpz0LuMm",
        "colab_type": "code",
        "colab": {
          "base_uri": "https://localhost:8080/",
          "height": 147
        },
        "outputId": "7dc0e4fd-2d13-4f14-853d-e1febd8bbf65"
      },
      "cell_type": "code",
      "source": [
        "model_new = xgb.train(params, dtr, num_boost_round=70, evals=watchlist,verbose_eval=10)"
      ],
      "execution_count": 58,
      "outputs": [
        {
          "output_type": "stream",
          "text": [
            "[0]\ttrain-mlogloss:2.12412\teval-mlogloss:2.15609\n",
            "[10]\ttrain-mlogloss:1.2576\teval-mlogloss:1.55992\n",
            "[20]\ttrain-mlogloss:0.870399\teval-mlogloss:1.36115\n",
            "[30]\ttrain-mlogloss:0.641832\teval-mlogloss:1.26646\n",
            "[40]\ttrain-mlogloss:0.491601\teval-mlogloss:1.22017\n",
            "[50]\ttrain-mlogloss:0.388321\teval-mlogloss:1.19593\n",
            "[60]\ttrain-mlogloss:0.314277\teval-mlogloss:1.1853\n",
            "[69]\ttrain-mlogloss:0.264698\teval-mlogloss:1.17528\n"
          ],
          "name": "stdout"
        }
      ]
    },
    {
      "metadata": {
        "id": "s7h1SSvgUESj",
        "colab_type": "code",
        "colab": {
          "base_uri": "https://localhost:8080/",
          "height": 66
        },
        "outputId": "ebeb52b0-d2c6-47b8-a7b8-d19c18f689e7"
      },
      "cell_type": "code",
      "source": [
        "%%time\n",
        "classes = model_new.predict(dval)\n",
        "print(accuracy_score(yval, classes))"
      ],
      "execution_count": 59,
      "outputs": [
        {
          "output_type": "stream",
          "text": [
            "0.5814207650273224\n",
            "CPU times: user 2.15 ms, sys: 1 ms, total: 3.15 ms\n",
            "Wall time: 2.13 ms\n"
          ],
          "name": "stdout"
        }
      ]
    }
  ]
}