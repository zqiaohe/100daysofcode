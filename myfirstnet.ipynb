{
  "nbformat": 4,
  "nbformat_minor": 0,
  "metadata": {
    "colab": {
      "name": "myfirstnet.ipynb",
      "version": "0.3.2",
      "provenance": [],
      "include_colab_link": true
    },
    "kernelspec": {
      "name": "python3",
      "display_name": "Python 3"
    },
    "accelerator": "GPU"
  },
  "cells": [
    {
      "cell_type": "markdown",
      "metadata": {
        "id": "view-in-github",
        "colab_type": "text"
      },
      "source": [
        "<a href=\"https://colab.research.google.com/github/zqiaohe/100daysofcode/blob/master/myfirstnet.ipynb\" target=\"_parent\"><img src=\"https://colab.research.google.com/assets/colab-badge.svg\" alt=\"Open In Colab\"/></a>"
      ]
    },
    {
      "metadata": {
        "id": "UwpcnhhwOUpx",
        "colab_type": "code",
        "colab": {}
      },
      "cell_type": "code",
      "source": [
        "import pandas as pd #для работы с csv "
      ],
      "execution_count": 0,
      "outputs": []
    },
    {
      "metadata": {
        "id": "bNEL_VgqO--O",
        "colab_type": "code",
        "colab": {}
      },
      "cell_type": "code",
      "source": [
        "TRAIN_PATH = 'fashion-mnist_train.csv' #ссылка на датасет\n",
        "TEST_PATH = 'fashion-mnist_test.csv'"
      ],
      "execution_count": 0,
      "outputs": []
    },
    {
      "metadata": {
        "id": "5_wtSj_NH8DA",
        "colab_type": "code",
        "colab": {}
      },
      "cell_type": "code",
      "source": [
        "train_df = pd.read_csv('fashion-mnist_train.csv', error_bad_lines=False)\n",
        "test_df = pd.read_csv('fashion-mnist_test.csv', error_bad_lines=False)"
      ],
      "execution_count": 0,
      "outputs": []
    },
    {
      "metadata": {
        "id": "9iFTcWRBjw4q",
        "colab_type": "code",
        "colab": {}
      },
      "cell_type": "code",
      "source": [
        "X_train = train_df.values[:, 1:]\n",
        "y_train = train_df.values[:, 0]\n",
        "X_test = test_df.values"
      ],
      "execution_count": 0,
      "outputs": []
    },
    {
      "metadata": {
        "id": "No_YcyzWk3VB",
        "colab_type": "code",
        "colab": {}
      },
      "cell_type": "code",
      "source": [
        "import numpy as np\n",
        "import matplotlib.pyplot as plt"
      ],
      "execution_count": 0,
      "outputs": []
    },
    {
      "metadata": {
        "id": "tn5t_a0Yl9WF",
        "colab_type": "code",
        "colab": {}
      },
      "cell_type": "code",
      "source": [
        "# http://pytorch.org/\n",
        "from os.path import exists\n",
        "from wheel.pep425tags import get_abbr_impl, get_impl_ver, get_abi_tag\n",
        "platform = '{}{}-{}'.format(get_abbr_impl(), get_impl_ver(), get_abi_tag())\n",
        "cuda_output = !ldconfig -p|grep cudart.so|sed -e 's/.*\\.\\([0-9]*\\)\\.\\([0-9]*\\)$/cu\\1\\2/'\n",
        "accelerator = cuda_output[0] if exists('/dev/nvidia0') else 'cpu'\n",
        "\n",
        "!pip install -q http://download.pytorch.org/whl/{accelerator}/torch-0.4.1-{platform}-linux_x86_64.whl torchvision"
      ],
      "execution_count": 0,
      "outputs": []
    },
    {
      "metadata": {
        "id": "QbFNBdvomCUO",
        "colab_type": "code",
        "colab": {}
      },
      "cell_type": "code",
      "source": [
        "import torch"
      ],
      "execution_count": 0,
      "outputs": []
    },
    {
      "metadata": {
        "id": "77_wBgewktMr",
        "colab_type": "code",
        "colab": {}
      },
      "cell_type": "code",
      "source": [
        "plt.imshow(X_train[0].reshape(28, 28), cmap='gray');"
      ],
      "execution_count": 0,
      "outputs": []
    },
    {
      "metadata": {
        "id": "q1Vn1cnvk-ia",
        "colab_type": "code",
        "colab": {}
      },
      "cell_type": "code",
      "source": [
        "X_train_tensor = torch.FloatTensor(X_train)\n",
        "y_train_tensor = torch.LongTensor(y_train.astype(np.int64))"
      ],
      "execution_count": 0,
      "outputs": []
    },
    {
      "metadata": {
        "id": "s0qG0Bdnlz1w",
        "colab_type": "code",
        "colab": {}
      },
      "cell_type": "code",
      "source": [
        "print(X_train_tensor.shape, y_train_tensor.shape)"
      ],
      "execution_count": 0,
      "outputs": []
    },
    {
      "metadata": {
        "id": "C3iFP0VMmdzy",
        "colab_type": "code",
        "colab": {}
      },
      "cell_type": "code",
      "source": [
        "y_train_tensor.unique()"
      ],
      "execution_count": 0,
      "outputs": []
    },
    {
      "metadata": {
        "id": "VwcZtALOmggE",
        "colab_type": "code",
        "colab": {}
      },
      "cell_type": "code",
      "source": [
        "length = y_train_tensor.shape[0]\n",
        "num_classes = 10  # количество классов, в нашем случае 10 типов одежды\n",
        "\n",
        "# закодированные OneHot-ом метки классов\n",
        "y_onehot = torch.FloatTensor(length, num_classes)\n",
        "\n",
        "y_onehot.zero_()\n",
        "y_onehot.scatter_(1, y_train_tensor.view(-1, 1), 1)\n",
        "\n",
        "print(y_train_tensor)\n",
        "print(y_onehot)"
      ],
      "execution_count": 0,
      "outputs": []
    },
    {
      "metadata": {
        "id": "drPyobw1mjc_",
        "colab_type": "code",
        "colab": {}
      },
      "cell_type": "code",
      "source": [
        "# N - размер батча (batch_size, нужно для метода оптимизации)\n",
        "# D_in - размерность входа (количество признаков у объекта)\n",
        "# H - размерность скрытых слоёв; \n",
        "# D_out - размерность выходного слоя (суть - количество классов)\n",
        "D_in, H, D_out = 784, 50, 10\n",
        "\n",
        "# определим нейросеть:\n",
        "net = torch.nn.Sequential(\n",
        "    torch.nn.Linear(D_in, H),\n",
        "    torch.nn.ReLU(),\n",
        "    \n",
        "    torch.nn.Linear(H, D_out),\n",
        "    torch.nn.Softmax()\n",
        ")"
      ],
      "execution_count": 0,
      "outputs": []
    },
    {
      "metadata": {
        "id": "J6isld41mq8S",
        "colab_type": "code",
        "colab": {}
      },
      "cell_type": "code",
      "source": [
        "def generate_batches(X, y, batch_size=64):\n",
        "    for i in range(0, X.shape[0], batch_size):\n",
        "        X_batch, y_batch = X[i:i+batch_size], y[i:i+batch_size]\n",
        "        yield X_batch, y_batch"
      ],
      "execution_count": 0,
      "outputs": []
    },
    {
      "metadata": {
        "id": "UT2fb_vymuTe",
        "colab_type": "code",
        "colab": {}
      },
      "cell_type": "code",
      "source": [
        "BATCH_SIZE = 100\n",
        "NUM_EPOCHS = 200\n",
        "\n",
        "loss_fn = torch.nn.CrossEntropyLoss(size_average=False)\n",
        "\n",
        "learning_rate = 1e-2\n",
        "optimizer = torch.optim.SGD(net.parameters(), lr=learning_rate)\n",
        "\n",
        "for epoch_num  in range(NUM_EPOCHS):\n",
        "    iter_num = 0\n",
        "    running_loss = 0.0\n",
        "    for X_batch, y_batch in generate_batches(X_train_tensor, y_train_tensor, BATCH_SIZE):\n",
        "        # forward (подсчёт ответа с текущими весами)\n",
        "        y_pred = net(X_batch)\n",
        "\n",
        "        # вычисляем loss'ы\n",
        "        loss = loss_fn(y_pred, y_batch)\n",
        "        \n",
        "        running_loss += loss.item()\n",
        "        \n",
        "        # выводем качество каждые 2000 батчей\n",
        "            \n",
        "        if iter_num % 100 == 99:\n",
        "            print('[{}, {}] current loss: {}'.format(epoch_num, iter_num + 1, running_loss / 2000))\n",
        "            running_loss = 0.0\n",
        "            \n",
        "        # зануляем градиенты\n",
        "        optimizer.zero_grad()\n",
        "\n",
        "        # backward (подсчёт новых градиентов)\n",
        "        loss.backward()\n",
        "\n",
        "        # обновляем веса\n",
        "        optimizer.step()\n",
        "        \n",
        "        iter_num += 1"
      ],
      "execution_count": 0,
      "outputs": []
    },
    {
      "metadata": {
        "id": "XUZfUm3snIfG",
        "colab_type": "code",
        "colab": {}
      },
      "cell_type": "code",
      "source": [
        "BATCH_SIZE = 64\n",
        "NUM_EPOCHS = 100\n",
        "\n",
        "loss_fn = torch.nn.CrossEntropyLoss(size_average=False)\n",
        "\n",
        "learning_rate = 1e-4\n",
        "optimizer = torch.optim.SGD(net.parameters(), lr=learning_rate)"
      ],
      "execution_count": 0,
      "outputs": []
    },
    {
      "metadata": {
        "id": "LrOrczFOm2bf",
        "colab_type": "text"
      },
      "cell_type": "markdown",
      "source": [
        "Эффективность необученной сети:"
      ]
    },
    {
      "metadata": {
        "id": "uN9MTLIqmvll",
        "colab_type": "code",
        "colab": {}
      },
      "cell_type": "code",
      "source": [
        "class_correct = list(0. for i in range(10))\n",
        "class_total = list(0. for i in range(10))\n",
        "\n",
        "classes = ['T-shirt/top', 'Trouser', 'Pullover', 'Dress', 'Coat', \n",
        "           'Sandal', 'Shirt', 'Sneaker','Bag', 'Ankle boot']\n",
        "\n",
        "with torch.no_grad():\n",
        "    for X_batch, y_batch in generate_batches(X_train_tensor, y_train_tensor, BATCH_SIZE):\n",
        "        y_pred = net(X_batch)\n",
        "        _, predicted = torch.max(y_pred, 1)\n",
        "        c = (predicted == y_batch).squeeze()\n",
        "        for i in range(len(y_pred)):\n",
        "            label = y_batch[i]\n",
        "            class_correct[label] += c[i].item()\n",
        "            class_total[label] += 1\n",
        "\n",
        "\n",
        "for i in range(10):\n",
        "    print('Accuracy of %5s : %2d %%' % (\n",
        "        classes[i], 100 * class_correct[i] / class_total[i]))"
      ],
      "execution_count": 0,
      "outputs": []
    },
    {
      "metadata": {
        "id": "AbL4Vp2PKLxD",
        "colab_type": "text"
      },
      "cell_type": "markdown",
      "source": [
        "начало"
      ]
    },
    {
      "metadata": {
        "id": "WvMsFMN6JoSu",
        "colab_type": "code",
        "colab": {}
      },
      "cell_type": "code",
      "source": [
        "# N - размер батча (batch_size, нужно для метода оптимизации)\n",
        "# D_in - размерность входа (количество признаков у объекта)\n",
        "# H - размерность скрытых слоёв; \n",
        "# D_out - размерность выходного слоя (суть - количество классов)\n",
        "D_in, H, D_out = 784, 50, 10\n",
        "\n",
        "# определим нейросеть:\n",
        "net = torch.nn.Sequential(\n",
        "    torch.nn.Linear(D_in, H),\n",
        "    torch.nn.ReLU(),\n",
        "    \n",
        "    torch.nn.Linear(H, D_out),\n",
        "    torch.nn.Softmax()\n",
        ")"
      ],
      "execution_count": 0,
      "outputs": []
    },
    {
      "metadata": {
        "id": "adt4-suoJaV9",
        "colab_type": "code",
        "colab": {
          "base_uri": "https://localhost:8080/",
          "height": 71
        },
        "outputId": "d353eff0-6b26-4e8b-a4fb-f74e7ccaba9d"
      },
      "cell_type": "code",
      "source": [
        "BATCH_SIZE = 50\n",
        "NUM_EPOCHS = 150\n",
        "\n",
        "loss_fn = torch.nn.CrossEntropyLoss(size_average=False)\n",
        "\n",
        "learning_rate = 1e-4\n",
        "optimizer = torch.optim.Adam(net.parameters(), lr=learning_rate)"
      ],
      "execution_count": 100,
      "outputs": [
        {
          "output_type": "stream",
          "text": [
            "/usr/local/lib/python3.6/dist-packages/torch/nn/functional.py:52: UserWarning: size_average and reduce args will be deprecated, please use reduction='sum' instead.\n",
            "  warnings.warn(warning.format(ret))\n"
          ],
          "name": "stderr"
        }
      ]
    },
    {
      "metadata": {
        "id": "AX3pHzmHnOW_",
        "colab_type": "code",
        "colab": {}
      },
      "cell_type": "code",
      "source": [
        "for epoch_num  in range(NUM_EPOCHS):\n",
        "    iter_num = 0\n",
        "    running_loss = 0.0\n",
        "    for X_batch, y_batch in generate_batches(X_train_tensor, y_train_tensor, BATCH_SIZE):\n",
        "        # forward (подсчёт ответа с текущими весами)\n",
        "        y_pred = net(X_batch)\n",
        "\n",
        "        # вычисляем loss'ы\n",
        "        loss = loss_fn(y_pred, y_batch)\n",
        "        \n",
        "        running_loss += loss.item()\n",
        "        \n",
        "        # выводем качество каждые 2000 батчей\n",
        "            \n",
        "        if iter_num % 100 == 99:\n",
        "            print('[{}, {}] current loss: {}'.format(epoch_num, iter_num + 1, running_loss / 2000))\n",
        "            running_loss = 0.0\n",
        "            \n",
        "        # зануляем градиенты\n",
        "        optimizer.zero_grad()\n",
        "\n",
        "        # backward (подсчёт новых градиентов)\n",
        "        loss.backward()\n",
        "\n",
        "        # обновляем веса\n",
        "        optimizer.step()\n",
        "        \n",
        "        iter_num += 1"
      ],
      "execution_count": 0,
      "outputs": []
    },
    {
      "metadata": {
        "id": "3JcCgmZZwHOr",
        "colab_type": "code",
        "colab": {}
      },
      "cell_type": "code",
      "source": [
        "class_correct = list(0. for i in range(10))\n",
        "class_total = list(0. for i in range(10))\n",
        "\n",
        "classes = ['T-shirt/top', 'Trouser', 'Pullover', 'Dress', 'Coat', \n",
        "           'Sandal', 'Shirt', 'Sneaker','Bag', 'Ankle boot']\n",
        "\n",
        "with torch.no_grad():\n",
        "    for X_batch, y_batch in generate_batches(X_train_tensor, y_train_tensor, BATCH_SIZE):\n",
        "        y_pred = net(X_batch)\n",
        "        _, predicted = torch.max(y_pred, 1)\n",
        "        c = (predicted == y_batch).squeeze()\n",
        "        for i in range(len(y_pred)):\n",
        "            label = y_batch[i]\n",
        "            class_correct[label] += c[i].item()\n",
        "            class_total[label] += 1\n",
        "\n",
        "\n",
        "for i in range(10):\n",
        "    print('Accuracy of %5s : %2d %%' % (\n",
        "        classes[i], 100 * class_correct[i] / class_total[i]))"
      ],
      "execution_count": 0,
      "outputs": []
    },
    {
      "metadata": {
        "id": "1BrQ-dciTjbk",
        "colab_type": "code",
        "colab": {}
      },
      "cell_type": "code",
      "source": [
        "test_df = pd.read_csv('fashion-mnist_test.csv')"
      ],
      "execution_count": 0,
      "outputs": []
    },
    {
      "metadata": {
        "id": "AbKRkjoGTsDZ",
        "colab_type": "code",
        "colab": {}
      },
      "cell_type": "code",
      "source": [
        "X_test = test_df.values"
      ],
      "execution_count": 0,
      "outputs": []
    },
    {
      "metadata": {
        "id": "7wI_SF8dTvkJ",
        "colab_type": "code",
        "colab": {
          "base_uri": "https://localhost:8080/",
          "height": 71
        },
        "outputId": "d06ef66a-2920-4c7b-d2be-6657ab049a38"
      },
      "cell_type": "code",
      "source": [
        "y_test_pred = net(torch.FloatTensor(X_test))"
      ],
      "execution_count": 105,
      "outputs": [
        {
          "output_type": "stream",
          "text": [
            "/usr/local/lib/python3.6/dist-packages/torch/nn/modules/container.py:91: UserWarning: Implicit dimension choice for softmax has been deprecated. Change the call to include dim=X as an argument.\n",
            "  input = module(input)\n"
          ],
          "name": "stderr"
        }
      ]
    },
    {
      "metadata": {
        "id": "HXpAlU5fTwwT",
        "colab_type": "code",
        "colab": {
          "base_uri": "https://localhost:8080/",
          "height": 187
        },
        "outputId": "924d442c-ee7a-4bf1-e1f0-1a3333c18197"
      },
      "cell_type": "code",
      "source": [
        "y_test_pred[:5]"
      ],
      "execution_count": 106,
      "outputs": [
        {
          "output_type": "execute_result",
          "data": {
            "text/plain": [
              "tensor([[0.0000, 0.0000, 0.0000, 0.0000, 0.0000, 0.0000, 1.0000, 0.0000, 0.0000,\n",
              "         0.0000],\n",
              "        [0.0000, 1.0000, 0.0000, 0.0000, 0.0000, 0.0000, 0.0000, 0.0000, 0.0000,\n",
              "         0.0000],\n",
              "        [0.0000, 0.0000, 0.0000, 0.0000, 0.0000, 0.0000, 1.0000, 0.0000, 0.0000,\n",
              "         0.0000],\n",
              "        [1.0000, 0.0000, 0.0000, 0.0000, 0.0000, 0.0000, 0.0000, 0.0000, 0.0000,\n",
              "         0.0000],\n",
              "        [0.0000, 0.0000, 0.0000, 0.0000, 1.0000, 0.0000, 0.0000, 0.0000, 0.0000,\n",
              "         0.0000]], grad_fn=<SliceBackward>)"
            ]
          },
          "metadata": {
            "tags": []
          },
          "execution_count": 106
        }
      ]
    },
    {
      "metadata": {
        "id": "iZjsTIAJT1_q",
        "colab_type": "code",
        "colab": {
          "base_uri": "https://localhost:8080/",
          "height": 34
        },
        "outputId": "0cc67128-2985-409c-a32a-6449c1bfb1a7"
      },
      "cell_type": "code",
      "source": [
        "_, predicted = torch.max(y_test_pred, 1)\n",
        "\n",
        "predicted"
      ],
      "execution_count": 108,
      "outputs": [
        {
          "output_type": "execute_result",
          "data": {
            "text/plain": [
              "tensor([6, 1, 6,  ..., 8, 6, 1])"
            ]
          },
          "metadata": {
            "tags": []
          },
          "execution_count": 108
        }
      ]
    },
    {
      "metadata": {
        "id": "AmBYtBVcUQ3o",
        "colab_type": "code",
        "colab": {
          "base_uri": "https://localhost:8080/",
          "height": 204
        },
        "outputId": "e60ca71f-912b-4f3e-d334-411f5220ce80"
      },
      "cell_type": "code",
      "source": [
        "answer_df = pd.DataFrame(data=predicted.numpy(), columns=['Category'])\n",
        "answer_df.head()"
      ],
      "execution_count": 109,
      "outputs": [
        {
          "output_type": "execute_result",
          "data": {
            "text/html": [
              "<div>\n",
              "<style scoped>\n",
              "    .dataframe tbody tr th:only-of-type {\n",
              "        vertical-align: middle;\n",
              "    }\n",
              "\n",
              "    .dataframe tbody tr th {\n",
              "        vertical-align: top;\n",
              "    }\n",
              "\n",
              "    .dataframe thead th {\n",
              "        text-align: right;\n",
              "    }\n",
              "</style>\n",
              "<table border=\"1\" class=\"dataframe\">\n",
              "  <thead>\n",
              "    <tr style=\"text-align: right;\">\n",
              "      <th></th>\n",
              "      <th>Category</th>\n",
              "    </tr>\n",
              "  </thead>\n",
              "  <tbody>\n",
              "    <tr>\n",
              "      <th>0</th>\n",
              "      <td>6</td>\n",
              "    </tr>\n",
              "    <tr>\n",
              "      <th>1</th>\n",
              "      <td>1</td>\n",
              "    </tr>\n",
              "    <tr>\n",
              "      <th>2</th>\n",
              "      <td>6</td>\n",
              "    </tr>\n",
              "    <tr>\n",
              "      <th>3</th>\n",
              "      <td>0</td>\n",
              "    </tr>\n",
              "    <tr>\n",
              "      <th>4</th>\n",
              "      <td>4</td>\n",
              "    </tr>\n",
              "  </tbody>\n",
              "</table>\n",
              "</div>"
            ],
            "text/plain": [
              "   Category\n",
              "0         6\n",
              "1         1\n",
              "2         6\n",
              "3         0\n",
              "4         4"
            ]
          },
          "metadata": {
            "tags": []
          },
          "execution_count": 109
        }
      ]
    },
    {
      "metadata": {
        "id": "EJq3-Z2IUWRK",
        "colab_type": "code",
        "colab": {}
      },
      "cell_type": "code",
      "source": [
        "answer_df['Id'] = answer_df.index"
      ],
      "execution_count": 0,
      "outputs": []
    },
    {
      "metadata": {
        "id": "oQcPTIhhUWP8",
        "colab_type": "code",
        "colab": {
          "base_uri": "https://localhost:8080/",
          "height": 204
        },
        "outputId": "3618b957-be65-46d7-e5a7-5592a9b06226"
      },
      "cell_type": "code",
      "source": [
        "answer_df.head()"
      ],
      "execution_count": 111,
      "outputs": [
        {
          "output_type": "execute_result",
          "data": {
            "text/html": [
              "<div>\n",
              "<style scoped>\n",
              "    .dataframe tbody tr th:only-of-type {\n",
              "        vertical-align: middle;\n",
              "    }\n",
              "\n",
              "    .dataframe tbody tr th {\n",
              "        vertical-align: top;\n",
              "    }\n",
              "\n",
              "    .dataframe thead th {\n",
              "        text-align: right;\n",
              "    }\n",
              "</style>\n",
              "<table border=\"1\" class=\"dataframe\">\n",
              "  <thead>\n",
              "    <tr style=\"text-align: right;\">\n",
              "      <th></th>\n",
              "      <th>Category</th>\n",
              "      <th>Id</th>\n",
              "    </tr>\n",
              "  </thead>\n",
              "  <tbody>\n",
              "    <tr>\n",
              "      <th>0</th>\n",
              "      <td>6</td>\n",
              "      <td>0</td>\n",
              "    </tr>\n",
              "    <tr>\n",
              "      <th>1</th>\n",
              "      <td>1</td>\n",
              "      <td>1</td>\n",
              "    </tr>\n",
              "    <tr>\n",
              "      <th>2</th>\n",
              "      <td>6</td>\n",
              "      <td>2</td>\n",
              "    </tr>\n",
              "    <tr>\n",
              "      <th>3</th>\n",
              "      <td>0</td>\n",
              "      <td>3</td>\n",
              "    </tr>\n",
              "    <tr>\n",
              "      <th>4</th>\n",
              "      <td>4</td>\n",
              "      <td>4</td>\n",
              "    </tr>\n",
              "  </tbody>\n",
              "</table>\n",
              "</div>"
            ],
            "text/plain": [
              "   Category  Id\n",
              "0         6   0\n",
              "1         1   1\n",
              "2         6   2\n",
              "3         0   3\n",
              "4         4   4"
            ]
          },
          "metadata": {
            "tags": []
          },
          "execution_count": 111
        }
      ]
    },
    {
      "metadata": {
        "id": "k2zIetcdUaR5",
        "colab_type": "code",
        "colab": {
          "base_uri": "https://localhost:8080/",
          "height": 204
        },
        "outputId": "f7f3620d-5161-4421-e084-25ab4b66b19f"
      },
      "cell_type": "code",
      "source": [
        "answer_df.tail()"
      ],
      "execution_count": 112,
      "outputs": [
        {
          "output_type": "execute_result",
          "data": {
            "text/html": [
              "<div>\n",
              "<style scoped>\n",
              "    .dataframe tbody tr th:only-of-type {\n",
              "        vertical-align: middle;\n",
              "    }\n",
              "\n",
              "    .dataframe tbody tr th {\n",
              "        vertical-align: top;\n",
              "    }\n",
              "\n",
              "    .dataframe thead th {\n",
              "        text-align: right;\n",
              "    }\n",
              "</style>\n",
              "<table border=\"1\" class=\"dataframe\">\n",
              "  <thead>\n",
              "    <tr style=\"text-align: right;\">\n",
              "      <th></th>\n",
              "      <th>Category</th>\n",
              "      <th>Id</th>\n",
              "    </tr>\n",
              "  </thead>\n",
              "  <tbody>\n",
              "    <tr>\n",
              "      <th>9995</th>\n",
              "      <td>0</td>\n",
              "      <td>9995</td>\n",
              "    </tr>\n",
              "    <tr>\n",
              "      <th>9996</th>\n",
              "      <td>6</td>\n",
              "      <td>9996</td>\n",
              "    </tr>\n",
              "    <tr>\n",
              "      <th>9997</th>\n",
              "      <td>8</td>\n",
              "      <td>9997</td>\n",
              "    </tr>\n",
              "    <tr>\n",
              "      <th>9998</th>\n",
              "      <td>6</td>\n",
              "      <td>9998</td>\n",
              "    </tr>\n",
              "    <tr>\n",
              "      <th>9999</th>\n",
              "      <td>1</td>\n",
              "      <td>9999</td>\n",
              "    </tr>\n",
              "  </tbody>\n",
              "</table>\n",
              "</div>"
            ],
            "text/plain": [
              "      Category    Id\n",
              "9995         0  9995\n",
              "9996         6  9996\n",
              "9997         8  9997\n",
              "9998         6  9998\n",
              "9999         1  9999"
            ]
          },
          "metadata": {
            "tags": []
          },
          "execution_count": 112
        }
      ]
    },
    {
      "metadata": {
        "id": "Zl2T5r2nUdmB",
        "colab_type": "code",
        "colab": {}
      },
      "cell_type": "code",
      "source": [
        "answer_df.to_csv('baseline.csv', index=False)"
      ],
      "execution_count": 0,
      "outputs": []
    },
    {
      "metadata": {
        "id": "fGDh6ZXaUnn3",
        "colab_type": "code",
        "colab": {}
      },
      "cell_type": "code",
      "source": [
        ""
      ],
      "execution_count": 0,
      "outputs": []
    }
  ]
}