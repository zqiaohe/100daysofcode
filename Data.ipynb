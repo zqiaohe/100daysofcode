{
  "nbformat": 4,
  "nbformat_minor": 0,
  "metadata": {
    "colab": {
      "name": "Data.ipynb",
      "version": "0.3.2",
      "provenance": [],
      "include_colab_link": true
    },
    "kernelspec": {
      "name": "python3",
      "display_name": "Python 3"
    },
    "accelerator": "GPU"
  },
  "cells": [
    {
      "cell_type": "markdown",
      "metadata": {
        "id": "view-in-github",
        "colab_type": "text"
      },
      "source": [
        "<a href=\"https://colab.research.google.com/github/zqiaohe/100daysofcode/blob/master/Data.ipynb\" target=\"_parent\"><img src=\"https://colab.research.google.com/assets/colab-badge.svg\" alt=\"Open In Colab\"/></a>"
      ]
    },
    {
      "metadata": {
        "id": "AFDcsWFWirTW",
        "colab_type": "code",
        "outputId": "3cc0221a-d746-4562-c21b-0ca6658d067d",
        "colab": {
          "base_uri": "https://localhost:8080/",
          "height": 33
        }
      },
      "cell_type": "code",
      "source": [
        "from google.colab import drive\n",
        "drive.mount('/content/drive')"
      ],
      "execution_count": 27,
      "outputs": [
        {
          "output_type": "stream",
          "text": [
            "Drive already mounted at /content/drive; to attempt to forcibly remount, call drive.mount(\"/content/drive\", force_remount=True).\n"
          ],
          "name": "stdout"
        }
      ]
    },
    {
      "metadata": {
        "id": "Yds7h50JkHjS",
        "colab_type": "code",
        "colab": {}
      },
      "cell_type": "code",
      "source": [
        "import dask.dataframe as dd\n",
        "import dask.array as da\n",
        "import numpy as np"
      ],
      "execution_count": 0,
      "outputs": []
    },
    {
      "metadata": {
        "id": "8Y6HF6s9St9q",
        "colab_type": "code",
        "colab": {}
      },
      "cell_type": "code",
      "source": [
        "import pandas as pd"
      ],
      "execution_count": 0,
      "outputs": []
    },
    {
      "metadata": {
        "id": "n-_OwHbzQeAw",
        "colab_type": "code",
        "colab": {}
      },
      "cell_type": "code",
      "source": [
        "from matplotlib import pyplot as plt\n",
        "%matplotlib inline\n"
      ],
      "execution_count": 0,
      "outputs": []
    },
    {
      "metadata": {
        "id": "cEChnijABPtq",
        "colab_type": "code",
        "colab": {}
      },
      "cell_type": "code",
      "source": [
        "train = pd.read_csv('drive/My Drive/СupIT_final/train.csv', sep='\\t')\n",
        "test = pd.read_csv('drive/My Drive/СupIT_final/test.csv', sep='\\t')"
      ],
      "execution_count": 0,
      "outputs": []
    },
    {
      "metadata": {
        "id": "uw0PURYUBiyw",
        "colab_type": "code",
        "outputId": "2efb2844-7190-4c88-ac6c-45c504adc8b4",
        "colab": {
          "base_uri": "https://localhost:8080/",
          "height": 197
        }
      },
      "cell_type": "code",
      "source": [
        "train.head()"
      ],
      "execution_count": 0,
      "outputs": [
        {
          "output_type": "execute_result",
          "data": {
            "text/html": [
              "<div>\n",
              "<style scoped>\n",
              "    .dataframe tbody tr th:only-of-type {\n",
              "        vertical-align: middle;\n",
              "    }\n",
              "\n",
              "    .dataframe tbody tr th {\n",
              "        vertical-align: top;\n",
              "    }\n",
              "\n",
              "    .dataframe thead th {\n",
              "        text-align: right;\n",
              "    }\n",
              "</style>\n",
              "<table border=\"1\" class=\"dataframe\">\n",
              "  <thead>\n",
              "    <tr style=\"text-align: right;\">\n",
              "      <th></th>\n",
              "      <th>id</th>\n",
              "      <th>vas_id</th>\n",
              "      <th>buy_time</th>\n",
              "      <th>target</th>\n",
              "    </tr>\n",
              "  </thead>\n",
              "  <tbody>\n",
              "    <tr>\n",
              "      <th>0</th>\n",
              "      <td>1803703</td>\n",
              "      <td>2.0</td>\n",
              "      <td>1539550800</td>\n",
              "      <td>0.0</td>\n",
              "    </tr>\n",
              "    <tr>\n",
              "      <th>1</th>\n",
              "      <td>1144906</td>\n",
              "      <td>1.0</td>\n",
              "      <td>1534107600</td>\n",
              "      <td>0.0</td>\n",
              "    </tr>\n",
              "    <tr>\n",
              "      <th>2</th>\n",
              "      <td>721013</td>\n",
              "      <td>1.0</td>\n",
              "      <td>1541970000</td>\n",
              "      <td>0.0</td>\n",
              "    </tr>\n",
              "    <tr>\n",
              "      <th>3</th>\n",
              "      <td>721013</td>\n",
              "      <td>4.0</td>\n",
              "      <td>1542574800</td>\n",
              "      <td>1.0</td>\n",
              "    </tr>\n",
              "    <tr>\n",
              "      <th>4</th>\n",
              "      <td>2741595</td>\n",
              "      <td>2.0</td>\n",
              "      <td>1531688400</td>\n",
              "      <td>0.0</td>\n",
              "    </tr>\n",
              "  </tbody>\n",
              "</table>\n",
              "</div>"
            ],
            "text/plain": [
              "        id  vas_id    buy_time  target\n",
              "0  1803703     2.0  1539550800     0.0\n",
              "1  1144906     1.0  1534107600     0.0\n",
              "2   721013     1.0  1541970000     0.0\n",
              "3   721013     4.0  1542574800     1.0\n",
              "4  2741595     2.0  1531688400     0.0"
            ]
          },
          "metadata": {
            "tags": []
          },
          "execution_count": 14
        }
      ]
    },
    {
      "metadata": {
        "id": "GuzoLD_KV5Rt",
        "colab_type": "code",
        "outputId": "14d10e0f-a663-4341-d8ce-de1971b70a85",
        "colab": {
          "base_uri": "https://localhost:8080/",
          "height": 286
        }
      },
      "cell_type": "code",
      "source": [
        "train.vas_id.value_counts().plot.bar()"
      ],
      "execution_count": 0,
      "outputs": [
        {
          "output_type": "execute_result",
          "data": {
            "text/plain": [
              "<matplotlib.axes._subplots.AxesSubplot at 0x7fd176c3b5c0>"
            ]
          },
          "metadata": {
            "tags": []
          },
          "execution_count": 15
        },
        {
          "output_type": "display_data",
          "data": {
            "image/png": "[encoded data removed]",
            "text/plain": [
              "<Figure size 432x288 with 1 Axes>"
            ]
          },
          "metadata": {
            "tags": []
          }
        }
      ]
    },
    {
      "metadata": {
        "id": "GmaprpEyB5DF",
        "colab_type": "code",
        "outputId": "ef586e75-97a8-419b-9a1e-fd0b5a815a28",
        "colab": {
          "base_uri": "https://localhost:8080/",
          "height": 330
        }
      },
      "cell_type": "code",
      "source": [
        "train.buy_time.value_counts().plot.bar()"
      ],
      "execution_count": 0,
      "outputs": [
        {
          "output_type": "execute_result",
          "data": {
            "text/plain": [
              "<matplotlib.axes._subplots.AxesSubplot at 0x7fd176b85fd0>"
            ]
          },
          "metadata": {
            "tags": []
          },
          "execution_count": 16
        },
        {
          "output_type": "display_data",
          "data": {
            "image/png": "[encoded data removed]",
            "text/plain": [
              "<Figure size 432x288 with 1 Axes>"
            ]
          },
          "metadata": {
            "tags": []
          }
        }
      ]
    },
    {
      "metadata": {
        "id": "TrsPXFsFCwFI",
        "colab_type": "code",
        "colab": {
          "base_uri": "https://localhost:8080/",
          "height": 33
        },
        "outputId": "c5cddd02-85f3-4daf-afc9-54e7acc37785"
      },
      "cell_type": "code",
      "source": [
        "train.shape"
      ],
      "execution_count": 36,
      "outputs": [
        {
          "output_type": "execute_result",
          "data": {
            "text/plain": [
              "(3620927, 4)"
            ]
          },
          "metadata": {
            "tags": []
          },
          "execution_count": 36
        }
      ]
    },
    {
      "metadata": {
        "id": "ihTpNCv7VkC1",
        "colab_type": "code",
        "colab": {
          "base_uri": "https://localhost:8080/",
          "height": 33
        },
        "outputId": "a131d034-6ba7-4366-9da7-f56a1659d446"
      },
      "cell_type": "code",
      "source": [
        "test.shape"
      ],
      "execution_count": 38,
      "outputs": [
        {
          "output_type": "execute_result",
          "data": {
            "text/plain": [
              "(902884, 3)"
            ]
          },
          "metadata": {
            "tags": []
          },
          "execution_count": 38
        }
      ]
    },
    {
      "metadata": {
        "id": "Ltztjfr7TZtB",
        "colab_type": "code",
        "colab": {}
      },
      "cell_type": "code",
      "source": [
        "counts = train['vas_id'].value_counts()"
      ],
      "execution_count": 0,
      "outputs": []
    },
    {
      "metadata": {
        "id": "W9Tfos15kKML",
        "colab_type": "code",
        "outputId": "2402da15-189a-4b90-8156-eb5027fbdd36",
        "colab": {
          "base_uri": "https://localhost:8080/",
          "height": 191
        }
      },
      "cell_type": "code",
      "source": [
        "train.head()"
      ],
      "execution_count": 0,
      "outputs": [
        {
          "output_type": "execute_result",
          "data": {
            "text/html": [
              "<div>\n",
              "<style scoped>\n",
              "    .dataframe tbody tr th:only-of-type {\n",
              "        vertical-align: middle;\n",
              "    }\n",
              "\n",
              "    .dataframe tbody tr th {\n",
              "        vertical-align: top;\n",
              "    }\n",
              "\n",
              "    .dataframe thead th {\n",
              "        text-align: right;\n",
              "    }\n",
              "</style>\n",
              "<table border=\"1\" class=\"dataframe\">\n",
              "  <thead>\n",
              "    <tr style=\"text-align: right;\">\n",
              "      <th></th>\n",
              "      <th>id</th>\n",
              "      <th>vas_id</th>\n",
              "      <th>buy_time</th>\n",
              "      <th>target</th>\n",
              "    </tr>\n",
              "  </thead>\n",
              "  <tbody>\n",
              "    <tr>\n",
              "      <th>0</th>\n",
              "      <td>1803703</td>\n",
              "      <td>2.0</td>\n",
              "      <td>1539550800</td>\n",
              "      <td>0.0</td>\n",
              "    </tr>\n",
              "    <tr>\n",
              "      <th>1</th>\n",
              "      <td>1144906</td>\n",
              "      <td>1.0</td>\n",
              "      <td>1534107600</td>\n",
              "      <td>0.0</td>\n",
              "    </tr>\n",
              "    <tr>\n",
              "      <th>2</th>\n",
              "      <td>721013</td>\n",
              "      <td>1.0</td>\n",
              "      <td>1541970000</td>\n",
              "      <td>0.0</td>\n",
              "    </tr>\n",
              "    <tr>\n",
              "      <th>3</th>\n",
              "      <td>721013</td>\n",
              "      <td>4.0</td>\n",
              "      <td>1542574800</td>\n",
              "      <td>1.0</td>\n",
              "    </tr>\n",
              "    <tr>\n",
              "      <th>4</th>\n",
              "      <td>2741595</td>\n",
              "      <td>2.0</td>\n",
              "      <td>1531688400</td>\n",
              "      <td>0.0</td>\n",
              "    </tr>\n",
              "  </tbody>\n",
              "</table>\n",
              "</div>"
            ],
            "text/plain": [
              "        id  vas_id    buy_time  target\n",
              "0  1803703     2.0  1539550800     0.0\n",
              "1  1144906     1.0  1534107600     0.0\n",
              "2   721013     1.0  1541970000     0.0\n",
              "3   721013     4.0  1542574800     1.0\n",
              "4  2741595     2.0  1531688400     0.0"
            ]
          },
          "metadata": {
            "tags": []
          },
          "execution_count": 133
        }
      ]
    },
    {
      "metadata": {
        "id": "XRtPjdIrbcm6",
        "colab_type": "code",
        "colab": {}
      },
      "cell_type": "code",
      "source": [
        ""
      ],
      "execution_count": 0,
      "outputs": []
    },
    {
      "metadata": {
        "id": "2J-RLv9dMa0m",
        "colab_type": "code",
        "outputId": "60aaea13-7b5c-4517-e8d4-60b6f921e4e3",
        "colab": {
          "base_uri": "https://localhost:8080/",
          "height": 33
        }
      },
      "cell_type": "code",
      "source": [
        "counts[2]"
      ],
      "execution_count": 0,
      "outputs": [
        {
          "output_type": "execute_result",
          "data": {
            "text/plain": [
              "1124718"
            ]
          },
          "metadata": {
            "tags": []
          },
          "execution_count": 117
        }
      ]
    },
    {
      "metadata": {
        "id": "pIO7X0bReKnl",
        "colab_type": "code",
        "colab": {}
      },
      "cell_type": "code",
      "source": [
        "df = dd.read_csv('drive/My Drive/СupIT_final/features.csv', sep='\\t')"
      ],
      "execution_count": 0,
      "outputs": []
    },
    {
      "metadata": {
        "id": "1PO2TirMVFWX",
        "colab_type": "code",
        "colab": {}
      },
      "cell_type": "code",
      "source": [
        "fields = ['id', 'buy_time', '0', '1', '2', '3', '4']"
      ],
      "execution_count": 0,
      "outputs": []
    },
    {
      "metadata": {
        "id": "BKsxXhFBVAD3",
        "colab_type": "code",
        "colab": {
          "base_uri": "https://localhost:8080/",
          "height": 50
        },
        "outputId": "d9efbd82-9838-4a2c-f31b-9e359e30c9bd"
      },
      "cell_type": "code",
      "source": [
        "%%time\n",
        "df = pd.read_csv('drive/My Drive/СupIT_final/features.csv', sep='\\t', usecols=fields)"
      ],
      "execution_count": 56,
      "outputs": [
        {
          "output_type": "stream",
          "text": [
            "CPU times: user 2min 36s, sys: 9.62 s, total: 2min 46s\n",
            "Wall time: 3min 22s\n"
          ],
          "name": "stdout"
        }
      ]
    },
    {
      "metadata": {
        "id": "0xhFYe1Caw47",
        "colab_type": "code",
        "colab": {
          "base_uri": "https://localhost:8080/",
          "height": 33
        },
        "outputId": "eff7c5a5-3187-4148-e406-2170d23ed9a0"
      },
      "cell_type": "code",
      "source": [
        "df.shape"
      ],
      "execution_count": 44,
      "outputs": [
        {
          "output_type": "execute_result",
          "data": {
            "text/plain": [
              "(4512528, 4)"
            ]
          },
          "metadata": {
            "tags": []
          },
          "execution_count": 44
        }
      ]
    },
    {
      "metadata": {
        "id": "DSvJyLLBa4BT",
        "colab_type": "code",
        "colab": {
          "base_uri": "https://localhost:8080/",
          "height": 50
        },
        "outputId": "064829c8-9d52-4157-d674-d877b53e0daa"
      },
      "cell_type": "code",
      "source": [
        "%%time\n",
        "select_time = df[df['buy_time']== 1539550800]"
      ],
      "execution_count": 57,
      "outputs": [
        {
          "output_type": "stream",
          "text": [
            "CPU times: user 48.9 ms, sys: 1.95 ms, total: 50.9 ms\n",
            "Wall time: 51.6 ms\n"
          ],
          "name": "stdout"
        }
      ]
    },
    {
      "metadata": {
        "id": "UDIYU4-OfRgl",
        "colab_type": "code",
        "colab": {}
      },
      "cell_type": "code",
      "source": [
        "select_id = df[df['id']== 721013]"
      ],
      "execution_count": 0,
      "outputs": []
    },
    {
      "metadata": {
        "id": "SzZW-_FZbL2z",
        "colab_type": "code",
        "colab": {
          "base_uri": "https://localhost:8080/",
          "height": 1828
        },
        "outputId": "87773382-c4cd-40eb-d4f9-0ae8f629ae3b"
      },
      "cell_type": "code",
      "source": [
        "select_time"
      ],
      "execution_count": 59,
      "outputs": [
        {
          "output_type": "execute_result",
          "data": {
            "text/html": [
              "<div>\n",
              "<style scoped>\n",
              "    .dataframe tbody tr th:only-of-type {\n",
              "        vertical-align: middle;\n",
              "    }\n",
              "\n",
              "    .dataframe tbody tr th {\n",
              "        vertical-align: top;\n",
              "    }\n",
              "\n",
              "    .dataframe thead th {\n",
              "        text-align: right;\n",
              "    }\n",
              "</style>\n",
              "<table border=\"1\" class=\"dataframe\">\n",
              "  <thead>\n",
              "    <tr style=\"text-align: right;\">\n",
              "      <th></th>\n",
              "      <th>id</th>\n",
              "      <th>buy_time</th>\n",
              "      <th>0</th>\n",
              "      <th>1</th>\n",
              "      <th>2</th>\n",
              "      <th>3</th>\n",
              "      <th>4</th>\n",
              "    </tr>\n",
              "  </thead>\n",
              "  <tbody>\n",
              "    <tr>\n",
              "      <th>1</th>\n",
              "      <td>2014722</td>\n",
              "      <td>1539550800</td>\n",
              "      <td>36.690029</td>\n",
              "      <td>152.400888</td>\n",
              "      <td>448.069214</td>\n",
              "      <td>563.833202</td>\n",
              "      <td>463.841754</td>\n",
              "    </tr>\n",
              "    <tr>\n",
              "      <th>27</th>\n",
              "      <td>2085648</td>\n",
              "      <td>1539550800</td>\n",
              "      <td>68.440029</td>\n",
              "      <td>260.430888</td>\n",
              "      <td>54.499214</td>\n",
              "      <td>207.823202</td>\n",
              "      <td>49.081754</td>\n",
              "    </tr>\n",
              "    <tr>\n",
              "      <th>30</th>\n",
              "      <td>2095475</td>\n",
              "      <td>1539550800</td>\n",
              "      <td>-88.319971</td>\n",
              "      <td>-365.779112</td>\n",
              "      <td>-102.260786</td>\n",
              "      <td>-418.386798</td>\n",
              "      <td>-107.678246</td>\n",
              "    </tr>\n",
              "    <tr>\n",
              "      <th>73</th>\n",
              "      <td>2326392</td>\n",
              "      <td>1539550800</td>\n",
              "      <td>-74.009971</td>\n",
              "      <td>40.220888</td>\n",
              "      <td>-87.950786</td>\n",
              "      <td>13.033202</td>\n",
              "      <td>-93.368246</td>\n",
              "    </tr>\n",
              "    <tr>\n",
              "      <th>141</th>\n",
              "      <td>2522732</td>\n",
              "      <td>1539550800</td>\n",
              "      <td>-93.749971</td>\n",
              "      <td>-64.949112</td>\n",
              "      <td>-99.210786</td>\n",
              "      <td>-100.596798</td>\n",
              "      <td>-104.628246</td>\n",
              "    </tr>\n",
              "    <tr>\n",
              "      <th>166</th>\n",
              "      <td>2543447</td>\n",
              "      <td>1539550800</td>\n",
              "      <td>-79.019971</td>\n",
              "      <td>-9.519112</td>\n",
              "      <td>-80.250786</td>\n",
              "      <td>31.093202</td>\n",
              "      <td>-85.668246</td>\n",
              "    </tr>\n",
              "    <tr>\n",
              "      <th>199</th>\n",
              "      <td>2820747</td>\n",
              "      <td>1539550800</td>\n",
              "      <td>-96.799971</td>\n",
              "      <td>1286.740888</td>\n",
              "      <td>7.029214</td>\n",
              "      <td>2533.213202</td>\n",
              "      <td>1.611754</td>\n",
              "    </tr>\n",
              "    <tr>\n",
              "      <th>267</th>\n",
              "      <td>3486819</td>\n",
              "      <td>1539550800</td>\n",
              "      <td>-58.659971</td>\n",
              "      <td>-120.049112</td>\n",
              "      <td>-63.710786</td>\n",
              "      <td>-137.096798</td>\n",
              "      <td>-69.128246</td>\n",
              "    </tr>\n",
              "    <tr>\n",
              "      <th>300</th>\n",
              "      <td>3556316</td>\n",
              "      <td>1539550800</td>\n",
              "      <td>-96.799971</td>\n",
              "      <td>-183.599112</td>\n",
              "      <td>-110.740786</td>\n",
              "      <td>-236.206798</td>\n",
              "      <td>-116.158246</td>\n",
              "    </tr>\n",
              "    <tr>\n",
              "      <th>383</th>\n",
              "      <td>3642352</td>\n",
              "      <td>1539550800</td>\n",
              "      <td>-96.799971</td>\n",
              "      <td>-408.179112</td>\n",
              "      <td>-110.740786</td>\n",
              "      <td>-460.786798</td>\n",
              "      <td>-116.158246</td>\n",
              "    </tr>\n",
              "    <tr>\n",
              "      <th>408</th>\n",
              "      <td>3667088</td>\n",
              "      <td>1539550800</td>\n",
              "      <td>-12.049971</td>\n",
              "      <td>-167.149112</td>\n",
              "      <td>-25.990786</td>\n",
              "      <td>-219.756798</td>\n",
              "      <td>-31.408246</td>\n",
              "    </tr>\n",
              "    <tr>\n",
              "      <th>469</th>\n",
              "      <td>3728601</td>\n",
              "      <td>1539550800</td>\n",
              "      <td>-96.799971</td>\n",
              "      <td>-230.209112</td>\n",
              "      <td>-110.740786</td>\n",
              "      <td>-282.816798</td>\n",
              "      <td>-116.158246</td>\n",
              "    </tr>\n",
              "    <tr>\n",
              "      <th>485</th>\n",
              "      <td>3739460</td>\n",
              "      <td>1539550800</td>\n",
              "      <td>157.440029</td>\n",
              "      <td>-149.699112</td>\n",
              "      <td>147.739214</td>\n",
              "      <td>-196.796798</td>\n",
              "      <td>142.321754</td>\n",
              "    </tr>\n",
              "    <tr>\n",
              "      <th>555</th>\n",
              "      <td>3813998</td>\n",
              "      <td>1539550800</td>\n",
              "      <td>431.170029</td>\n",
              "      <td>216.750888</td>\n",
              "      <td>1040.089214</td>\n",
              "      <td>1736.123202</td>\n",
              "      <td>1034.671754</td>\n",
              "    </tr>\n",
              "    <tr>\n",
              "      <th>578</th>\n",
              "      <td>3836562</td>\n",
              "      <td>1539550800</td>\n",
              "      <td>-96.799971</td>\n",
              "      <td>-48.439112</td>\n",
              "      <td>-81.080786</td>\n",
              "      <td>-71.386798</td>\n",
              "      <td>-86.498246</td>\n",
              "    </tr>\n",
              "    <tr>\n",
              "      <th>614</th>\n",
              "      <td>3873666</td>\n",
              "      <td>1539550800</td>\n",
              "      <td>-79.849971</td>\n",
              "      <td>299.460888</td>\n",
              "      <td>-84.900786</td>\n",
              "      <td>281.143202</td>\n",
              "      <td>-90.318246</td>\n",
              "    </tr>\n",
              "    <tr>\n",
              "      <th>764</th>\n",
              "      <td>4021810</td>\n",
              "      <td>1539550800</td>\n",
              "      <td>-96.799971</td>\n",
              "      <td>-153.939112</td>\n",
              "      <td>-110.740786</td>\n",
              "      <td>-206.546798</td>\n",
              "      <td>-116.158246</td>\n",
              "    </tr>\n",
              "    <tr>\n",
              "      <th>827</th>\n",
              "      <td>4077161</td>\n",
              "      <td>1539550800</td>\n",
              "      <td>-96.799971</td>\n",
              "      <td>-397.169112</td>\n",
              "      <td>-110.740786</td>\n",
              "      <td>-449.776798</td>\n",
              "      <td>-116.158246</td>\n",
              "    </tr>\n",
              "    <tr>\n",
              "      <th>891</th>\n",
              "      <td>4124692</td>\n",
              "      <td>1539550800</td>\n",
              "      <td>-90.439971</td>\n",
              "      <td>77.000888</td>\n",
              "      <td>-100.140786</td>\n",
              "      <td>87.963202</td>\n",
              "      <td>-105.558246</td>\n",
              "    </tr>\n",
              "    <tr>\n",
              "      <th>895</th>\n",
              "      <td>4127843</td>\n",
              "      <td>1539550800</td>\n",
              "      <td>-54.429971</td>\n",
              "      <td>-23.859112</td>\n",
              "      <td>-48.050786</td>\n",
              "      <td>50.533202</td>\n",
              "      <td>225.341754</td>\n",
              "    </tr>\n",
              "    <tr>\n",
              "      <th>948</th>\n",
              "      <td>4164457</td>\n",
              "      <td>1539550800</td>\n",
              "      <td>-67.139971</td>\n",
              "      <td>163.850888</td>\n",
              "      <td>-81.080786</td>\n",
              "      <td>111.243202</td>\n",
              "      <td>-86.498246</td>\n",
              "    </tr>\n",
              "    <tr>\n",
              "      <th>951</th>\n",
              "      <td>4165948</td>\n",
              "      <td>1539550800</td>\n",
              "      <td>137.780029</td>\n",
              "      <td>191.730888</td>\n",
              "      <td>123.839214</td>\n",
              "      <td>155.223202</td>\n",
              "      <td>118.421754</td>\n",
              "    </tr>\n",
              "    <tr>\n",
              "      <th>1030</th>\n",
              "      <td>4222917</td>\n",
              "      <td>1539550800</td>\n",
              "      <td>7.020029</td>\n",
              "      <td>-304.359112</td>\n",
              "      <td>-6.920786</td>\n",
              "      <td>-349.346798</td>\n",
              "      <td>-12.338246</td>\n",
              "    </tr>\n",
              "    <tr>\n",
              "      <th>1049</th>\n",
              "      <td>4232893</td>\n",
              "      <td>1539550800</td>\n",
              "      <td>231.600029</td>\n",
              "      <td>1085.570888</td>\n",
              "      <td>221.899214</td>\n",
              "      <td>1079.583202</td>\n",
              "      <td>216.481754</td>\n",
              "    </tr>\n",
              "    <tr>\n",
              "      <th>1059</th>\n",
              "      <td>4238925</td>\n",
              "      <td>1539550800</td>\n",
              "      <td>-96.799971</td>\n",
              "      <td>70.640888</td>\n",
              "      <td>-101.850786</td>\n",
              "      <td>53.593202</td>\n",
              "      <td>-107.268246</td>\n",
              "    </tr>\n",
              "    <tr>\n",
              "      <th>1084</th>\n",
              "      <td>4256421</td>\n",
              "      <td>1539550800</td>\n",
              "      <td>-90.689971</td>\n",
              "      <td>282.010888</td>\n",
              "      <td>-97.010786</td>\n",
              "      <td>364.043202</td>\n",
              "      <td>-102.428246</td>\n",
              "    </tr>\n",
              "    <tr>\n",
              "      <th>1113</th>\n",
              "      <td>4278714</td>\n",
              "      <td>1539550800</td>\n",
              "      <td>-96.799971</td>\n",
              "      <td>233.340888</td>\n",
              "      <td>-110.740786</td>\n",
              "      <td>180.733202</td>\n",
              "      <td>-116.158246</td>\n",
              "    </tr>\n",
              "    <tr>\n",
              "      <th>1117</th>\n",
              "      <td>4285829</td>\n",
              "      <td>1539550800</td>\n",
              "      <td>27.800029</td>\n",
              "      <td>120.730888</td>\n",
              "      <td>22.749214</td>\n",
              "      <td>107.923202</td>\n",
              "      <td>17.331754</td>\n",
              "    </tr>\n",
              "    <tr>\n",
              "      <th>1118</th>\n",
              "      <td>4286528</td>\n",
              "      <td>1539550800</td>\n",
              "      <td>-66.369971</td>\n",
              "      <td>-341.199112</td>\n",
              "      <td>-80.310786</td>\n",
              "      <td>-393.806798</td>\n",
              "      <td>-85.728246</td>\n",
              "    </tr>\n",
              "    <tr>\n",
              "      <th>1191</th>\n",
              "      <td>4342378</td>\n",
              "      <td>1539550800</td>\n",
              "      <td>-76.459971</td>\n",
              "      <td>-387.839112</td>\n",
              "      <td>-81.510786</td>\n",
              "      <td>-415.046798</td>\n",
              "      <td>-86.928246</td>\n",
              "    </tr>\n",
              "    <tr>\n",
              "      <th>...</th>\n",
              "      <td>...</td>\n",
              "      <td>...</td>\n",
              "      <td>...</td>\n",
              "      <td>...</td>\n",
              "      <td>...</td>\n",
              "      <td>...</td>\n",
              "      <td>...</td>\n",
              "    </tr>\n",
              "    <tr>\n",
              "      <th>4511115</th>\n",
              "      <td>3207189</td>\n",
              "      <td>1539550800</td>\n",
              "      <td>-96.799971</td>\n",
              "      <td>-247.159112</td>\n",
              "      <td>-110.740786</td>\n",
              "      <td>-295.526798</td>\n",
              "      <td>-116.158246</td>\n",
              "    </tr>\n",
              "    <tr>\n",
              "      <th>4511130</th>\n",
              "      <td>3210494</td>\n",
              "      <td>1539550800</td>\n",
              "      <td>-83.069971</td>\n",
              "      <td>-191.219112</td>\n",
              "      <td>-97.010786</td>\n",
              "      <td>-243.826798</td>\n",
              "      <td>-102.428246</td>\n",
              "    </tr>\n",
              "    <tr>\n",
              "      <th>4511133</th>\n",
              "      <td>3210862</td>\n",
              "      <td>1539550800</td>\n",
              "      <td>-96.799971</td>\n",
              "      <td>-221.739112</td>\n",
              "      <td>-108.200786</td>\n",
              "      <td>-271.806798</td>\n",
              "      <td>-113.618246</td>\n",
              "    </tr>\n",
              "    <tr>\n",
              "      <th>4511164</th>\n",
              "      <td>3217855</td>\n",
              "      <td>1539550800</td>\n",
              "      <td>-96.799971</td>\n",
              "      <td>-314.959112</td>\n",
              "      <td>-110.740786</td>\n",
              "      <td>-367.566798</td>\n",
              "      <td>-116.158246</td>\n",
              "    </tr>\n",
              "    <tr>\n",
              "      <th>4511165</th>\n",
              "      <td>3217983</td>\n",
              "      <td>1539550800</td>\n",
              "      <td>-95.269971</td>\n",
              "      <td>-218.679112</td>\n",
              "      <td>-104.970786</td>\n",
              "      <td>-237.386798</td>\n",
              "      <td>-110.388246</td>\n",
              "    </tr>\n",
              "    <tr>\n",
              "      <th>4511202</th>\n",
              "      <td>3227482</td>\n",
              "      <td>1539550800</td>\n",
              "      <td>-59.279971</td>\n",
              "      <td>-263.459112</td>\n",
              "      <td>-73.220786</td>\n",
              "      <td>-252.506798</td>\n",
              "      <td>-78.638246</td>\n",
              "    </tr>\n",
              "    <tr>\n",
              "      <th>4511230</th>\n",
              "      <td>3232687</td>\n",
              "      <td>1539550800</td>\n",
              "      <td>-96.799971</td>\n",
              "      <td>-408.179112</td>\n",
              "      <td>-110.740786</td>\n",
              "      <td>-460.786798</td>\n",
              "      <td>-116.158246</td>\n",
              "    </tr>\n",
              "    <tr>\n",
              "      <th>4511233</th>\n",
              "      <td>3232848</td>\n",
              "      <td>1539550800</td>\n",
              "      <td>4.890029</td>\n",
              "      <td>79.110888</td>\n",
              "      <td>6.189214</td>\n",
              "      <td>43.433202</td>\n",
              "      <td>0.771754</td>\n",
              "    </tr>\n",
              "    <tr>\n",
              "      <th>4511238</th>\n",
              "      <td>3233685</td>\n",
              "      <td>1539550800</td>\n",
              "      <td>-96.799971</td>\n",
              "      <td>-179.369112</td>\n",
              "      <td>-110.740786</td>\n",
              "      <td>-231.976798</td>\n",
              "      <td>-116.158246</td>\n",
              "    </tr>\n",
              "    <tr>\n",
              "      <th>4511254</th>\n",
              "      <td>3238221</td>\n",
              "      <td>1539550800</td>\n",
              "      <td>-96.799971</td>\n",
              "      <td>-111.569112</td>\n",
              "      <td>-110.740786</td>\n",
              "      <td>-164.176798</td>\n",
              "      <td>-116.158246</td>\n",
              "    </tr>\n",
              "    <tr>\n",
              "      <th>4511295</th>\n",
              "      <td>3246321</td>\n",
              "      <td>1539550800</td>\n",
              "      <td>-96.799971</td>\n",
              "      <td>-402.069112</td>\n",
              "      <td>-110.740786</td>\n",
              "      <td>-383.496798</td>\n",
              "      <td>-116.158246</td>\n",
              "    </tr>\n",
              "    <tr>\n",
              "      <th>4511313</th>\n",
              "      <td>3251098</td>\n",
              "      <td>1539550800</td>\n",
              "      <td>-95.269971</td>\n",
              "      <td>136.910888</td>\n",
              "      <td>-109.210786</td>\n",
              "      <td>113.963202</td>\n",
              "      <td>-114.628246</td>\n",
              "    </tr>\n",
              "    <tr>\n",
              "      <th>4511328</th>\n",
              "      <td>3255481</td>\n",
              "      <td>1539550800</td>\n",
              "      <td>-89.169971</td>\n",
              "      <td>115.560888</td>\n",
              "      <td>-103.110786</td>\n",
              "      <td>67.193202</td>\n",
              "      <td>-108.528246</td>\n",
              "    </tr>\n",
              "    <tr>\n",
              "      <th>4511343</th>\n",
              "      <td>3258226</td>\n",
              "      <td>1539550800</td>\n",
              "      <td>-96.799971</td>\n",
              "      <td>-208.529112</td>\n",
              "      <td>-108.200786</td>\n",
              "      <td>-258.596798</td>\n",
              "      <td>-113.618246</td>\n",
              "    </tr>\n",
              "    <tr>\n",
              "      <th>4511385</th>\n",
              "      <td>3268667</td>\n",
              "      <td>1539550800</td>\n",
              "      <td>-96.799971</td>\n",
              "      <td>-314.959112</td>\n",
              "      <td>-110.740786</td>\n",
              "      <td>-367.566798</td>\n",
              "      <td>-116.158246</td>\n",
              "    </tr>\n",
              "    <tr>\n",
              "      <th>4511416</th>\n",
              "      <td>3279302</td>\n",
              "      <td>1539550800</td>\n",
              "      <td>-80.009971</td>\n",
              "      <td>-298.169112</td>\n",
              "      <td>-89.710786</td>\n",
              "      <td>-346.536798</td>\n",
              "      <td>-95.128246</td>\n",
              "    </tr>\n",
              "    <tr>\n",
              "      <th>4511432</th>\n",
              "      <td>3282041</td>\n",
              "      <td>1539550800</td>\n",
              "      <td>-96.799971</td>\n",
              "      <td>-323.429112</td>\n",
              "      <td>-110.740786</td>\n",
              "      <td>-376.036798</td>\n",
              "      <td>-116.158246</td>\n",
              "    </tr>\n",
              "    <tr>\n",
              "      <th>4511460</th>\n",
              "      <td>3287319</td>\n",
              "      <td>1539550800</td>\n",
              "      <td>-67.119971</td>\n",
              "      <td>-357.299112</td>\n",
              "      <td>-81.060786</td>\n",
              "      <td>-408.216798</td>\n",
              "      <td>-86.478246</td>\n",
              "    </tr>\n",
              "    <tr>\n",
              "      <th>4511533</th>\n",
              "      <td>3303391</td>\n",
              "      <td>1539550800</td>\n",
              "      <td>-96.799971</td>\n",
              "      <td>-299.189112</td>\n",
              "      <td>-110.740786</td>\n",
              "      <td>-351.796798</td>\n",
              "      <td>-116.158246</td>\n",
              "    </tr>\n",
              "    <tr>\n",
              "      <th>4511592</th>\n",
              "      <td>3313390</td>\n",
              "      <td>1539550800</td>\n",
              "      <td>-96.799971</td>\n",
              "      <td>-196.319112</td>\n",
              "      <td>-81.080786</td>\n",
              "      <td>-219.266798</td>\n",
              "      <td>-86.498246</td>\n",
              "    </tr>\n",
              "    <tr>\n",
              "      <th>4511630</th>\n",
              "      <td>3322161</td>\n",
              "      <td>1539550800</td>\n",
              "      <td>464.730029</td>\n",
              "      <td>444.030888</td>\n",
              "      <td>450.789214</td>\n",
              "      <td>395.663202</td>\n",
              "      <td>445.371754</td>\n",
              "    </tr>\n",
              "    <tr>\n",
              "      <th>4511635</th>\n",
              "      <td>3324395</td>\n",
              "      <td>1539550800</td>\n",
              "      <td>-92.559971</td>\n",
              "      <td>-399.699112</td>\n",
              "      <td>-105.230786</td>\n",
              "      <td>-451.036798</td>\n",
              "      <td>-110.648246</td>\n",
              "    </tr>\n",
              "    <tr>\n",
              "      <th>4511668</th>\n",
              "      <td>3331534</td>\n",
              "      <td>1539550800</td>\n",
              "      <td>-23.899971</td>\n",
              "      <td>-214.229112</td>\n",
              "      <td>-7.340786</td>\n",
              "      <td>-236.336798</td>\n",
              "      <td>-12.758246</td>\n",
              "    </tr>\n",
              "    <tr>\n",
              "      <th>4511834</th>\n",
              "      <td>3362690</td>\n",
              "      <td>1539550800</td>\n",
              "      <td>34.900029</td>\n",
              "      <td>-141.719112</td>\n",
              "      <td>20.959214</td>\n",
              "      <td>-177.386798</td>\n",
              "      <td>15.541754</td>\n",
              "    </tr>\n",
              "    <tr>\n",
              "      <th>4511836</th>\n",
              "      <td>3362936</td>\n",
              "      <td>1539550800</td>\n",
              "      <td>74.220029</td>\n",
              "      <td>-67.669112</td>\n",
              "      <td>64.519214</td>\n",
              "      <td>-27.056798</td>\n",
              "      <td>59.101754</td>\n",
              "    </tr>\n",
              "    <tr>\n",
              "      <th>4511840</th>\n",
              "      <td>3363215</td>\n",
              "      <td>1539550800</td>\n",
              "      <td>148.940029</td>\n",
              "      <td>-6.169112</td>\n",
              "      <td>134.999214</td>\n",
              "      <td>-41.826798</td>\n",
              "      <td>129.581754</td>\n",
              "    </tr>\n",
              "    <tr>\n",
              "      <th>4511871</th>\n",
              "      <td>3371109</td>\n",
              "      <td>1539550800</td>\n",
              "      <td>-96.799971</td>\n",
              "      <td>-408.179112</td>\n",
              "      <td>-104.390786</td>\n",
              "      <td>-454.436798</td>\n",
              "      <td>-109.808246</td>\n",
              "    </tr>\n",
              "    <tr>\n",
              "      <th>4511911</th>\n",
              "      <td>3378822</td>\n",
              "      <td>1539550800</td>\n",
              "      <td>-96.799971</td>\n",
              "      <td>-166.939112</td>\n",
              "      <td>-110.740786</td>\n",
              "      <td>-204.306798</td>\n",
              "      <td>-116.158246</td>\n",
              "    </tr>\n",
              "    <tr>\n",
              "      <th>4511987</th>\n",
              "      <td>3396425</td>\n",
              "      <td>1539550800</td>\n",
              "      <td>-93.749971</td>\n",
              "      <td>-286.489112</td>\n",
              "      <td>-107.690786</td>\n",
              "      <td>-339.096798</td>\n",
              "      <td>-113.108246</td>\n",
              "    </tr>\n",
              "    <tr>\n",
              "      <th>4511988</th>\n",
              "      <td>3396491</td>\n",
              "      <td>1539550800</td>\n",
              "      <td>-81.539971</td>\n",
              "      <td>-181.059112</td>\n",
              "      <td>-95.480786</td>\n",
              "      <td>-233.666798</td>\n",
              "      <td>-100.898246</td>\n",
              "    </tr>\n",
              "  </tbody>\n",
              "</table>\n",
              "<p>117731 rows × 7 columns</p>\n",
              "</div>"
            ],
            "text/plain": [
              "              id    buy_time           0            1            2  \\\n",
              "1        2014722  1539550800   36.690029   152.400888   448.069214   \n",
              "27       2085648  1539550800   68.440029   260.430888    54.499214   \n",
              "30       2095475  1539550800  -88.319971  -365.779112  -102.260786   \n",
              "73       2326392  1539550800  -74.009971    40.220888   -87.950786   \n",
              "141      2522732  1539550800  -93.749971   -64.949112   -99.210786   \n",
              "166      2543447  1539550800  -79.019971    -9.519112   -80.250786   \n",
              "199      2820747  1539550800  -96.799971  1286.740888     7.029214   \n",
              "267      3486819  1539550800  -58.659971  -120.049112   -63.710786   \n",
              "300      3556316  1539550800  -96.799971  -183.599112  -110.740786   \n",
              "383      3642352  1539550800  -96.799971  -408.179112  -110.740786   \n",
              "408      3667088  1539550800  -12.049971  -167.149112   -25.990786   \n",
              "469      3728601  1539550800  -96.799971  -230.209112  -110.740786   \n",
              "485      3739460  1539550800  157.440029  -149.699112   147.739214   \n",
              "555      3813998  1539550800  431.170029   216.750888  1040.089214   \n",
              "578      3836562  1539550800  -96.799971   -48.439112   -81.080786   \n",
              "614      3873666  1539550800  -79.849971   299.460888   -84.900786   \n",
              "764      4021810  1539550800  -96.799971  -153.939112  -110.740786   \n",
              "827      4077161  1539550800  -96.799971  -397.169112  -110.740786   \n",
              "891      4124692  1539550800  -90.439971    77.000888  -100.140786   \n",
              "895      4127843  1539550800  -54.429971   -23.859112   -48.050786   \n",
              "948      4164457  1539550800  -67.139971   163.850888   -81.080786   \n",
              "951      4165948  1539550800  137.780029   191.730888   123.839214   \n",
              "1030     4222917  1539550800    7.020029  -304.359112    -6.920786   \n",
              "1049     4232893  1539550800  231.600029  1085.570888   221.899214   \n",
              "1059     4238925  1539550800  -96.799971    70.640888  -101.850786   \n",
              "1084     4256421  1539550800  -90.689971   282.010888   -97.010786   \n",
              "1113     4278714  1539550800  -96.799971   233.340888  -110.740786   \n",
              "1117     4285829  1539550800   27.800029   120.730888    22.749214   \n",
              "1118     4286528  1539550800  -66.369971  -341.199112   -80.310786   \n",
              "1191     4342378  1539550800  -76.459971  -387.839112   -81.510786   \n",
              "...          ...         ...         ...          ...          ...   \n",
              "4511115  3207189  1539550800  -96.799971  -247.159112  -110.740786   \n",
              "4511130  3210494  1539550800  -83.069971  -191.219112   -97.010786   \n",
              "4511133  3210862  1539550800  -96.799971  -221.739112  -108.200786   \n",
              "4511164  3217855  1539550800  -96.799971  -314.959112  -110.740786   \n",
              "4511165  3217983  1539550800  -95.269971  -218.679112  -104.970786   \n",
              "4511202  3227482  1539550800  -59.279971  -263.459112   -73.220786   \n",
              "4511230  3232687  1539550800  -96.799971  -408.179112  -110.740786   \n",
              "4511233  3232848  1539550800    4.890029    79.110888     6.189214   \n",
              "4511238  3233685  1539550800  -96.799971  -179.369112  -110.740786   \n",
              "4511254  3238221  1539550800  -96.799971  -111.569112  -110.740786   \n",
              "4511295  3246321  1539550800  -96.799971  -402.069112  -110.740786   \n",
              "4511313  3251098  1539550800  -95.269971   136.910888  -109.210786   \n",
              "4511328  3255481  1539550800  -89.169971   115.560888  -103.110786   \n",
              "4511343  3258226  1539550800  -96.799971  -208.529112  -108.200786   \n",
              "4511385  3268667  1539550800  -96.799971  -314.959112  -110.740786   \n",
              "4511416  3279302  1539550800  -80.009971  -298.169112   -89.710786   \n",
              "4511432  3282041  1539550800  -96.799971  -323.429112  -110.740786   \n",
              "4511460  3287319  1539550800  -67.119971  -357.299112   -81.060786   \n",
              "4511533  3303391  1539550800  -96.799971  -299.189112  -110.740786   \n",
              "4511592  3313390  1539550800  -96.799971  -196.319112   -81.080786   \n",
              "4511630  3322161  1539550800  464.730029   444.030888   450.789214   \n",
              "4511635  3324395  1539550800  -92.559971  -399.699112  -105.230786   \n",
              "4511668  3331534  1539550800  -23.899971  -214.229112    -7.340786   \n",
              "4511834  3362690  1539550800   34.900029  -141.719112    20.959214   \n",
              "4511836  3362936  1539550800   74.220029   -67.669112    64.519214   \n",
              "4511840  3363215  1539550800  148.940029    -6.169112   134.999214   \n",
              "4511871  3371109  1539550800  -96.799971  -408.179112  -104.390786   \n",
              "4511911  3378822  1539550800  -96.799971  -166.939112  -110.740786   \n",
              "4511987  3396425  1539550800  -93.749971  -286.489112  -107.690786   \n",
              "4511988  3396491  1539550800  -81.539971  -181.059112   -95.480786   \n",
              "\n",
              "                   3            4  \n",
              "1         563.833202   463.841754  \n",
              "27        207.823202    49.081754  \n",
              "30       -418.386798  -107.678246  \n",
              "73         13.033202   -93.368246  \n",
              "141      -100.596798  -104.628246  \n",
              "166        31.093202   -85.668246  \n",
              "199      2533.213202     1.611754  \n",
              "267      -137.096798   -69.128246  \n",
              "300      -236.206798  -116.158246  \n",
              "383      -460.786798  -116.158246  \n",
              "408      -219.756798   -31.408246  \n",
              "469      -282.816798  -116.158246  \n",
              "485      -196.796798   142.321754  \n",
              "555      1736.123202  1034.671754  \n",
              "578       -71.386798   -86.498246  \n",
              "614       281.143202   -90.318246  \n",
              "764      -206.546798  -116.158246  \n",
              "827      -449.776798  -116.158246  \n",
              "891        87.963202  -105.558246  \n",
              "895        50.533202   225.341754  \n",
              "948       111.243202   -86.498246  \n",
              "951       155.223202   118.421754  \n",
              "1030     -349.346798   -12.338246  \n",
              "1049     1079.583202   216.481754  \n",
              "1059       53.593202  -107.268246  \n",
              "1084      364.043202  -102.428246  \n",
              "1113      180.733202  -116.158246  \n",
              "1117      107.923202    17.331754  \n",
              "1118     -393.806798   -85.728246  \n",
              "1191     -415.046798   -86.928246  \n",
              "...              ...          ...  \n",
              "4511115  -295.526798  -116.158246  \n",
              "4511130  -243.826798  -102.428246  \n",
              "4511133  -271.806798  -113.618246  \n",
              "4511164  -367.566798  -116.158246  \n",
              "4511165  -237.386798  -110.388246  \n",
              "4511202  -252.506798   -78.638246  \n",
              "4511230  -460.786798  -116.158246  \n",
              "4511233    43.433202     0.771754  \n",
              "4511238  -231.976798  -116.158246  \n",
              "4511254  -164.176798  -116.158246  \n",
              "4511295  -383.496798  -116.158246  \n",
              "4511313   113.963202  -114.628246  \n",
              "4511328    67.193202  -108.528246  \n",
              "4511343  -258.596798  -113.618246  \n",
              "4511385  -367.566798  -116.158246  \n",
              "4511416  -346.536798   -95.128246  \n",
              "4511432  -376.036798  -116.158246  \n",
              "4511460  -408.216798   -86.478246  \n",
              "4511533  -351.796798  -116.158246  \n",
              "4511592  -219.266798   -86.498246  \n",
              "4511630   395.663202   445.371754  \n",
              "4511635  -451.036798  -110.648246  \n",
              "4511668  -236.336798   -12.758246  \n",
              "4511834  -177.386798    15.541754  \n",
              "4511836   -27.056798    59.101754  \n",
              "4511840   -41.826798   129.581754  \n",
              "4511871  -454.436798  -109.808246  \n",
              "4511911  -204.306798  -116.158246  \n",
              "4511987  -339.096798  -113.108246  \n",
              "4511988  -233.666798  -100.898246  \n",
              "\n",
              "[117731 rows x 7 columns]"
            ]
          },
          "metadata": {
            "tags": []
          },
          "execution_count": 59
        }
      ]
    },
    {
      "metadata": {
        "id": "DIcGTcEnbdUy",
        "colab_type": "code",
        "colab": {
          "base_uri": "https://localhost:8080/",
          "height": 76
        },
        "outputId": "b5ab59dd-d0e9-4851-ed45-7e60bd281e45"
      },
      "cell_type": "code",
      "source": [
        "select_id"
      ],
      "execution_count": 60,
      "outputs": [
        {
          "output_type": "execute_result",
          "data": {
            "text/html": [
              "<div>\n",
              "<style scoped>\n",
              "    .dataframe tbody tr th:only-of-type {\n",
              "        vertical-align: middle;\n",
              "    }\n",
              "\n",
              "    .dataframe tbody tr th {\n",
              "        vertical-align: top;\n",
              "    }\n",
              "\n",
              "    .dataframe thead th {\n",
              "        text-align: right;\n",
              "    }\n",
              "</style>\n",
              "<table border=\"1\" class=\"dataframe\">\n",
              "  <thead>\n",
              "    <tr style=\"text-align: right;\">\n",
              "      <th></th>\n",
              "      <th>id</th>\n",
              "      <th>buy_time</th>\n",
              "      <th>0</th>\n",
              "      <th>1</th>\n",
              "      <th>2</th>\n",
              "      <th>3</th>\n",
              "      <th>4</th>\n",
              "    </tr>\n",
              "  </thead>\n",
              "  <tbody>\n",
              "    <tr>\n",
              "      <th>465518</th>\n",
              "      <td>721013</td>\n",
              "      <td>1542574800</td>\n",
              "      <td>-96.799971</td>\n",
              "      <td>109.460888</td>\n",
              "      <td>-110.740786</td>\n",
              "      <td>86.513202</td>\n",
              "      <td>-116.158246</td>\n",
              "    </tr>\n",
              "  </tbody>\n",
              "</table>\n",
              "</div>"
            ],
            "text/plain": [
              "            id    buy_time          0           1           2          3  \\\n",
              "465518  721013  1542574800 -96.799971  109.460888 -110.740786  86.513202   \n",
              "\n",
              "                 4  \n",
              "465518 -116.158246  "
            ]
          },
          "metadata": {
            "tags": []
          },
          "execution_count": 60
        }
      ]
    },
    {
      "metadata": {
        "id": "Sv0caHNdcwMg",
        "colab_type": "code",
        "colab": {}
      },
      "cell_type": "code",
      "source": [
        ""
      ],
      "execution_count": 0,
      "outputs": []
    },
    {
      "metadata": {
        "id": "adr748VdhxRv",
        "colab_type": "code",
        "colab": {}
      },
      "cell_type": "code",
      "source": [
        "import numpy as np\n",
        "from sklearn.model_selection import cross_val_score\n",
        "from sklearn.model_selection import StratifiedKFold, KFold\n",
        "from sklearn.feature_extraction.text import TfidfVectorizer\n",
        "from sklearn.linear_model import LogisticRegression\n",
        "from sklearn.model_selection import GridSearchCV"
      ],
      "execution_count": 0,
      "outputs": []
    },
    {
      "metadata": {
        "id": "C0kC-IDpiGqe",
        "colab_type": "code",
        "colab": {}
      },
      "cell_type": "code",
      "source": [
        ""
      ],
      "execution_count": 0,
      "outputs": []
    }
  ]
}