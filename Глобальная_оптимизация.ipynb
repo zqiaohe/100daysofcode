{
  "nbformat": 4,
  "nbformat_minor": 0,
  "metadata": {
    "colab": {
      "name": "Глобальная оптимизация.ipynb",
      "version": "0.3.2",
      "provenance": [],
      "include_colab_link": true
    },
    "kernelspec": {
      "name": "python3",
      "display_name": "Python 3"
    }
  },
  "cells": [
    {
      "cell_type": "markdown",
      "metadata": {
        "id": "view-in-github",
        "colab_type": "text"
      },
      "source": [
        "<a href=\"https://colab.research.google.com/github/zqiaohe/100daysofcode/blob/master/%D0%93%D0%BB%D0%BE%D0%B1%D0%B0%D0%BB%D1%8C%D0%BD%D0%B0%D1%8F_%D0%BE%D0%BF%D1%82%D0%B8%D0%BC%D0%B8%D0%B7%D0%B0%D1%86%D0%B8%D1%8F.ipynb\" target=\"_parent\"><img src=\"https://colab.research.google.com/assets/colab-badge.svg\" alt=\"Open In Colab\"/></a>"
      ]
    },
    {
      "metadata": {
        "id": "W75mYhBu6XTf",
        "colab_type": "text"
      },
      "cell_type": "markdown",
      "source": [
        "Глобальная оптимизация"
      ]
    },
    {
      "metadata": {
        "id": "aAFKx3jk6f4X",
        "colab_type": "code",
        "colab": {}
      },
      "cell_type": "code",
      "source": [
        "import numpy as np\n",
        "import pandas as pd\n",
        "import scipy as sc\n",
        "import math as math"
      ],
      "execution_count": 0,
      "outputs": []
    },
    {
      "metadata": {
        "id": "ENyWsitz60IX",
        "colab_type": "text"
      },
      "cell_type": "markdown",
      "source": [
        "Объявляем функцию, проверяем её работу:"
      ]
    },
    {
      "metadata": {
        "id": "SAP-zcLZ6WsZ",
        "colab_type": "code",
        "colab": {}
      },
      "cell_type": "code",
      "source": [
        "def f(x):\n",
        "  return (np.sin(x / 5) * np.exp(x / 10) + 5 * np.exp(-x / 2))"
      ],
      "execution_count": 0,
      "outputs": []
    },
    {
      "metadata": {
        "id": "56I0thFl7680",
        "colab_type": "code",
        "colab": {}
      },
      "cell_type": "code",
      "source": [
        "bounds = [(1, 30)]"
      ],
      "execution_count": 0,
      "outputs": []
    },
    {
      "metadata": {
        "id": "z3snIewR6XGR",
        "colab_type": "code",
        "colab": {
          "base_uri": "https://localhost:8080/",
          "height": 34
        },
        "outputId": "e3ff4d19-3a34-482e-a908-55c59670e44a"
      },
      "cell_type": "code",
      "source": [
        "f(9.8)"
      ],
      "execution_count": 54,
      "outputs": [
        {
          "output_type": "execute_result",
          "data": {
            "text/plain": [
              "2.502418527023665"
            ]
          },
          "metadata": {
            "tags": []
          },
          "execution_count": 54
        }
      ]
    },
    {
      "metadata": {
        "id": "NdMFsYu57IuW",
        "colab_type": "text"
      },
      "cell_type": "markdown",
      "source": [
        "scipy.optimize.differential_evolution"
      ]
    },
    {
      "metadata": {
        "id": "7vcujaFe-vPF",
        "colab_type": "code",
        "colab": {
          "base_uri": "https://localhost:8080/",
          "height": 187
        },
        "outputId": "1f8f6f59-4a25-4342-9085-5d894c466136"
      },
      "cell_type": "code",
      "source": [
        "sc.optimize.minimize(f,2) "
      ],
      "execution_count": 46,
      "outputs": [
        {
          "output_type": "execute_result",
          "data": {
            "text/plain": [
              "      fun: 1.7452682903449388\n",
              " hess_inv: array([[5.98752437]])\n",
              "      jac: array([-2.07126141e-06])\n",
              "  message: 'Optimization terminated successfully.'\n",
              "     nfev: 21\n",
              "      nit: 6\n",
              "     njev: 7\n",
              "   status: 0\n",
              "  success: True\n",
              "        x: array([4.13627618])"
            ]
          },
          "metadata": {
            "tags": []
          },
          "execution_count": 46
        }
      ]
    },
    {
      "metadata": {
        "id": "dUT17S5r7IM-",
        "colab_type": "code",
        "colab": {}
      },
      "cell_type": "code",
      "source": [
        "a = sc.optimize.differential_evolution(f,bounds)"
      ],
      "execution_count": 0,
      "outputs": []
    },
    {
      "metadata": {
        "id": "GEL8J46w9eK4",
        "colab_type": "code",
        "colab": {
          "base_uri": "https://localhost:8080/",
          "height": 136
        },
        "outputId": "f3e1c917-4987-4570-8e11-2a72d2a507da"
      },
      "cell_type": "code",
      "source": [
        "a"
      ],
      "execution_count": 48,
      "outputs": [
        {
          "output_type": "execute_result",
          "data": {
            "text/plain": [
              "     fun: -11.89889466598131\n",
              "     jac: array([0.])\n",
              " message: 'Optimization terminated successfully.'\n",
              "    nfev: 68\n",
              "     nit: 3\n",
              " success: True\n",
              "       x: array([25.88019282])"
            ]
          },
          "metadata": {
            "tags": []
          },
          "execution_count": 48
        }
      ]
    },
    {
      "metadata": {
        "id": "YO3nh5Yd9uNo",
        "colab_type": "code",
        "colab": {
          "base_uri": "https://localhost:8080/",
          "height": 34
        },
        "outputId": "380a245e-cb72-440a-d110-76ebe81add00"
      },
      "cell_type": "code",
      "source": [
        "a.fun"
      ],
      "execution_count": 50,
      "outputs": [
        {
          "output_type": "execute_result",
          "data": {
            "text/plain": [
              "-11.89889466598131"
            ]
          },
          "metadata": {
            "tags": []
          },
          "execution_count": 50
        }
      ]
    },
    {
      "metadata": {
        "id": "5az_g-ohBVjH",
        "colab_type": "code",
        "colab": {}
      },
      "cell_type": "code",
      "source": [
        "def h(x):\n",
        "  return f(x).astype(int)"
      ],
      "execution_count": 0,
      "outputs": []
    },
    {
      "metadata": {
        "id": "VjDymtyRC33d",
        "colab_type": "code",
        "colab": {}
      },
      "cell_type": "code",
      "source": [
        "x = np.arange(0, 30, 0.1)\n",
        "y = h(x)"
      ],
      "execution_count": 0,
      "outputs": []
    },
    {
      "metadata": {
        "id": "BC1HxcwZFAZe",
        "colab_type": "code",
        "colab": {}
      },
      "cell_type": "code",
      "source": [
        "import matplotlib.pyplot as plt"
      ],
      "execution_count": 0,
      "outputs": []
    },
    {
      "metadata": {
        "id": "6ryQFpgCFaCW",
        "colab_type": "code",
        "colab": {
          "base_uri": "https://localhost:8080/",
          "height": 364
        },
        "outputId": "33288f0c-e324-45d4-ad63-680112b0eda0"
      },
      "cell_type": "code",
      "source": [
        "plt.figure()\n",
        "plt.plot(x,y)\n",
        "plt.plot(x,f(x))\n",
        "plt.show"
      ],
      "execution_count": 92,
      "outputs": [
        {
          "output_type": "execute_result",
          "data": {
            "text/plain": [
              "<function matplotlib.pyplot.show>"
            ]
          },
          "metadata": {
            "tags": []
          },
          "execution_count": 92
        },
        {
          "output_type": "display_data",
          "data": {
            "image/png": "[encoded data removed]",
            "text/plain": [
              "<Figure size 576x396 with 1 Axes>"
            ]
          },
          "metadata": {
            "tags": []
          }
        }
      ]
    },
    {
      "metadata": {
        "id": "C9wge2B7H_k_",
        "colab_type": "code",
        "colab": {}
      },
      "cell_type": "code",
      "source": [
        "a = sc.optimize.differential_evolution(h,bounds)"
      ],
      "execution_count": 0,
      "outputs": []
    },
    {
      "metadata": {
        "id": "v7ruahJ0ISIJ",
        "colab_type": "code",
        "colab": {
          "base_uri": "https://localhost:8080/",
          "height": 119
        },
        "outputId": "26c5b9ba-5cf9-40e7-8f09-19e7816446ac"
      },
      "cell_type": "code",
      "source": [
        "a"
      ],
      "execution_count": 94,
      "outputs": [
        {
          "output_type": "execute_result",
          "data": {
            "text/plain": [
              "     fun: -11.0\n",
              " message: 'Optimization terminated successfully.'\n",
              "    nfev: 62\n",
              "     nit: 3\n",
              " success: True\n",
              "       x: array([24.70245409])"
            ]
          },
          "metadata": {
            "tags": []
          },
          "execution_count": 94
        }
      ]
    },
    {
      "metadata": {
        "id": "pXSQTa80FvP1",
        "colab_type": "code",
        "colab": {
          "base_uri": "https://localhost:8080/",
          "height": 187
        },
        "outputId": "a082bf67-f0b9-48d2-fb28-f75df9bb00a6"
      },
      "cell_type": "code",
      "source": [
        "sc.optimize.minimize(h ,30, method = 'BFGS') "
      ],
      "execution_count": 83,
      "outputs": [
        {
          "output_type": "execute_result",
          "data": {
            "text/plain": [
              "      fun: array([-5])\n",
              " hess_inv: array([[1]])\n",
              "      jac: array([0.])\n",
              "  message: 'Optimization terminated successfully.'\n",
              "     nfev: 3\n",
              "      nit: 0\n",
              "     njev: 1\n",
              "   status: 0\n",
              "  success: True\n",
              "        x: array([30.])"
            ]
          },
          "metadata": {
            "tags": []
          },
          "execution_count": 83
        }
      ]
    }
  ]
}